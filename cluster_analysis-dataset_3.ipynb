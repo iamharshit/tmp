{
 "cells": [
  {
   "cell_type": "code",
   "execution_count": 2,
   "id": "1700c3a8",
   "metadata": {},
   "outputs": [],
   "source": [
    "from pathlib import Path\n",
    "\n",
    "import pandas as pd\n",
    "from sklearn import preprocessing\n",
    "from sklearn.metrics import pairwise\n",
    "from scipy.cluster.hierarchy import dendrogram, linkage, fcluster\n",
    "from sklearn.cluster import KMeans\n",
    "import matplotlib.pylab as plt\n",
    "import seaborn as sns\n",
    "from pandas.plotting import parallel_coordinates\n",
    "from scipy.cluster.hierarchy import cophenet\n",
    "from scipy import stats\n",
    "from sklearn.metrics import silhouette_score\n",
    "\n",
    "from sklearn.metrics import silhouette_samples,silhouette_score\n",
    "import matplotlib.cm as cm\n",
    "\n",
    "import dmba\n",
    "\n",
    "%matplotlib inline"
   ]
  },
  {
   "cell_type": "markdown",
   "id": "0152864c",
   "metadata": {},
   "source": [
    "# Read Data"
   ]
  },
  {
   "cell_type": "code",
   "execution_count": 8,
   "id": "42153531",
   "metadata": {},
   "outputs": [],
   "source": [
    "pd.set_option('display.max_columns', 500)"
   ]
  },
  {
   "cell_type": "code",
   "execution_count": 9,
   "id": "32edb3fd",
   "metadata": {
    "scrolled": true
   },
   "outputs": [
    {
     "data": {
      "text/html": [
       "<div>\n",
       "<style scoped>\n",
       "    .dataframe tbody tr th:only-of-type {\n",
       "        vertical-align: middle;\n",
       "    }\n",
       "\n",
       "    .dataframe tbody tr th {\n",
       "        vertical-align: top;\n",
       "    }\n",
       "\n",
       "    .dataframe thead th {\n",
       "        text-align: right;\n",
       "    }\n",
       "</style>\n",
       "<table border=\"1\" class=\"dataframe\">\n",
       "  <thead>\n",
       "    <tr style=\"text-align: right;\">\n",
       "      <th></th>\n",
       "      <th>CHK_ACCT</th>\n",
       "      <th>DURATION</th>\n",
       "      <th>HISTORY</th>\n",
       "      <th>NEW_CAR</th>\n",
       "      <th>USED_CAR</th>\n",
       "      <th>FURNITURE</th>\n",
       "      <th>RADIO/TV</th>\n",
       "      <th>EDUCATION</th>\n",
       "      <th>RETRAINING</th>\n",
       "      <th>AMOUNT</th>\n",
       "      <th>SAV_ACCT</th>\n",
       "      <th>EMPLOYMENT</th>\n",
       "      <th>INSTALL_RATE</th>\n",
       "      <th>MALE_DIV</th>\n",
       "      <th>MALE_SINGLE</th>\n",
       "      <th>MALE_MAR_or_WID</th>\n",
       "      <th>CO-APPLICANT</th>\n",
       "      <th>GUARANTOR</th>\n",
       "      <th>PRESENT_RESIDENT</th>\n",
       "      <th>REAL_ESTATE</th>\n",
       "      <th>PROP_UNKN_NONE</th>\n",
       "      <th>AGE</th>\n",
       "      <th>OTHER_INSTALL</th>\n",
       "      <th>RENT</th>\n",
       "      <th>OWN_RES</th>\n",
       "      <th>NUM_CREDITS</th>\n",
       "      <th>JOB</th>\n",
       "      <th>NUM_DEPENDENTS</th>\n",
       "      <th>TELEPHONE</th>\n",
       "      <th>FOREIGN</th>\n",
       "    </tr>\n",
       "  </thead>\n",
       "  <tbody>\n",
       "    <tr>\n",
       "      <th>0</th>\n",
       "      <td>0.0</td>\n",
       "      <td>6.0</td>\n",
       "      <td>4.0</td>\n",
       "      <td>0.0</td>\n",
       "      <td>0.0</td>\n",
       "      <td>0.0</td>\n",
       "      <td>1.0</td>\n",
       "      <td>0.0</td>\n",
       "      <td>0.0</td>\n",
       "      <td>1169.0</td>\n",
       "      <td>4.0</td>\n",
       "      <td>4.0</td>\n",
       "      <td>4.0</td>\n",
       "      <td>0.0</td>\n",
       "      <td>1.0</td>\n",
       "      <td>0.0</td>\n",
       "      <td>0.0</td>\n",
       "      <td>0.0</td>\n",
       "      <td>4.0</td>\n",
       "      <td>1.0</td>\n",
       "      <td>0.0</td>\n",
       "      <td>67.0</td>\n",
       "      <td>0.0</td>\n",
       "      <td>0.0</td>\n",
       "      <td>1.0</td>\n",
       "      <td>2.0</td>\n",
       "      <td>2.0</td>\n",
       "      <td>1.0</td>\n",
       "      <td>1.0</td>\n",
       "      <td>0.0</td>\n",
       "    </tr>\n",
       "    <tr>\n",
       "      <th>1</th>\n",
       "      <td>3.0</td>\n",
       "      <td>12.0</td>\n",
       "      <td>4.0</td>\n",
       "      <td>0.0</td>\n",
       "      <td>0.0</td>\n",
       "      <td>0.0</td>\n",
       "      <td>0.0</td>\n",
       "      <td>1.0</td>\n",
       "      <td>0.0</td>\n",
       "      <td>2096.0</td>\n",
       "      <td>0.0</td>\n",
       "      <td>3.0</td>\n",
       "      <td>2.0</td>\n",
       "      <td>0.0</td>\n",
       "      <td>1.0</td>\n",
       "      <td>0.0</td>\n",
       "      <td>0.0</td>\n",
       "      <td>0.0</td>\n",
       "      <td>3.0</td>\n",
       "      <td>1.0</td>\n",
       "      <td>0.0</td>\n",
       "      <td>49.0</td>\n",
       "      <td>0.0</td>\n",
       "      <td>0.0</td>\n",
       "      <td>1.0</td>\n",
       "      <td>1.0</td>\n",
       "      <td>1.0</td>\n",
       "      <td>2.0</td>\n",
       "      <td>0.0</td>\n",
       "      <td>0.0</td>\n",
       "    </tr>\n",
       "    <tr>\n",
       "      <th>2</th>\n",
       "      <td>0.0</td>\n",
       "      <td>42.0</td>\n",
       "      <td>2.0</td>\n",
       "      <td>0.0</td>\n",
       "      <td>0.0</td>\n",
       "      <td>1.0</td>\n",
       "      <td>0.0</td>\n",
       "      <td>0.0</td>\n",
       "      <td>0.0</td>\n",
       "      <td>7882.0</td>\n",
       "      <td>0.0</td>\n",
       "      <td>3.0</td>\n",
       "      <td>2.0</td>\n",
       "      <td>0.0</td>\n",
       "      <td>1.0</td>\n",
       "      <td>0.0</td>\n",
       "      <td>0.0</td>\n",
       "      <td>1.0</td>\n",
       "      <td>4.0</td>\n",
       "      <td>0.0</td>\n",
       "      <td>0.0</td>\n",
       "      <td>45.0</td>\n",
       "      <td>0.0</td>\n",
       "      <td>0.0</td>\n",
       "      <td>0.0</td>\n",
       "      <td>1.0</td>\n",
       "      <td>2.0</td>\n",
       "      <td>2.0</td>\n",
       "      <td>0.0</td>\n",
       "      <td>0.0</td>\n",
       "    </tr>\n",
       "    <tr>\n",
       "      <th>3</th>\n",
       "      <td>3.0</td>\n",
       "      <td>36.0</td>\n",
       "      <td>2.0</td>\n",
       "      <td>0.0</td>\n",
       "      <td>0.0</td>\n",
       "      <td>0.0</td>\n",
       "      <td>0.0</td>\n",
       "      <td>1.0</td>\n",
       "      <td>0.0</td>\n",
       "      <td>9055.0</td>\n",
       "      <td>4.0</td>\n",
       "      <td>2.0</td>\n",
       "      <td>2.0</td>\n",
       "      <td>0.0</td>\n",
       "      <td>1.0</td>\n",
       "      <td>0.0</td>\n",
       "      <td>0.0</td>\n",
       "      <td>0.0</td>\n",
       "      <td>4.0</td>\n",
       "      <td>0.0</td>\n",
       "      <td>1.0</td>\n",
       "      <td>35.0</td>\n",
       "      <td>0.0</td>\n",
       "      <td>0.0</td>\n",
       "      <td>0.0</td>\n",
       "      <td>1.0</td>\n",
       "      <td>1.0</td>\n",
       "      <td>2.0</td>\n",
       "      <td>1.0</td>\n",
       "      <td>0.0</td>\n",
       "    </tr>\n",
       "    <tr>\n",
       "      <th>4</th>\n",
       "      <td>3.0</td>\n",
       "      <td>24.0</td>\n",
       "      <td>2.0</td>\n",
       "      <td>0.0</td>\n",
       "      <td>0.0</td>\n",
       "      <td>1.0</td>\n",
       "      <td>0.0</td>\n",
       "      <td>0.0</td>\n",
       "      <td>0.0</td>\n",
       "      <td>2835.0</td>\n",
       "      <td>2.0</td>\n",
       "      <td>4.0</td>\n",
       "      <td>3.0</td>\n",
       "      <td>0.0</td>\n",
       "      <td>1.0</td>\n",
       "      <td>0.0</td>\n",
       "      <td>0.0</td>\n",
       "      <td>0.0</td>\n",
       "      <td>4.0</td>\n",
       "      <td>0.0</td>\n",
       "      <td>0.0</td>\n",
       "      <td>53.0</td>\n",
       "      <td>0.0</td>\n",
       "      <td>0.0</td>\n",
       "      <td>1.0</td>\n",
       "      <td>1.0</td>\n",
       "      <td>2.0</td>\n",
       "      <td>1.0</td>\n",
       "      <td>0.0</td>\n",
       "      <td>0.0</td>\n",
       "    </tr>\n",
       "  </tbody>\n",
       "</table>\n",
       "</div>"
      ],
      "text/plain": [
       "   CHK_ACCT  DURATION  HISTORY  NEW_CAR  USED_CAR  FURNITURE  RADIO/TV  \\\n",
       "0       0.0       6.0      4.0      0.0       0.0        0.0       1.0   \n",
       "1       3.0      12.0      4.0      0.0       0.0        0.0       0.0   \n",
       "2       0.0      42.0      2.0      0.0       0.0        1.0       0.0   \n",
       "3       3.0      36.0      2.0      0.0       0.0        0.0       0.0   \n",
       "4       3.0      24.0      2.0      0.0       0.0        1.0       0.0   \n",
       "\n",
       "   EDUCATION  RETRAINING  AMOUNT  SAV_ACCT  EMPLOYMENT  INSTALL_RATE  \\\n",
       "0        0.0         0.0  1169.0       4.0         4.0           4.0   \n",
       "1        1.0         0.0  2096.0       0.0         3.0           2.0   \n",
       "2        0.0         0.0  7882.0       0.0         3.0           2.0   \n",
       "3        1.0         0.0  9055.0       4.0         2.0           2.0   \n",
       "4        0.0         0.0  2835.0       2.0         4.0           3.0   \n",
       "\n",
       "   MALE_DIV  MALE_SINGLE  MALE_MAR_or_WID  CO-APPLICANT  GUARANTOR  \\\n",
       "0       0.0          1.0              0.0           0.0        0.0   \n",
       "1       0.0          1.0              0.0           0.0        0.0   \n",
       "2       0.0          1.0              0.0           0.0        1.0   \n",
       "3       0.0          1.0              0.0           0.0        0.0   \n",
       "4       0.0          1.0              0.0           0.0        0.0   \n",
       "\n",
       "   PRESENT_RESIDENT  REAL_ESTATE  PROP_UNKN_NONE   AGE  OTHER_INSTALL  RENT  \\\n",
       "0               4.0          1.0             0.0  67.0            0.0   0.0   \n",
       "1               3.0          1.0             0.0  49.0            0.0   0.0   \n",
       "2               4.0          0.0             0.0  45.0            0.0   0.0   \n",
       "3               4.0          0.0             1.0  35.0            0.0   0.0   \n",
       "4               4.0          0.0             0.0  53.0            0.0   0.0   \n",
       "\n",
       "   OWN_RES  NUM_CREDITS  JOB  NUM_DEPENDENTS  TELEPHONE  FOREIGN  \n",
       "0      1.0          2.0  2.0             1.0        1.0      0.0  \n",
       "1      1.0          1.0  1.0             2.0        0.0      0.0  \n",
       "2      0.0          1.0  2.0             2.0        0.0      0.0  \n",
       "3      0.0          1.0  1.0             2.0        1.0      0.0  \n",
       "4      1.0          1.0  2.0             1.0        0.0      0.0  "
      ]
     },
     "execution_count": 9,
     "metadata": {},
     "output_type": "execute_result"
    }
   ],
   "source": [
    "# utilities_df = dmba.load_data('Utilities.csv')\n",
    "utilities_df = pd.read_excel('bank-credit.xls')\n",
    "\n",
    "# while not required, the conversion of integer data to float will avoid a warning when \n",
    "# applying the scale function\n",
    "utilities_df = utilities_df.apply(lambda x: x.astype('float64'))\n",
    "utilities_df.head()"
   ]
  },
  {
   "cell_type": "code",
   "execution_count": 15,
   "id": "a6660dd4",
   "metadata": {},
   "outputs": [
    {
     "data": {
      "text/plain": [
       "(1000, 30)"
      ]
     },
     "execution_count": 15,
     "metadata": {},
     "output_type": "execute_result"
    }
   ],
   "source": [
    "utilities_df.shape"
   ]
  },
  {
   "cell_type": "code",
   "execution_count": null,
   "id": "4e6ac204",
   "metadata": {},
   "outputs": [],
   "source": []
  },
  {
   "cell_type": "code",
   "execution_count": 11,
   "id": "600769d0",
   "metadata": {},
   "outputs": [
    {
     "data": {
      "text/plain": [
       "Index(['CHK_ACCT', 'DURATION', 'HISTORY', 'NEW_CAR', 'USED_CAR', 'FURNITURE',\n",
       "       'RADIO/TV', 'EDUCATION', 'RETRAINING', 'AMOUNT', 'SAV_ACCT',\n",
       "       'EMPLOYMENT', 'INSTALL_RATE', 'MALE_DIV', 'MALE_SINGLE',\n",
       "       'MALE_MAR_or_WID', 'CO-APPLICANT', 'GUARANTOR', 'PRESENT_RESIDENT',\n",
       "       'REAL_ESTATE', 'PROP_UNKN_NONE', 'AGE', 'OTHER_INSTALL', 'RENT',\n",
       "       'OWN_RES', 'NUM_CREDITS', 'JOB', 'NUM_DEPENDENTS', 'TELEPHONE',\n",
       "       'FOREIGN'],\n",
       "      dtype='object')"
      ]
     },
     "execution_count": 11,
     "metadata": {},
     "output_type": "execute_result"
    }
   ],
   "source": [
    "utilities_df.columns"
   ]
  },
  {
   "cell_type": "code",
   "execution_count": null,
   "id": "d36f1e6b",
   "metadata": {},
   "outputs": [],
   "source": []
  },
  {
   "cell_type": "code",
   "execution_count": 12,
   "id": "bd020d9a",
   "metadata": {},
   "outputs": [
    {
     "data": {
      "text/plain": [
       "<matplotlib.axes._subplots.AxesSubplot at 0x23dbef2b780>"
      ]
     },
     "execution_count": 12,
     "metadata": {},
     "output_type": "execute_result"
    },
    {
     "data": {
      "image/png": "[encoded data removed]",
      "text/plain": [
       "<Figure size 432x288 with 1 Axes>"
      ]
     },
     "metadata": {
      "needs_background": "light"
     },
     "output_type": "display_data"
    }
   ],
   "source": [
    "utilities_df.plot.scatter(x='AMOUNT', y='NUM_DEPENDENTS')"
   ]
  },
  {
   "cell_type": "code",
   "execution_count": null,
   "id": "f7cf7fec",
   "metadata": {},
   "outputs": [],
   "source": []
  },
  {
   "cell_type": "code",
   "execution_count": 13,
   "id": "0987996d",
   "metadata": {},
   "outputs": [],
   "source": [
    "# scikit-learn uses population standard deviation\n",
    "utilities_df_norm = utilities_df.apply(preprocessing.scale, axis=0)"
   ]
  },
  {
   "cell_type": "markdown",
   "id": "65bc8621",
   "metadata": {},
   "source": [
    "# Hirarchical Clustering "
   ]
  },
  {
   "cell_type": "markdown",
   "id": "2ad40b66",
   "metadata": {},
   "source": [
    "## Single Linkage"
   ]
  },
  {
   "cell_type": "code",
   "execution_count": 38,
   "id": "69cedb31",
   "metadata": {},
   "outputs": [
    {
     "data": {
      "image/png": "[encoded data removed]",
      "text/plain": [
       "<Figure size 720x432 with 1 Axes>"
      ]
     },
     "metadata": {
      "needs_background": "light"
     },
     "output_type": "display_data"
    }
   ],
   "source": [
    "Z = linkage(utilities_df_norm, method='single')\n",
    "\n",
    "fig = plt.figure(figsize=(10, 6))\n",
    "fig.subplots_adjust(bottom=0.23)\n",
    "plt.title('Hierarchical Clustering Dendrogram (Single linkage)')\n",
    "plt.xlabel('Company')\n",
    "dendrogram(Z, labels=utilities_df_norm.index, color_threshold=7.1)\n",
    "plt.axhline(y=2.75, color='black', linewidth=0.5, linestyle='dashed')\n",
    "plt.show()"
   ]
  },
  {
   "cell_type": "code",
   "execution_count": null,
   "id": "da31a1f7",
   "metadata": {},
   "outputs": [],
   "source": []
  },
  {
   "cell_type": "code",
   "execution_count": 6,
   "id": "b37b9549",
   "metadata": {},
   "outputs": [
    {
     "data": {
      "text/plain": [
       "array([0.10651676, 0.10651676, 0.40105006, ..., 0.09262348, 0.10651676,\n",
       "       0.10651676])"
      ]
     },
     "execution_count": 6,
     "metadata": {},
     "output_type": "execute_result"
    }
   ],
   "source": [
    "cophenet(Z)"
   ]
  },
  {
   "cell_type": "code",
   "execution_count": null,
   "id": "2e230667",
   "metadata": {},
   "outputs": [],
   "source": []
  },
  {
   "cell_type": "code",
   "execution_count": 17,
   "id": "a7b9b644",
   "metadata": {},
   "outputs": [
    {
     "data": {
      "text/html": [
       "<div>\n",
       "<style scoped>\n",
       "    .dataframe tbody tr th:only-of-type {\n",
       "        vertical-align: middle;\n",
       "    }\n",
       "\n",
       "    .dataframe tbody tr th {\n",
       "        vertical-align: top;\n",
       "    }\n",
       "\n",
       "    .dataframe thead th {\n",
       "        text-align: right;\n",
       "    }\n",
       "</style>\n",
       "<table border=\"1\" class=\"dataframe\">\n",
       "  <thead>\n",
       "    <tr style=\"text-align: right;\">\n",
       "      <th></th>\n",
       "      <th>n_clusters</th>\n",
       "      <th>distance</th>\n",
       "      <th>similarity</th>\n",
       "      <th>points merged</th>\n",
       "      <th>change_in_similarity_value</th>\n",
       "    </tr>\n",
       "  </thead>\n",
       "  <tbody>\n",
       "    <tr>\n",
       "      <th>1</th>\n",
       "      <td>999</td>\n",
       "      <td>0.122</td>\n",
       "      <td>98.296</td>\n",
       "      <td>[425, 521]</td>\n",
       "      <td>NaN</td>\n",
       "    </tr>\n",
       "    <tr>\n",
       "      <th>2</th>\n",
       "      <td>998</td>\n",
       "      <td>0.349</td>\n",
       "      <td>95.136</td>\n",
       "      <td>[787, 702]</td>\n",
       "      <td>96.785</td>\n",
       "    </tr>\n",
       "    <tr>\n",
       "      <th>3</th>\n",
       "      <td>997</td>\n",
       "      <td>0.426</td>\n",
       "      <td>94.070</td>\n",
       "      <td>[331, 417]</td>\n",
       "      <td>98.879</td>\n",
       "    </tr>\n",
       "    <tr>\n",
       "      <th>4</th>\n",
       "      <td>996</td>\n",
       "      <td>0.682</td>\n",
       "      <td>90.497</td>\n",
       "      <td>[491, 137]</td>\n",
       "      <td>96.202</td>\n",
       "    </tr>\n",
       "    <tr>\n",
       "      <th>5</th>\n",
       "      <td>995</td>\n",
       "      <td>0.894</td>\n",
       "      <td>87.545</td>\n",
       "      <td>[614, 239]</td>\n",
       "      <td>96.738</td>\n",
       "    </tr>\n",
       "    <tr>\n",
       "      <th>...</th>\n",
       "      <td>...</td>\n",
       "      <td>...</td>\n",
       "      <td>...</td>\n",
       "      <td>...</td>\n",
       "      <td>...</td>\n",
       "    </tr>\n",
       "    <tr>\n",
       "      <th>995</th>\n",
       "      <td>5</td>\n",
       "      <td>6.676</td>\n",
       "      <td>6.999</td>\n",
       "      <td>[1993, 773]</td>\n",
       "      <td>69.037</td>\n",
       "    </tr>\n",
       "    <tr>\n",
       "      <th>996</th>\n",
       "      <td>4</td>\n",
       "      <td>6.725</td>\n",
       "      <td>6.313</td>\n",
       "      <td>[1994, 971]</td>\n",
       "      <td>90.199</td>\n",
       "    </tr>\n",
       "    <tr>\n",
       "      <th>997</th>\n",
       "      <td>3</td>\n",
       "      <td>6.878</td>\n",
       "      <td>4.183</td>\n",
       "      <td>[1995, 574]</td>\n",
       "      <td>66.260</td>\n",
       "    </tr>\n",
       "    <tr>\n",
       "      <th>998</th>\n",
       "      <td>2</td>\n",
       "      <td>7.129</td>\n",
       "      <td>0.681</td>\n",
       "      <td>[430, 957]</td>\n",
       "      <td>16.280</td>\n",
       "    </tr>\n",
       "    <tr>\n",
       "      <th>999</th>\n",
       "      <td>1</td>\n",
       "      <td>7.178</td>\n",
       "      <td>0.000</td>\n",
       "      <td>[1996, 1997]</td>\n",
       "      <td>0.000</td>\n",
       "    </tr>\n",
       "  </tbody>\n",
       "</table>\n",
       "<p>999 rows × 5 columns</p>\n",
       "</div>"
      ],
      "text/plain": [
       "     n_clusters  distance  similarity points merged  \\\n",
       "1           999     0.122      98.296    [425, 521]   \n",
       "2           998     0.349      95.136    [787, 702]   \n",
       "3           997     0.426      94.070    [331, 417]   \n",
       "4           996     0.682      90.497    [491, 137]   \n",
       "5           995     0.894      87.545    [614, 239]   \n",
       "..          ...       ...         ...           ...   \n",
       "995           5     6.676       6.999   [1993, 773]   \n",
       "996           4     6.725       6.313   [1994, 971]   \n",
       "997           3     6.878       4.183   [1995, 574]   \n",
       "998           2     7.129       0.681    [430, 957]   \n",
       "999           1     7.178       0.000  [1996, 1997]   \n",
       "\n",
       "     change_in_similarity_value  \n",
       "1                           NaN  \n",
       "2                        96.785  \n",
       "3                        98.879  \n",
       "4                        96.202  \n",
       "5                        96.738  \n",
       "..                          ...  \n",
       "995                      69.037  \n",
       "996                      90.199  \n",
       "997                      66.260  \n",
       "998                      16.280  \n",
       "999                       0.000  \n",
       "\n",
       "[999 rows x 5 columns]"
      ]
     },
     "execution_count": 17,
     "metadata": {},
     "output_type": "execute_result"
    }
   ],
   "source": [
    "from sklearn.cluster import AgglomerativeClustering\n",
    "\n",
    "X = utilities_df_norm\n",
    "Z = linkage(utilities_df_norm, method='single')\n",
    "\n",
    "model = AgglomerativeClustering(distance_threshold=0, n_clusters=None, linkage='single')\n",
    "model = model.fit(X)\n",
    "\n",
    "import numpy as np\n",
    "sim_val = 100*(1 - model.distances_/np.max(model.distances_))\n",
    "sim_val\n",
    "\n",
    "import pandas as pd\n",
    "res = pd.DataFrame(zip([X.shape[0]-i-1 for i in range(len(model.distances_))], model.distances_.round(3), sim_val.round(3), model.children_.tolist()), columns=['n_clusters','distance', 'similarity', 'points merged'], index=range(1, len(model.distances_)+1))\n",
    "res['change_in_similarity_value'] = (res['similarity'] / res['similarity'].shift(1) *100).round(3)\n",
    "res"
   ]
  },
  {
   "cell_type": "code",
   "execution_count": 24,
   "id": "fd63b144",
   "metadata": {},
   "outputs": [
    {
     "data": {
      "text/plain": [
       "24"
      ]
     },
     "execution_count": 24,
     "metadata": {},
     "output_type": "execute_result"
    }
   ],
   "source": [
    "90-66"
   ]
  },
  {
   "cell_type": "code",
   "execution_count": 25,
   "id": "53c74fe3",
   "metadata": {},
   "outputs": [
    {
     "data": {
      "text/plain": [
       "50"
      ]
     },
     "execution_count": 25,
     "metadata": {},
     "output_type": "execute_result"
    }
   ],
   "source": [
    "66-16"
   ]
  },
  {
   "cell_type": "code",
   "execution_count": 23,
   "id": "bd022507",
   "metadata": {},
   "outputs": [
    {
     "data": {
      "text/plain": [
       "997"
      ]
     },
     "execution_count": 23,
     "metadata": {},
     "output_type": "execute_result"
    }
   ],
   "source": [
    "res['change_in_similarity_value'].diff().abs().argmax()"
   ]
  },
  {
   "cell_type": "code",
   "execution_count": null,
   "id": "27881202",
   "metadata": {},
   "outputs": [],
   "source": []
  },
  {
   "cell_type": "code",
   "execution_count": null,
   "id": "1cc64b45",
   "metadata": {},
   "outputs": [],
   "source": []
  },
  {
   "cell_type": "code",
   "execution_count": 8,
   "id": "f03d3899",
   "metadata": {},
   "outputs": [
    {
     "data": {
      "text/plain": [
       "<matplotlib.axes._subplots.AxesSubplot at 0x2936e4a14e0>"
      ]
     },
     "execution_count": 8,
     "metadata": {},
     "output_type": "execute_result"
    },
    {
     "data": {
      "image/png": "[encoded data removed]",
      "text/plain": [
       "<Figure size 432x288 with 1 Axes>"
      ]
     },
     "metadata": {
      "needs_background": "light"
     },
     "output_type": "display_data"
    }
   ],
   "source": [
    "res.change_in_similarity_value.plot.line()"
   ]
  },
  {
   "cell_type": "code",
   "execution_count": null,
   "id": "5303281a",
   "metadata": {},
   "outputs": [],
   "source": []
  },
  {
   "cell_type": "code",
   "execution_count": 33,
   "id": "e95d94bc",
   "metadata": {
    "scrolled": true
   },
   "outputs": [
    {
     "data": {
      "text/plain": [
       "array([1, 1, 1, 1, 1, 1, 1, 1, 1, 1, 1, 1, 1, 1, 1, 1, 1, 1, 1, 1, 1, 1,\n",
       "       1, 1, 1, 1, 1, 1, 1, 1, 1, 1, 1, 1, 1, 1, 1, 1, 1, 1, 1, 1, 1, 1,\n",
       "       1, 1, 1, 1, 1, 1, 1, 1, 1, 1, 1, 1, 1, 1, 1, 1, 1, 1, 1, 1, 1, 1,\n",
       "       1, 1, 1, 1, 1, 1, 1, 1, 1, 1, 1, 1, 1, 1, 1, 1, 1, 1, 1, 1, 1, 1,\n",
       "       1, 1, 1, 1, 1, 1, 1, 1, 1, 1, 1, 1, 1, 1, 1, 1, 1, 1, 1, 1, 1, 1,\n",
       "       1, 1, 1, 1, 1, 1, 1, 1, 1, 1, 1, 1, 1, 1, 1, 1, 1, 1, 1, 1, 1, 1,\n",
       "       1, 1, 1, 1, 1, 1, 1, 1, 1, 1, 1, 1, 1, 1, 1, 1, 1, 1, 1, 1, 1, 1,\n",
       "       1, 1, 1, 1, 1, 1, 1, 1, 1, 1, 1, 1, 1, 1, 1, 1, 1, 1, 1, 1, 1, 1,\n",
       "       1, 1, 1, 1, 1, 1, 1, 1, 1, 1, 1, 1, 1, 1, 1, 1, 1, 1, 1, 1, 1, 1,\n",
       "       1, 1, 1, 1, 1, 1, 1, 1, 1, 1, 1, 1, 1, 1, 1, 1, 1, 1, 1, 1, 1, 1,\n",
       "       1, 1, 1, 1, 1, 1, 1, 1, 1, 1, 1, 1, 1, 1, 1, 1, 1, 1, 1, 1, 1, 1,\n",
       "       1, 1, 1, 1, 1, 1, 1, 1, 1, 1, 1, 1, 1, 1, 1, 1, 1, 1, 1, 1, 1, 1,\n",
       "       1, 1, 1, 1, 1, 1, 1, 1, 1, 1, 1, 1, 1, 1, 1, 1, 1, 1, 1, 1, 1, 1,\n",
       "       1, 1, 1, 1, 1, 1, 1, 1, 1, 1, 1, 1, 1, 1, 1, 1, 1, 1, 1, 1, 1, 1,\n",
       "       1, 1, 1, 1, 1, 1, 1, 1, 1, 1, 1, 1, 1, 1, 1, 1, 1, 1, 1, 1, 1, 1,\n",
       "       1, 1, 1, 1, 1, 1, 1, 1, 1, 1, 1, 1, 1, 1, 1, 1, 1, 1, 1, 1, 1, 1,\n",
       "       1, 1, 1, 1, 1, 1, 1, 1, 1, 1, 1, 1, 1, 1, 1, 1, 1, 1, 1, 1, 1, 1,\n",
       "       1, 1, 1, 1, 1, 1, 1, 1, 1, 1, 1, 1, 1, 1, 1, 1, 1, 1, 1, 1, 1, 1,\n",
       "       1, 1, 1, 1, 1, 1, 1, 1, 1, 1, 1, 1, 1, 1, 1, 1, 1, 1, 1, 1, 1, 1,\n",
       "       1, 1, 1, 1, 1, 1, 1, 1, 1, 1, 1, 1, 2, 1, 1, 1, 1, 1, 1, 1, 1, 1,\n",
       "       1, 1, 1, 1, 1, 1, 1, 1, 1, 1, 1, 1, 1, 1, 1, 1, 1, 1, 1, 1, 1, 1,\n",
       "       1, 1, 1, 1, 1, 1, 1, 1, 1, 1, 1, 1, 1, 1, 1, 1, 1, 1, 1, 1, 1, 1,\n",
       "       1, 1, 1, 1, 1, 1, 1, 1, 1, 1, 1, 1, 1, 1, 1, 1, 1, 1, 1, 1, 1, 1,\n",
       "       1, 1, 1, 1, 1, 1, 1, 1, 1, 1, 1, 1, 1, 1, 1, 1, 1, 1, 1, 1, 1, 1,\n",
       "       1, 1, 1, 1, 1, 1, 1, 1, 1, 1, 1, 1, 1, 1, 1, 1, 1, 1, 1, 1, 1, 1,\n",
       "       1, 1, 1, 1, 1, 1, 1, 1, 1, 1, 1, 1, 1, 1, 1, 1, 1, 1, 1, 1, 1, 1,\n",
       "       1, 1, 1, 1, 1, 1, 1, 1, 1, 1, 1, 1, 1, 1, 1, 1, 1, 1, 1, 1, 1, 1,\n",
       "       1, 1, 1, 1, 1, 1, 1, 1, 1, 1, 1, 1, 1, 1, 1, 1, 1, 1, 1, 1, 1, 1,\n",
       "       1, 1, 1, 1, 1, 1, 1, 1, 1, 1, 1, 1, 1, 1, 1, 1, 1, 1, 1, 1, 1, 1,\n",
       "       1, 1, 1, 1, 1, 1, 1, 1, 1, 1, 1, 1, 1, 1, 1, 1, 1, 1, 1, 1, 1, 1,\n",
       "       1, 1, 1, 1, 1, 1, 1, 1, 1, 1, 1, 1, 1, 1, 1, 1, 1, 1, 1, 1, 1, 1,\n",
       "       1, 1, 1, 1, 1, 1, 1, 1, 1, 1, 1, 1, 1, 1, 1, 1, 1, 1, 1, 1, 1, 1,\n",
       "       1, 1, 1, 1, 1, 1, 1, 1, 1, 1, 1, 1, 1, 1, 1, 1, 1, 1, 1, 1, 1, 1,\n",
       "       1, 1, 1, 1, 1, 1, 1, 1, 1, 1, 1, 1, 1, 1, 1, 1, 1, 1, 1, 1, 1, 1,\n",
       "       1, 1, 1, 1, 1, 1, 1, 1, 1, 1, 1, 1, 1, 1, 1, 1, 1, 1, 1, 1, 1, 1,\n",
       "       1, 1, 1, 1, 1, 1, 1, 1, 1, 1, 1, 1, 1, 1, 1, 1, 1, 1, 1, 1, 1, 1,\n",
       "       1, 1, 1, 1, 1, 1, 1, 1, 1, 1, 1, 1, 1, 1, 1, 1, 1, 1, 1, 1, 1, 1,\n",
       "       1, 1, 1, 1, 1, 1, 1, 1, 1, 1, 1, 1, 1, 1, 1, 1, 1, 1, 1, 1, 1, 1,\n",
       "       1, 1, 1, 1, 1, 1, 1, 1, 1, 1, 1, 1, 1, 1, 1, 1, 1, 1, 1, 1, 1, 1,\n",
       "       1, 1, 1, 1, 1, 1, 1, 1, 1, 1, 1, 1, 1, 1, 1, 1, 1, 1, 1, 1, 1, 1,\n",
       "       1, 1, 1, 1, 1, 1, 1, 1, 1, 1, 1, 1, 1, 1, 1, 1, 1, 1, 1, 1, 1, 1,\n",
       "       1, 1, 1, 1, 1, 1, 1, 1, 1, 1, 1, 1, 1, 1, 1, 1, 1, 1, 1, 1, 1, 1,\n",
       "       1, 1, 1, 1, 1, 1, 1, 1, 1, 1, 1, 1, 1, 1, 1, 1, 1, 1, 1, 1, 1, 1,\n",
       "       1, 1, 1, 1, 1, 1, 1, 1, 1, 1, 1, 2, 1, 1, 1, 1, 1, 1, 1, 1, 1, 1,\n",
       "       1, 1, 1, 1, 1, 1, 1, 1, 1, 1, 1, 1, 1, 1, 1, 1, 1, 1, 1, 1, 1, 1,\n",
       "       1, 1, 1, 1, 1, 1, 1, 1, 1, 1], dtype=int32)"
      ]
     },
     "execution_count": 33,
     "metadata": {},
     "output_type": "execute_result"
    }
   ],
   "source": [
    "memb = fcluster(linkage(utilities_df_norm, 'single'), 2, criterion='maxclust')\n",
    "memb"
   ]
  },
  {
   "cell_type": "code",
   "execution_count": 34,
   "id": "53545a9c",
   "metadata": {},
   "outputs": [
    {
     "data": {
      "text/plain": [
       "1    998\n",
       "2      2\n",
       "dtype: int64"
      ]
     },
     "execution_count": 34,
     "metadata": {},
     "output_type": "execute_result"
    }
   ],
   "source": [
    "pd.Series(memb).value_counts()"
   ]
  },
  {
   "cell_type": "code",
   "execution_count": null,
   "id": "42c6145e",
   "metadata": {},
   "outputs": [],
   "source": []
  },
  {
   "cell_type": "code",
   "execution_count": null,
   "id": "1d543c31",
   "metadata": {},
   "outputs": [],
   "source": []
  },
  {
   "cell_type": "code",
   "execution_count": 10,
   "id": "6149a44f",
   "metadata": {},
   "outputs": [],
   "source": [
    "# memb = pd.Series(memb, index=utilities_df_norm.index)\n",
    "# for key, item in memb.groupby(memb):\n",
    "#     print(key, ': ', ', '.join(item.index))"
   ]
  },
  {
   "cell_type": "code",
   "execution_count": 35,
   "id": "d7c67e34",
   "metadata": {},
   "outputs": [],
   "source": [
    "idx_to_color = {1: 'red', 2: 'blue'}\n",
    "\n",
    "color = [idx_to_color[m] for m in memb]"
   ]
  },
  {
   "cell_type": "code",
   "execution_count": 36,
   "id": "6e7da9d4",
   "metadata": {},
   "outputs": [
    {
     "data": {
      "text/plain": [
       "<matplotlib.axes._subplots.AxesSubplot at 0x23dbf467ef0>"
      ]
     },
     "execution_count": 36,
     "metadata": {},
     "output_type": "execute_result"
    },
    {
     "data": {
      "image/png": "[encoded data removed]",
      "text/plain": [
       "<Figure size 432x288 with 1 Axes>"
      ]
     },
     "metadata": {
      "needs_background": "light"
     },
     "output_type": "display_data"
    }
   ],
   "source": [
    "utilities_df.plot.scatter(x='AMOUNT', y='NUM_DEPENDENTS')"
   ]
  },
  {
   "cell_type": "code",
   "execution_count": null,
   "id": "3a3b9370",
   "metadata": {},
   "outputs": [],
   "source": []
  },
  {
   "cell_type": "markdown",
   "id": "b7dbcd3a",
   "metadata": {},
   "source": [
    "## Average Linkage"
   ]
  },
  {
   "cell_type": "code",
   "execution_count": 37,
   "id": "70f5a4e3",
   "metadata": {},
   "outputs": [
    {
     "data": {
      "image/png": "[encoded data removed]",
      "text/plain": [
       "<Figure size 720x432 with 1 Axes>"
      ]
     },
     "metadata": {
      "needs_background": "light"
     },
     "output_type": "display_data"
    }
   ],
   "source": [
    "Z = linkage(utilities_df_norm, method='average')\n",
    "\n",
    "fig = plt.figure(figsize=(10, 6))\n",
    "fig.subplots_adjust(bottom=0.23)\n",
    "plt.title('Hierarchical Clustering Dendrogram (Average linkage)')\n",
    "plt.xlabel('Company')\n",
    "dendrogram(Z, labels=utilities_df_norm.index, color_threshold=1.5)\n",
    "plt.axhline(y=3.6, color='black', linewidth=0.5, linestyle='dashed')\n",
    "plt.show()"
   ]
  },
  {
   "cell_type": "code",
   "execution_count": null,
   "id": "9426c4d4",
   "metadata": {},
   "outputs": [],
   "source": []
  },
  {
   "cell_type": "code",
   "execution_count": 39,
   "id": "0162e055",
   "metadata": {},
   "outputs": [
    {
     "data": {
      "text/html": [
       "<div>\n",
       "<style scoped>\n",
       "    .dataframe tbody tr th:only-of-type {\n",
       "        vertical-align: middle;\n",
       "    }\n",
       "\n",
       "    .dataframe tbody tr th {\n",
       "        vertical-align: top;\n",
       "    }\n",
       "\n",
       "    .dataframe thead th {\n",
       "        text-align: right;\n",
       "    }\n",
       "</style>\n",
       "<table border=\"1\" class=\"dataframe\">\n",
       "  <thead>\n",
       "    <tr style=\"text-align: right;\">\n",
       "      <th></th>\n",
       "      <th>n_clusters</th>\n",
       "      <th>distance</th>\n",
       "      <th>similarity</th>\n",
       "      <th>points merged</th>\n",
       "      <th>change_in_similarity_value</th>\n",
       "    </tr>\n",
       "  </thead>\n",
       "  <tbody>\n",
       "    <tr>\n",
       "      <th>1</th>\n",
       "      <td>999</td>\n",
       "      <td>0.122</td>\n",
       "      <td>98.818</td>\n",
       "      <td>[425, 521]</td>\n",
       "      <td>NaN</td>\n",
       "    </tr>\n",
       "    <tr>\n",
       "      <th>2</th>\n",
       "      <td>998</td>\n",
       "      <td>0.349</td>\n",
       "      <td>96.625</td>\n",
       "      <td>[702, 787]</td>\n",
       "      <td>97.781</td>\n",
       "    </tr>\n",
       "    <tr>\n",
       "      <th>3</th>\n",
       "      <td>997</td>\n",
       "      <td>0.426</td>\n",
       "      <td>95.885</td>\n",
       "      <td>[331, 417]</td>\n",
       "      <td>99.234</td>\n",
       "    </tr>\n",
       "    <tr>\n",
       "      <th>4</th>\n",
       "      <td>996</td>\n",
       "      <td>0.682</td>\n",
       "      <td>93.406</td>\n",
       "      <td>[137, 491]</td>\n",
       "      <td>97.415</td>\n",
       "    </tr>\n",
       "    <tr>\n",
       "      <th>5</th>\n",
       "      <td>995</td>\n",
       "      <td>0.894</td>\n",
       "      <td>91.358</td>\n",
       "      <td>[239, 614]</td>\n",
       "      <td>97.807</td>\n",
       "    </tr>\n",
       "    <tr>\n",
       "      <th>...</th>\n",
       "      <td>...</td>\n",
       "      <td>...</td>\n",
       "      <td>...</td>\n",
       "      <td>...</td>\n",
       "      <td>...</td>\n",
       "    </tr>\n",
       "    <tr>\n",
       "      <th>995</th>\n",
       "      <td>5</td>\n",
       "      <td>8.953</td>\n",
       "      <td>13.455</td>\n",
       "      <td>[1963, 1987]</td>\n",
       "      <td>92.602</td>\n",
       "    </tr>\n",
       "    <tr>\n",
       "      <th>996</th>\n",
       "      <td>4</td>\n",
       "      <td>9.338</td>\n",
       "      <td>9.736</td>\n",
       "      <td>[1993, 1994]</td>\n",
       "      <td>72.360</td>\n",
       "    </tr>\n",
       "    <tr>\n",
       "      <th>997</th>\n",
       "      <td>3</td>\n",
       "      <td>9.452</td>\n",
       "      <td>8.637</td>\n",
       "      <td>[1949, 1995]</td>\n",
       "      <td>88.712</td>\n",
       "    </tr>\n",
       "    <tr>\n",
       "      <th>998</th>\n",
       "      <td>2</td>\n",
       "      <td>9.524</td>\n",
       "      <td>7.933</td>\n",
       "      <td>[574, 1984]</td>\n",
       "      <td>91.849</td>\n",
       "    </tr>\n",
       "    <tr>\n",
       "      <th>999</th>\n",
       "      <td>1</td>\n",
       "      <td>10.345</td>\n",
       "      <td>0.000</td>\n",
       "      <td>[1996, 1997]</td>\n",
       "      <td>0.000</td>\n",
       "    </tr>\n",
       "  </tbody>\n",
       "</table>\n",
       "<p>999 rows × 5 columns</p>\n",
       "</div>"
      ],
      "text/plain": [
       "     n_clusters  distance  similarity points merged  \\\n",
       "1           999     0.122      98.818    [425, 521]   \n",
       "2           998     0.349      96.625    [702, 787]   \n",
       "3           997     0.426      95.885    [331, 417]   \n",
       "4           996     0.682      93.406    [137, 491]   \n",
       "5           995     0.894      91.358    [239, 614]   \n",
       "..          ...       ...         ...           ...   \n",
       "995           5     8.953      13.455  [1963, 1987]   \n",
       "996           4     9.338       9.736  [1993, 1994]   \n",
       "997           3     9.452       8.637  [1949, 1995]   \n",
       "998           2     9.524       7.933   [574, 1984]   \n",
       "999           1    10.345       0.000  [1996, 1997]   \n",
       "\n",
       "     change_in_similarity_value  \n",
       "1                           NaN  \n",
       "2                        97.781  \n",
       "3                        99.234  \n",
       "4                        97.415  \n",
       "5                        97.807  \n",
       "..                          ...  \n",
       "995                      92.602  \n",
       "996                      72.360  \n",
       "997                      88.712  \n",
       "998                      91.849  \n",
       "999                       0.000  \n",
       "\n",
       "[999 rows x 5 columns]"
      ]
     },
     "execution_count": 39,
     "metadata": {},
     "output_type": "execute_result"
    }
   ],
   "source": [
    "from sklearn.cluster import AgglomerativeClustering\n",
    "\n",
    "X = utilities_df_norm\n",
    "Z = linkage(utilities_df_norm, method='average')\n",
    "\n",
    "model = AgglomerativeClustering(distance_threshold=0, n_clusters=None, linkage='average')\n",
    "model = model.fit(X)\n",
    "\n",
    "import numpy as np\n",
    "sim_val = 100*(1 - model.distances_/np.max(model.distances_))\n",
    "sim_val\n",
    "\n",
    "import pandas as pd\n",
    "res = pd.DataFrame(zip([X.shape[0]-i-1 for i in range(len(model.distances_))], model.distances_.round(3), sim_val.round(3), model.children_.tolist()), columns=['n_clusters','distance', 'similarity', 'points merged'], index=range(1, len(model.distances_)+1))\n",
    "res['change_in_similarity_value'] = (res['similarity'] / res['similarity'].shift(1) *100).round(3)\n",
    "res"
   ]
  },
  {
   "cell_type": "code",
   "execution_count": 18,
   "id": "852d4038",
   "metadata": {},
   "outputs": [
    {
     "data": {
      "text/plain": [
       "(1500,)"
      ]
     },
     "execution_count": 18,
     "metadata": {},
     "output_type": "execute_result"
    }
   ],
   "source": [
    "model.labels_.shape"
   ]
  },
  {
   "cell_type": "code",
   "execution_count": null,
   "id": "e01f974d",
   "metadata": {},
   "outputs": [],
   "source": []
  },
  {
   "cell_type": "code",
   "execution_count": 19,
   "id": "be94c62a",
   "metadata": {},
   "outputs": [
    {
     "data": {
      "text/plain": [
       "17"
      ]
     },
     "execution_count": 19,
     "metadata": {},
     "output_type": "execute_result"
    }
   ],
   "source": [
    "98 - 81"
   ]
  },
  {
   "cell_type": "code",
   "execution_count": null,
   "id": "088012b0",
   "metadata": {},
   "outputs": [],
   "source": [
    "95 - 74"
   ]
  },
  {
   "cell_type": "code",
   "execution_count": null,
   "id": "54c15b95",
   "metadata": {},
   "outputs": [],
   "source": [
    "81 - 74"
   ]
  },
  {
   "cell_type": "code",
   "execution_count": null,
   "id": "58c21d37",
   "metadata": {},
   "outputs": [],
   "source": []
  },
  {
   "cell_type": "code",
   "execution_count": 40,
   "id": "61a67faf",
   "metadata": {},
   "outputs": [
    {
     "data": {
      "text/plain": [
       "<matplotlib.axes._subplots.AxesSubplot at 0x23dbf447518>"
      ]
     },
     "execution_count": 40,
     "metadata": {},
     "output_type": "execute_result"
    },
    {
     "data": {
      "image/png": "[encoded data removed]",
      "text/plain": [
       "<Figure size 432x288 with 1 Axes>"
      ]
     },
     "metadata": {
      "needs_background": "light"
     },
     "output_type": "display_data"
    }
   ],
   "source": [
    "res.change_in_similarity_value.plot.line()"
   ]
  },
  {
   "cell_type": "code",
   "execution_count": null,
   "id": "9f4fbb51",
   "metadata": {},
   "outputs": [],
   "source": []
  },
  {
   "cell_type": "code",
   "execution_count": 41,
   "id": "09191866",
   "metadata": {
    "scrolled": true
   },
   "outputs": [
    {
     "data": {
      "text/plain": [
       "array([1, 1, 1, 1, 1, 1, 1, 1, 1, 1, 1, 1, 1, 1, 1, 1, 1, 1, 1, 1, 1, 1,\n",
       "       1, 1, 1, 1, 1, 1, 1, 1, 1, 1, 1, 1, 1, 1, 1, 1, 1, 1, 1, 1, 1, 1,\n",
       "       1, 1, 1, 1, 1, 1, 1, 1, 1, 1, 1, 1, 1, 1, 1, 1, 1, 1, 1, 1, 1, 1,\n",
       "       1, 1, 1, 1, 1, 1, 1, 1, 1, 1, 1, 1, 1, 1, 1, 1, 1, 1, 1, 1, 1, 1,\n",
       "       1, 1, 1, 1, 1, 1, 1, 1, 1, 1, 1, 1, 1, 1, 1, 1, 1, 1, 1, 1, 1, 1,\n",
       "       1, 1, 1, 1, 1, 1, 1, 1, 1, 1, 1, 1, 1, 1, 1, 1, 1, 1, 1, 1, 1, 1,\n",
       "       1, 1, 1, 1, 1, 1, 1, 1, 1, 1, 1, 1, 1, 1, 1, 1, 1, 1, 1, 1, 1, 1,\n",
       "       1, 1, 1, 1, 1, 1, 1, 1, 1, 1, 1, 1, 1, 1, 1, 1, 1, 1, 1, 1, 1, 1,\n",
       "       1, 1, 1, 1, 1, 1, 1, 1, 1, 1, 1, 1, 1, 1, 1, 1, 1, 1, 1, 1, 1, 1,\n",
       "       1, 1, 1, 1, 1, 1, 1, 1, 1, 1, 1, 1, 1, 1, 1, 1, 1, 1, 1, 1, 1, 1,\n",
       "       1, 1, 1, 1, 1, 1, 1, 1, 1, 1, 1, 1, 1, 1, 1, 1, 1, 1, 1, 1, 1, 1,\n",
       "       1, 1, 1, 1, 1, 1, 1, 1, 1, 1, 1, 1, 1, 1, 1, 1, 1, 1, 1, 1, 1, 1,\n",
       "       1, 1, 1, 1, 1, 1, 1, 1, 1, 1, 1, 1, 1, 1, 1, 1, 1, 1, 1, 1, 1, 1,\n",
       "       1, 1, 1, 1, 1, 1, 1, 1, 1, 1, 1, 1, 1, 1, 1, 1, 1, 1, 1, 1, 1, 1,\n",
       "       1, 1, 1, 1, 1, 1, 1, 1, 1, 1, 1, 1, 1, 1, 1, 1, 1, 1, 1, 1, 1, 1,\n",
       "       1, 1, 1, 1, 1, 1, 1, 1, 1, 1, 1, 1, 1, 1, 1, 1, 1, 1, 1, 1, 1, 1,\n",
       "       1, 1, 1, 1, 1, 1, 1, 1, 1, 1, 1, 1, 1, 1, 1, 1, 1, 1, 1, 1, 1, 1,\n",
       "       1, 1, 1, 1, 1, 1, 1, 1, 1, 1, 1, 1, 1, 1, 1, 1, 1, 1, 1, 1, 1, 1,\n",
       "       1, 1, 1, 1, 1, 1, 1, 1, 1, 1, 1, 1, 1, 1, 1, 1, 1, 1, 1, 1, 1, 1,\n",
       "       1, 1, 1, 1, 1, 1, 1, 1, 1, 1, 1, 1, 1, 1, 1, 1, 1, 1, 1, 1, 1, 1,\n",
       "       1, 1, 1, 1, 1, 1, 1, 1, 1, 1, 1, 1, 1, 1, 1, 1, 1, 1, 1, 1, 1, 1,\n",
       "       1, 1, 1, 1, 1, 1, 1, 1, 1, 1, 1, 1, 1, 1, 1, 1, 1, 1, 1, 1, 1, 1,\n",
       "       1, 1, 1, 1, 1, 1, 1, 1, 1, 1, 1, 1, 1, 1, 1, 1, 1, 1, 1, 1, 1, 1,\n",
       "       1, 1, 1, 1, 1, 1, 1, 1, 1, 1, 1, 1, 1, 1, 1, 1, 1, 1, 1, 1, 1, 1,\n",
       "       1, 1, 1, 1, 1, 1, 1, 1, 1, 1, 1, 1, 1, 1, 1, 1, 1, 1, 1, 1, 1, 1,\n",
       "       1, 1, 1, 1, 1, 1, 1, 1, 1, 1, 1, 1, 1, 1, 1, 1, 1, 1, 1, 1, 1, 1,\n",
       "       1, 1, 2, 1, 1, 1, 1, 1, 1, 1, 1, 1, 1, 1, 1, 1, 1, 1, 1, 1, 1, 1,\n",
       "       1, 1, 1, 1, 1, 1, 1, 1, 1, 1, 1, 1, 1, 1, 1, 1, 1, 1, 1, 1, 1, 1,\n",
       "       1, 1, 1, 1, 1, 1, 1, 1, 1, 1, 1, 1, 1, 1, 1, 1, 1, 1, 1, 1, 1, 1,\n",
       "       1, 1, 1, 1, 1, 1, 1, 1, 1, 1, 1, 1, 1, 1, 1, 1, 1, 1, 1, 1, 1, 1,\n",
       "       1, 1, 1, 1, 1, 1, 1, 1, 1, 1, 1, 1, 1, 1, 1, 1, 1, 1, 1, 1, 1, 1,\n",
       "       1, 1, 1, 1, 1, 1, 1, 1, 1, 1, 1, 1, 1, 1, 1, 1, 1, 1, 1, 1, 1, 1,\n",
       "       1, 1, 1, 1, 1, 1, 1, 1, 1, 1, 1, 1, 1, 1, 1, 1, 1, 1, 1, 1, 1, 1,\n",
       "       1, 1, 1, 1, 1, 1, 1, 1, 1, 1, 1, 1, 1, 1, 1, 1, 1, 1, 1, 1, 1, 1,\n",
       "       1, 1, 1, 1, 1, 1, 1, 1, 1, 1, 1, 1, 1, 1, 1, 1, 1, 1, 1, 1, 1, 1,\n",
       "       1, 1, 1, 2, 1, 1, 1, 1, 1, 1, 1, 1, 1, 1, 1, 1, 1, 1, 1, 1, 1, 1,\n",
       "       1, 1, 1, 1, 1, 1, 1, 1, 1, 1, 1, 1, 1, 1, 1, 1, 1, 1, 1, 1, 1, 1,\n",
       "       1, 1, 1, 1, 1, 1, 1, 1, 1, 1, 1, 1, 1, 1, 1, 1, 1, 1, 1, 1, 1, 1,\n",
       "       1, 1, 1, 1, 1, 1, 1, 1, 1, 1, 1, 1, 1, 1, 1, 1, 1, 1, 1, 1, 1, 1,\n",
       "       1, 1, 1, 1, 1, 1, 1, 1, 1, 1, 1, 1, 1, 1, 1, 1, 1, 1, 1, 1, 1, 1,\n",
       "       1, 1, 1, 1, 1, 1, 1, 1, 1, 1, 1, 1, 1, 1, 1, 1, 1, 1, 1, 1, 1, 1,\n",
       "       1, 1, 1, 1, 1, 1, 1, 1, 1, 1, 1, 1, 1, 1, 1, 1, 1, 1, 1, 1, 1, 1,\n",
       "       1, 1, 1, 1, 1, 1, 1, 1, 1, 1, 1, 1, 1, 1, 1, 1, 1, 1, 1, 1, 1, 1,\n",
       "       1, 1, 1, 1, 1, 1, 1, 1, 1, 1, 1, 1, 1, 1, 1, 1, 1, 1, 1, 1, 1, 1,\n",
       "       1, 1, 1, 2, 1, 1, 1, 1, 1, 1, 1, 1, 1, 1, 1, 1, 1, 1, 1, 1, 1, 1,\n",
       "       1, 1, 1, 1, 1, 1, 1, 1, 1, 1], dtype=int32)"
      ]
     },
     "execution_count": 41,
     "metadata": {},
     "output_type": "execute_result"
    }
   ],
   "source": [
    "memb = fcluster(linkage(utilities_df_norm, 'average'), 2, criterion='maxclust')\n",
    "memb"
   ]
  },
  {
   "cell_type": "code",
   "execution_count": 42,
   "id": "6f1be283",
   "metadata": {},
   "outputs": [],
   "source": [
    "idx_to_color = {1: 'red', 2: 'blue', 3: 'yellow', 4: 'green'}\n",
    "\n",
    "color = [idx_to_color[m] for m in memb]"
   ]
  },
  {
   "cell_type": "code",
   "execution_count": 44,
   "id": "5bd15f57",
   "metadata": {},
   "outputs": [
    {
     "data": {
      "text/plain": [
       "<matplotlib.axes._subplots.AxesSubplot at 0x23dbf219208>"
      ]
     },
     "execution_count": 44,
     "metadata": {},
     "output_type": "execute_result"
    },
    {
     "data": {
      "image/png": "[encoded data removed]",
      "text/plain": [
       "<Figure size 432x288 with 1 Axes>"
      ]
     },
     "metadata": {
      "needs_background": "light"
     },
     "output_type": "display_data"
    }
   ],
   "source": [
    "utilities_df.plot.scatter(x='AMOUNT', y='NUM_DEPENDENTS')"
   ]
  },
  {
   "cell_type": "code",
   "execution_count": null,
   "id": "7d6b5aba",
   "metadata": {},
   "outputs": [],
   "source": []
  },
  {
   "cell_type": "markdown",
   "id": "fe2d984e",
   "metadata": {},
   "source": [
    "# K-means Clustering"
   ]
  },
  {
   "cell_type": "markdown",
   "id": "f111431a",
   "metadata": {},
   "source": [
    "## Baseline"
   ]
  },
  {
   "cell_type": "code",
   "execution_count": 45,
   "id": "666ee3dd",
   "metadata": {},
   "outputs": [],
   "source": [
    "kmeans = KMeans(n_clusters=6, random_state=0).fit(utilities_df_norm)"
   ]
  },
  {
   "cell_type": "code",
   "execution_count": 46,
   "id": "329b66be",
   "metadata": {
    "scrolled": true
   },
   "outputs": [
    {
     "data": {
      "text/plain": [
       "array([3, 0, 1, 0, 1, 4, 3, 3, 2, 3, 5, 3, 2, 3, 2, 4, 1, 1, 3, 3, 3, 5,\n",
       "       1, 2, 5, 1, 0, 3, 3, 3, 3, 2, 4, 2, 3, 4, 2, 3, 1, 4, 3, 4, 2, 3,\n",
       "       2, 5, 3, 3, 4, 3, 2, 3, 4, 3, 4, 5, 4, 3, 4, 1, 3, 5, 3, 3, 5, 1,\n",
       "       2, 3, 4, 1, 2, 0, 5, 3, 4, 2, 3, 3, 1, 4, 2, 1, 5, 5, 0, 2, 3, 3,\n",
       "       1, 2, 4, 1, 2, 2, 3, 4, 2, 1, 1, 3, 3, 4, 3, 3, 2, 3, 3, 1, 5, 2,\n",
       "       2, 1, 3, 3, 3, 3, 4, 5, 2, 3, 2, 3, 3, 2, 3, 2, 2, 1, 1, 1, 1, 3,\n",
       "       1, 3, 3, 2, 1, 3, 2, 1, 3, 3, 4, 0, 2, 5, 2, 4, 1, 3, 5, 4, 3, 3,\n",
       "       3, 2, 5, 3, 1, 2, 3, 0, 3, 5, 4, 3, 1, 2, 3, 3, 3, 3, 3, 3, 5, 3,\n",
       "       5, 3, 2, 1, 2, 1, 1, 1, 3, 3, 4, 3, 1, 3, 2, 0, 2, 5, 3, 3, 2, 1,\n",
       "       4, 3, 3, 1, 3, 4, 1, 3, 1, 2, 2, 4, 4, 3, 5, 4, 4, 5, 4, 2, 1, 1,\n",
       "       2, 2, 1, 4, 2, 4, 1, 1, 2, 1, 1, 0, 1, 4, 1, 2, 2, 1, 2, 3, 3, 4,\n",
       "       3, 1, 1, 0, 1, 3, 5, 2, 3, 3, 3, 5, 1, 4, 0, 3, 3, 0, 3, 2, 1, 5,\n",
       "       4, 1, 1, 2, 3, 1, 4, 3, 3, 2, 1, 2, 2, 5, 3, 3, 1, 5, 5, 2, 1, 2,\n",
       "       3, 1, 0, 1, 1, 3, 3, 5, 2, 2, 4, 3, 3, 3, 4, 2, 4, 0, 2, 2, 4, 2,\n",
       "       1, 4, 3, 3, 1, 5, 1, 3, 1, 3, 2, 2, 2, 1, 3, 0, 3, 1, 4, 3, 1, 4,\n",
       "       4, 2, 3, 3, 1, 2, 1, 3, 5, 4, 3, 5, 4, 3, 4, 3, 5, 1, 3, 2, 1, 1,\n",
       "       2, 3, 2, 2, 2, 3, 3, 3, 2, 1, 3, 2, 4, 3, 4, 3, 4, 4, 5, 3, 2, 2,\n",
       "       2, 2, 3, 4, 4, 3, 4, 0, 3, 2, 0, 4, 3, 3, 2, 1, 1, 2, 2, 2, 3, 4,\n",
       "       3, 3, 2, 0, 4, 3, 5, 3, 3, 3, 3, 4, 5, 3, 1, 3, 0, 3, 2, 1, 2, 2,\n",
       "       1, 3, 2, 5, 5, 3, 1, 1, 5, 3, 4, 3, 4, 5, 4, 2, 2, 5, 1, 3, 1, 1,\n",
       "       0, 3, 3, 0, 3, 4, 3, 3, 3, 3, 1, 0, 4, 2, 3, 5, 1, 3, 1, 1, 0, 4,\n",
       "       1, 5, 3, 5, 5, 4, 2, 3, 1, 3, 3, 0, 3, 3, 3, 5, 4, 3, 2, 3, 2, 1,\n",
       "       3, 3, 2, 3, 4, 3, 2, 3, 0, 3, 5, 5, 2, 3, 3, 3, 4, 3, 4, 3, 3, 3,\n",
       "       4, 3, 2, 3, 5, 3, 3, 4, 2, 3, 2, 2, 2, 3, 3, 1, 4, 5, 2, 4, 4, 1,\n",
       "       5, 3, 2, 2, 2, 3, 2, 3, 4, 1, 3, 4, 4, 3, 2, 2, 3, 4, 2, 2, 3, 4,\n",
       "       5, 3, 4, 4, 1, 1, 1, 1, 1, 2, 2, 0, 3, 1, 3, 2, 3, 3, 4, 5, 3, 2,\n",
       "       2, 3, 4, 2, 3, 2, 1, 2, 5, 5, 3, 3, 1, 4, 3, 4, 5, 1, 1, 2, 3, 4,\n",
       "       3, 2, 2, 3, 1, 2, 4, 1, 1, 3, 1, 5, 1, 1, 2, 5, 3, 1, 2, 3, 3, 3,\n",
       "       4, 4, 2, 3, 5, 2, 4, 5, 3, 2, 4, 3, 4, 3, 1, 1, 2, 4, 3, 3, 3, 2,\n",
       "       0, 4, 2, 3, 3, 5, 4, 1, 4, 2, 1, 3, 2, 1, 2, 3, 3, 3, 4, 2, 2, 1,\n",
       "       2, 1, 2, 2, 5, 2, 3, 3, 3, 1, 3, 2, 2, 3, 3, 3, 3, 2, 3, 2, 3, 3,\n",
       "       3, 5, 2, 1, 1, 5, 3, 4, 3, 0, 3, 3, 1, 2, 1, 4, 3, 4, 3, 2, 2, 2,\n",
       "       5, 2, 3, 4, 5, 3, 3, 4, 2, 3, 1, 5, 5, 0, 0, 3, 3, 0, 3, 3, 5, 4,\n",
       "       2, 2, 3, 1, 3, 1, 3, 2, 0, 3, 1, 1, 1, 5, 2, 1, 0, 4, 5, 5, 2, 2,\n",
       "       4, 3, 5, 5, 5, 3, 0, 1, 1, 3, 5, 5, 4, 1, 3, 3, 3, 2, 5, 2, 4, 3,\n",
       "       2, 3, 3, 2, 3, 4, 1, 3, 4, 1, 3, 2, 4, 3, 1, 2, 1, 2, 3, 0, 2, 4,\n",
       "       1, 1, 1, 0, 1, 3, 2, 3, 1, 1, 1, 4, 5, 4, 4, 2, 5, 3, 2, 5, 2, 2,\n",
       "       2, 1, 2, 4, 3, 5, 0, 1, 2, 3, 2, 4, 3, 3, 0, 2, 3, 1, 2, 5, 1, 1,\n",
       "       2, 3, 2, 2, 2, 2, 1, 3, 1, 3, 2, 0, 4, 3, 1, 1, 2, 3, 3, 3, 2, 2,\n",
       "       1, 1, 3, 4, 2, 3, 1, 2, 2, 1, 1, 3, 1, 2, 3, 2, 2, 5, 2, 1, 0, 1,\n",
       "       3, 3, 2, 1, 1, 2, 5, 3, 2, 1, 1, 2, 3, 0, 0, 5, 2, 2, 0, 1, 2, 2,\n",
       "       2, 2, 2, 5, 3, 1, 4, 2, 1, 0, 4, 3, 0, 2, 2, 3, 5, 3, 4, 5, 2, 2,\n",
       "       2, 2, 3, 2, 1, 4, 1, 0, 2, 3, 2, 0, 0, 5, 4, 2, 2, 4, 3, 2, 3, 1,\n",
       "       2, 5, 4, 2, 5, 3, 2, 1, 3, 2, 3, 2, 2, 2, 5, 3, 1, 2, 1, 0, 5, 1,\n",
       "       2, 1, 5, 4, 4, 1, 1, 3, 1, 2, 4, 3, 3, 3, 0, 1, 1, 3, 5, 4, 1, 2,\n",
       "       3, 3, 2, 5, 2, 2, 1, 5, 4, 3])"
      ]
     },
     "execution_count": 46,
     "metadata": {},
     "output_type": "execute_result"
    }
   ],
   "source": [
    "kmeans.labels_"
   ]
  },
  {
   "cell_type": "code",
   "execution_count": 47,
   "id": "2e6e97ef",
   "metadata": {},
   "outputs": [
    {
     "data": {
      "text/plain": [
       "3    308\n",
       "2    231\n",
       "1    183\n",
       "4    131\n",
       "5     97\n",
       "0     50\n",
       "dtype: int64"
      ]
     },
     "execution_count": 47,
     "metadata": {},
     "output_type": "execute_result"
    }
   ],
   "source": [
    "pd.Series(kmeans.labels_).value_counts()"
   ]
  },
  {
   "cell_type": "code",
   "execution_count": 28,
   "id": "fe979323",
   "metadata": {},
   "outputs": [],
   "source": [
    "# # Cluster membership\n",
    "# memb = pd.Series(kmeans.labels_, index=utilities_df_norm.index)\n",
    "# for key, item in memb.groupby(memb):\n",
    "#  print(key, ’: ’, ’, ’.join(item.index))"
   ]
  },
  {
   "cell_type": "code",
   "execution_count": null,
   "id": "5c6c4c70",
   "metadata": {},
   "outputs": [],
   "source": []
  },
  {
   "cell_type": "markdown",
   "id": "48f70c82",
   "metadata": {},
   "source": [
    "## Choosing K"
   ]
  },
  {
   "cell_type": "code",
   "execution_count": 48,
   "id": "afd22f27",
   "metadata": {},
   "outputs": [
    {
     "name": "stderr",
     "output_type": "stream",
     "text": [
      "C:\\Users\\harshit.agarwal\\my_Miniconda3\\envs\\python_env_v2\\lib\\site-packages\\sklearn\\cluster\\_kmeans.py:882: UserWarning: KMeans is known to have a memory leak on Windows with MKL, when there are less chunks than available threads. You can avoid it by setting the environment variable OMP_NUM_THREADS=4.\n",
      "  f\"KMeans is known to have a memory leak on Windows \"\n"
     ]
    }
   ],
   "source": [
    "inertia = []\n",
    "for n_clusters in range(1, 10):\n",
    "    kmeans = KMeans(n_clusters=n_clusters, random_state=0).fit(utilities_df_norm)\n",
    "    inertia.append(kmeans.inertia_ / n_clusters)"
   ]
  },
  {
   "cell_type": "code",
   "execution_count": 49,
   "id": "c9be0388",
   "metadata": {},
   "outputs": [
    {
     "data": {
      "text/plain": [
       "[30000.00000000001,\n",
       " 13997.283523054699,\n",
       " 8831.846170355255,\n",
       " 6361.540150539397,\n",
       " 4916.223315418421,\n",
       " 3912.863345920289,\n",
       " 3236.36580025099,\n",
       " 2761.905234400696,\n",
       " 2345.4998616863763]"
      ]
     },
     "execution_count": 49,
     "metadata": {},
     "output_type": "execute_result"
    }
   ],
   "source": [
    "inertia"
   ]
  },
  {
   "cell_type": "code",
   "execution_count": 50,
   "id": "eb791e77",
   "metadata": {},
   "outputs": [
    {
     "data": {
      "image/png": "[encoded data removed]",
      "text/plain": [
       "<Figure size 432x288 with 1 Axes>"
      ]
     },
     "metadata": {
      "needs_background": "light"
     },
     "output_type": "display_data"
    }
   ],
   "source": [
    "inertias = pd.DataFrame({'n_clusters': range(1, 10), 'inertia': inertia})\n",
    "ax = inertias.plot(x='n_clusters', y='inertia')\n",
    "plt.xlabel('Number of clusters (k)')\n",
    "plt.ylabel('Average Within-Cluster Squared Distances')\n",
    "plt.ylim((0, 1.1 * inertias.inertia.max()))\n",
    "ax.legend().set_visible(False)\n",
    "plt.show()"
   ]
  },
  {
   "cell_type": "code",
   "execution_count": null,
   "id": "123df6e8",
   "metadata": {},
   "outputs": [],
   "source": []
  },
  {
   "cell_type": "markdown",
   "id": "68d16772",
   "metadata": {},
   "source": [
    "## Visualize"
   ]
  },
  {
   "cell_type": "code",
   "execution_count": 51,
   "id": "eca74777",
   "metadata": {},
   "outputs": [],
   "source": [
    "kmeans = KMeans(n_clusters=2, random_state=0).fit(utilities_df_norm)\n",
    "\n"
   ]
  },
  {
   "cell_type": "code",
   "execution_count": 54,
   "id": "5e072a1f",
   "metadata": {},
   "outputs": [
    {
     "data": {
      "text/plain": [
       "<matplotlib.axes._subplots.AxesSubplot at 0x23dbf1edba8>"
      ]
     },
     "execution_count": 54,
     "metadata": {},
     "output_type": "execute_result"
    },
    {
     "data": {
      "image/png": "[encoded data removed]",
      "text/plain": [
       "<Figure size 432x288 with 1 Axes>"
      ]
     },
     "metadata": {
      "needs_background": "light"
     },
     "output_type": "display_data"
    }
   ],
   "source": [
    "idx_to_color = {0: 'red', 1: 'blue'}\n",
    "\n",
    "color = [idx_to_color[m] for m in kmeans.labels_]\n",
    "\n",
    "utilities_df.plot.scatter(x='AMOUNT', y='NUM_DEPENDENTS', color=color)"
   ]
  },
  {
   "cell_type": "markdown",
   "id": "91e1d792",
   "metadata": {},
   "source": [
    "## Evaluation"
   ]
  },
  {
   "cell_type": "code",
   "execution_count": null,
   "id": "e5e6dce4",
   "metadata": {},
   "outputs": [],
   "source": []
  },
  {
   "cell_type": "markdown",
   "id": "cb2efecc",
   "metadata": {},
   "source": [
    "# DBScan"
   ]
  },
  {
   "cell_type": "markdown",
   "id": "c12dfb45",
   "metadata": {},
   "source": [
    "## Baseline"
   ]
  },
  {
   "cell_type": "code",
   "execution_count": 55,
   "id": "6af9400b",
   "metadata": {
    "scrolled": true
   },
   "outputs": [
    {
     "data": {
      "text/plain": [
       "array([-1, -1, -1, -1,  0, -1,  1,  2,  3,  2, -1,  4, -1, -1,  5, -1, -1,\n",
       "       -1, -1, -1,  6, -1,  7,  2, -1, -1, -1,  2,  2,  2, -1, -1, -1, -1,\n",
       "        2, -1, -1, -1, -1,  8,  2,  8, -1, -1,  2,  9, -1,  2, -1,  2, 10,\n",
       "        2, -1, -1, -1, -1, -1,  2, -1, -1, 11, -1, -1, 12, -1,  7, -1, -1,\n",
       "       -1, -1, 13, -1, -1,  2, -1, -1, -1,  2, -1, -1,  2, -1, -1, -1, -1,\n",
       "       -1, 14,  2, -1, 15, -1, 16, 17,  2, 14, -1, -1, -1, -1, -1, -1,  8,\n",
       "       -1, -1, -1, -1,  2, -1, -1, -1, 18, -1,  2, -1, -1,  2, -1, -1, -1,\n",
       "       -1, 19, 20, -1, 21, 22, -1, -1,  7, -1, 23, 24, 25, 26,  2, -1, 27,\n",
       "        7,  2, -1, -1, 28,  2, -1, -1, -1, 29, 30, -1, -1,  2, -1, -1, 20,\n",
       "       -1,  2, -1, -1, -1, -1, -1, 31, -1, -1, -1,  8, -1, -1, -1, -1, 31,\n",
       "       32,  2, -1, 33, -1, -1, -1, -1, -1,  7, -1, 34,  7,  7, -1,  2, -1,\n",
       "       -1,  7, -1, -1, -1, 35, -1,  2,  2, -1, 23, -1, 36,  2, -1, -1, -1,\n",
       "        7, -1,  0, 15, -1, 37, -1, -1, -1, -1, -1, -1, 38, -1,  7,  7, -1,\n",
       "       -1, -1, -1, -1, -1, -1,  7, -1, -1, -1, 39, 40, 41,  7,  2, -1, -1,\n",
       "       -1,  2, 33, -1, -1,  7, 26, -1, 23, 28, -1, -1,  2, -1, -1, -1, -1,\n",
       "       -1, -1, -1, 14, -1,  2, 19, -1, -1,  8, 23, 23, -1,  2, -1, -1, -1,\n",
       "       42, 18,  7, 43,  2, 29,  2, -1, -1, -1, -1, -1, -1, -1,  2, -1, -1,\n",
       "       -1, -1, -1, -1, -1, 21, -1,  8, 44, -1, -1,  8, -1, -1, -1, 45, 43,\n",
       "       -1, 46,  7, -1,  2,  2, -1, -1, -1, -1,  7, -1, -1, -1, -1, 47, 19,\n",
       "       -1,  6, -1, -1,  2, -1,  8, -1, 48,  2,  2, -1,  2, 16,  2, -1, -1,\n",
       "       -1, 29,  8, -1, 49,  2, -1, -1,  2,  2, -1, -1, 13,  2, -1, -1, -1,\n",
       "       -1,  2,  2,  5,  7, 31, -1, -1,  1,  8, 14,  8, 41, -1, -1, -1, -1,\n",
       "       -1, -1, 42, -1, 49, -1,  8, 39, 32, -1, -1, -1, 14,  2, -1, 50, 34,\n",
       "       17, 27, 18, -1, -1, -1, 51,  2, -1, -1,  2, -1, -1,  2, -1, -1, 38,\n",
       "       -1,  2, -1,  2, -1, -1, -1, 16, -1, 48, -1, -1, -1, -1, -1,  6,  7,\n",
       "       52, -1,  2, -1,  2, -1, -1, -1, 48, -1, 29, -1,  2,  7,  7, -1,  2,\n",
       "        2, -1,  2, -1, -1,  2, -1, -1, -1, -1,  8, -1, -1, -1, -1, 28,  7,\n",
       "       -1, -1, -1, -1, -1,  2, 29, 29, -1, -1, -1, 50, -1,  2, -1, 42, -1,\n",
       "       -1, -1, -1,  2, -1, -1, -1, -1,  2,  2, 46,  2, -1, 25, -1,  2, -1,\n",
       "       -1, -1, 53, -1,  2, 36, 11, -1, -1, -1,  4, -1,  2, -1, 12, -1, -1,\n",
       "       -1,  2,  6, 38, -1, -1, -1, -1, -1, 54,  2, 52, -1, -1,  3,  8,  8,\n",
       "       -1, -1,  2, -1, -1, -1,  2, 55, 31, 38, -1, -1, -1, -1,  2, -1, 56,\n",
       "        6,  8, -1, 13, -1, -1, -1,  2,  8, -1, -1, -1, -1, 23, -1, -1, -1,\n",
       "       -1, -1, 40,  2, -1, 44, -1, -1,  9, 31, -1, -1, -1, -1, 10, 14, 27,\n",
       "       -1, 55, -1, 53,  2,  2, -1, -1, -1, -1, -1, -1,  7, 10, 12,  8, 42,\n",
       "       -1, 10, 22, -1, -1, -1, -1, 23,  2, -1, -1, 23, -1, 35, -1, -1, -1,\n",
       "       18, -1,  2,  2,  8, -1, -1, -1, -1, 56, -1, -1,  2, -1,  8,  2, -1,\n",
       "       57, -1, -1, -1, -1, -1, -1, -1, -1, -1, -1, -1, -1,  2, -1, -1, -1,\n",
       "       -1, -1, 23,  2, 46, -1,  2,  4,  2, 58, -1, -1, -1, -1, 30, -1, -1,\n",
       "       -1, -1, -1, -1,  2, -1, -1, 28, 59, -1, -1,  2, -1, -1, 46,  6, -1,\n",
       "        2, 12,  6, -1, 45,  7, 23, -1, -1, -1,  2, -1, 51, -1, 60, 13,  7,\n",
       "       -1,  2, -1,  2, -1, 61, -1, -1, 27,  2, -1, -1,  2, -1, -1, -1, -1,\n",
       "       -1, -1, 62, -1, -1,  2, -1, -1, -1, -1, -1, -1, -1, -1, -1, 40,  2,\n",
       "       -1,  2, -1, 63, 12,  7, 23,  7, -1, -1, 60, -1, -1, -1, -1, -1, -1,\n",
       "       -1, 14, -1, -1, 53, -1, -1, -1, -1, -1, -1, -1, -1, -1,  2,  2, -1,\n",
       "       -1, -1, -1, -1, -1, -1, -1, 33, -1,  2, -1,  7, 64, -1, -1, 65, -1,\n",
       "       -1, -1,  7, -1,  7, 61, -1, 39, -1, -1, -1, -1, -1, -1, -1, -1, -1,\n",
       "        2, 23,  7, -1, -1, -1, -1, -1, -1, -1, -1, -1, -1,  2, 46,  2, -1,\n",
       "       -1, -1, -1, -1, -1, -1,  2, -1, -1, -1, -1, 58, 66,  2, 14, 23, -1,\n",
       "       -1, -1, -1,  2, -1,  3, -1, -1,  2, -1,  2, -1, -1,  3, -1, -1, 28,\n",
       "        7, -1, -1, 54, -1,  2, -1, -1,  7, -1, -1, -1, 59, 65, -1, -1, -1,\n",
       "       -1, -1, -1, -1,  3, -1, -1,  3, -1, 67,  7, -1, 60, -1, -1, -1, 24,\n",
       "       -1, 67, -1, -1, -1,  7, -1,  2, -1, -1, -1, -1,  2, -1, -1,  7, -1,\n",
       "       -1, -1, 10, -1, -1, -1, 23, -1, 68, -1, -1, -1, -1, -1,  2, -1, -1,\n",
       "       -1, -1, -1, -1,  2, -1, -1, -1, 42,  2, 23, -1, -1, -1, -1, -1, -1,\n",
       "       69, 63, -1, -1, 68, -1,  8, -1, -1, 64, -1, -1, -1, -1,  3, -1,  2,\n",
       "       -1,  7, -1, -1, 12, -1, -1,  2, -1,  2, 16, -1, -1, 66, 62, 47, -1,\n",
       "       -1, -1, -1, -1, 26, -1, 57, -1, -1, -1,  2, -1,  2, 69, -1, -1,  2,\n",
       "       -1, 38, -1,  2, 11,  2, -1, -1, -1, -1, -1, -1, 37, -1],\n",
       "      dtype=int64)"
      ]
     },
     "execution_count": 55,
     "metadata": {},
     "output_type": "execute_result"
    }
   ],
   "source": [
    "from sklearn.cluster import DBSCAN\n",
    "import numpy as np\n",
    "\n",
    "X = utilities_df_norm.values\n",
    "\n",
    "clustering = DBSCAN(eps=3, min_samples=2).fit(X)\n",
    "clustering.labels_"
   ]
  },
  {
   "cell_type": "code",
   "execution_count": 56,
   "id": "c91c70ce",
   "metadata": {},
   "outputs": [
    {
     "data": {
      "text/plain": [
       "-1     607\n",
       " 2     128\n",
       " 7      37\n",
       " 8      21\n",
       " 23     15\n",
       "      ... \n",
       " 37      2\n",
       " 36      2\n",
       " 69      2\n",
       " 34      2\n",
       " 35      2\n",
       "Length: 71, dtype: int64"
      ]
     },
     "execution_count": 56,
     "metadata": {},
     "output_type": "execute_result"
    }
   ],
   "source": [
    "pd.Series(clustering.labels_).value_counts()"
   ]
  },
  {
   "cell_type": "code",
   "execution_count": 57,
   "id": "5a9bbd2a",
   "metadata": {},
   "outputs": [
    {
     "data": {
      "text/plain": [
       "DBSCAN(eps=3, min_samples=2)"
      ]
     },
     "execution_count": 57,
     "metadata": {},
     "output_type": "execute_result"
    }
   ],
   "source": [
    "clustering"
   ]
  },
  {
   "cell_type": "markdown",
   "id": "81b9afc6",
   "metadata": {},
   "source": [
    "## Choosing eps, min_samples"
   ]
  },
  {
   "cell_type": "code",
   "execution_count": null,
   "id": "e987b8ee",
   "metadata": {},
   "outputs": [],
   "source": []
  },
  {
   "cell_type": "code",
   "execution_count": null,
   "id": "374c10dd",
   "metadata": {},
   "outputs": [],
   "source": []
  },
  {
   "cell_type": "markdown",
   "id": "b1765d5d",
   "metadata": {},
   "source": [
    "## Visualize"
   ]
  },
  {
   "cell_type": "code",
   "execution_count": 58,
   "id": "a1a993bd",
   "metadata": {},
   "outputs": [
    {
     "data": {
      "text/plain": [
       "array([-1, -1, -1, -1, -1, -1, -1, -1, -1, -1, -1, -1, -1, -1, -1, -1, -1,\n",
       "       -1, -1, -1, -1, -1, -1, -1, -1, -1, -1, -1, -1, -1, -1, -1, -1, -1,\n",
       "       -1, -1, -1, -1, -1, -1, -1, -1, -1, -1, -1, -1, -1, -1, -1, -1, -1,\n",
       "       -1, -1, -1, -1, -1, -1, -1, -1, -1, -1, -1, -1, -1, -1, -1, -1, -1,\n",
       "       -1, -1, -1, -1, -1, -1, -1, -1, -1, -1, -1, -1, -1, -1, -1, -1, -1,\n",
       "       -1, -1, -1, -1, -1, -1, -1, -1, -1, -1, -1, -1, -1, -1, -1, -1, -1,\n",
       "       -1, -1, -1, -1, -1, -1, -1, -1, -1, -1, -1, -1, -1, -1, -1, -1, -1,\n",
       "       -1, -1, -1, -1, -1, -1, -1, -1, -1, -1, -1, -1, -1, -1, -1, -1, -1,\n",
       "       -1, -1, -1, -1, -1, -1, -1, -1, -1, -1, -1, -1, -1, -1, -1, -1, -1,\n",
       "       -1, -1, -1, -1, -1, -1, -1, -1, -1, -1, -1, -1, -1, -1, -1, -1, -1,\n",
       "       -1, -1, -1, -1, -1, -1, -1, -1, -1, -1, -1, -1, -1, -1, -1, -1, -1,\n",
       "       -1, -1, -1, -1, -1, -1, -1, -1, -1, -1, -1, -1, -1, -1, -1, -1, -1,\n",
       "       -1, -1, -1, -1, -1, -1, -1, -1, -1, -1, -1, -1, -1, -1, -1, -1, -1,\n",
       "       -1, -1, -1, -1, -1, -1, -1, -1, -1, -1, -1, -1, -1, -1, -1, -1, -1,\n",
       "       -1, -1, -1, -1, -1, -1, -1, -1, -1, -1, -1, -1, -1, -1, -1, -1, -1,\n",
       "       -1, -1, -1, -1, -1, -1, -1, -1, -1, -1, -1, -1, -1, -1, -1, -1, -1,\n",
       "       -1, -1, -1, -1, -1, -1, -1, -1, -1, -1, -1, -1, -1, -1, -1, -1, -1,\n",
       "       -1, -1, -1, -1, -1, -1, -1, -1, -1, -1, -1, -1, -1, -1, -1, -1, -1,\n",
       "       -1, -1, -1, -1, -1, -1, -1, -1, -1, -1, -1, -1, -1, -1, -1, -1, -1,\n",
       "       -1, -1, -1, -1, -1, -1, -1, -1, -1, -1, -1, -1, -1, -1, -1, -1, -1,\n",
       "       -1, -1, -1, -1, -1, -1, -1, -1, -1, -1, -1, -1, -1, -1, -1, -1, -1,\n",
       "       -1, -1, -1, -1, -1, -1, -1, -1, -1, -1, -1, -1, -1, -1, -1, -1, -1,\n",
       "       -1, -1, -1, -1, -1, -1, -1, -1, -1, -1, -1, -1, -1, -1, -1, -1, -1,\n",
       "       -1, -1, -1, -1, -1, -1, -1, -1, -1, -1, -1, -1, -1, -1, -1, -1, -1,\n",
       "       -1, -1, -1, -1, -1, -1, -1, -1, -1, -1, -1, -1, -1, -1, -1, -1, -1,\n",
       "       -1, -1, -1, -1, -1, -1, -1, -1, -1, -1, -1, -1, -1, -1, -1, -1, -1,\n",
       "       -1, -1, -1, -1, -1, -1, -1, -1, -1, -1, -1, -1, -1, -1, -1, -1, -1,\n",
       "       -1, -1, -1, -1, -1, -1, -1, -1, -1, -1, -1, -1, -1, -1, -1, -1, -1,\n",
       "       -1, -1, -1, -1, -1, -1, -1, -1, -1, -1, -1, -1, -1, -1, -1, -1, -1,\n",
       "       -1, -1, -1, -1, -1, -1, -1, -1, -1, -1, -1, -1, -1, -1, -1, -1, -1,\n",
       "       -1, -1, -1, -1, -1, -1, -1, -1, -1, -1, -1, -1, -1, -1, -1, -1, -1,\n",
       "       -1, -1, -1, -1, -1, -1, -1, -1, -1, -1, -1, -1, -1, -1, -1, -1, -1,\n",
       "       -1, -1, -1, -1, -1, -1, -1, -1, -1, -1, -1, -1, -1, -1, -1, -1, -1,\n",
       "       -1, -1, -1, -1, -1, -1, -1, -1, -1, -1, -1, -1, -1, -1, -1, -1, -1,\n",
       "       -1, -1, -1, -1, -1, -1, -1, -1, -1, -1, -1, -1, -1, -1, -1, -1, -1,\n",
       "       -1, -1, -1, -1, -1, -1, -1, -1, -1, -1, -1, -1, -1, -1, -1, -1, -1,\n",
       "       -1, -1, -1, -1, -1, -1, -1, -1, -1, -1, -1, -1, -1, -1, -1, -1, -1,\n",
       "       -1, -1, -1, -1, -1, -1, -1, -1, -1, -1, -1, -1, -1, -1, -1, -1, -1,\n",
       "       -1, -1, -1, -1, -1, -1, -1, -1, -1, -1, -1, -1, -1, -1, -1, -1, -1,\n",
       "       -1, -1, -1, -1, -1, -1, -1, -1, -1, -1, -1, -1, -1, -1, -1, -1, -1,\n",
       "       -1, -1, -1, -1, -1, -1, -1, -1, -1, -1, -1, -1, -1, -1, -1, -1, -1,\n",
       "       -1, -1, -1, -1, -1, -1, -1, -1, -1, -1, -1, -1, -1, -1, -1, -1, -1,\n",
       "       -1, -1, -1, -1, -1, -1, -1, -1, -1, -1, -1, -1, -1, -1, -1, -1, -1,\n",
       "       -1, -1, -1, -1, -1, -1, -1, -1, -1, -1, -1, -1, -1, -1, -1, -1, -1,\n",
       "       -1, -1, -1, -1, -1, -1, -1, -1, -1, -1, -1, -1, -1, -1, -1, -1, -1,\n",
       "       -1, -1, -1, -1, -1, -1, -1, -1, -1, -1, -1, -1, -1, -1, -1, -1, -1,\n",
       "       -1, -1, -1, -1, -1, -1, -1, -1, -1, -1, -1, -1, -1, -1, -1, -1, -1,\n",
       "       -1, -1, -1, -1, -1, -1, -1, -1, -1, -1, -1, -1, -1, -1, -1, -1, -1,\n",
       "       -1, -1, -1, -1, -1, -1, -1, -1, -1, -1, -1, -1, -1, -1, -1, -1, -1,\n",
       "       -1, -1, -1, -1, -1, -1, -1, -1, -1, -1, -1, -1, -1, -1, -1, -1, -1,\n",
       "       -1, -1, -1, -1, -1, -1, -1, -1, -1, -1, -1, -1, -1, -1, -1, -1, -1,\n",
       "       -1, -1, -1, -1, -1, -1, -1, -1, -1, -1, -1, -1, -1, -1, -1, -1, -1,\n",
       "       -1, -1, -1, -1, -1, -1, -1, -1, -1, -1, -1, -1, -1, -1, -1, -1, -1,\n",
       "       -1, -1, -1, -1, -1, -1, -1, -1, -1, -1, -1, -1, -1, -1, -1, -1, -1,\n",
       "       -1, -1, -1, -1, -1, -1, -1, -1, -1, -1, -1, -1, -1, -1, -1, -1, -1,\n",
       "       -1, -1, -1, -1, -1, -1, -1, -1, -1, -1, -1, -1, -1, -1, -1, -1, -1,\n",
       "       -1, -1, -1, -1, -1, -1, -1, -1, -1, -1, -1, -1, -1, -1, -1, -1, -1,\n",
       "       -1, -1, -1, -1, -1, -1, -1, -1, -1, -1, -1, -1, -1, -1, -1, -1, -1,\n",
       "       -1, -1, -1, -1, -1, -1, -1, -1, -1, -1, -1, -1, -1, -1],\n",
       "      dtype=int64)"
      ]
     },
     "execution_count": 58,
     "metadata": {},
     "output_type": "execute_result"
    }
   ],
   "source": [
    "from sklearn.cluster import DBSCAN\n",
    "import numpy as np\n",
    "\n",
    "X = utilities_df_norm.values\n",
    "\n",
    "clustering = DBSCAN(eps=0.2, min_samples=10).fit(X)\n",
    "clustering.labels_"
   ]
  },
  {
   "cell_type": "code",
   "execution_count": 59,
   "id": "4c1fa800",
   "metadata": {},
   "outputs": [
    {
     "data": {
      "text/plain": [
       "-1    1000\n",
       "dtype: int64"
      ]
     },
     "execution_count": 59,
     "metadata": {},
     "output_type": "execute_result"
    }
   ],
   "source": [
    "pd.Series(clustering.labels_).value_counts()"
   ]
  },
  {
   "cell_type": "code",
   "execution_count": 62,
   "id": "5c1febe2",
   "metadata": {},
   "outputs": [
    {
     "ename": "KeyError",
     "evalue": "-1",
     "output_type": "error",
     "traceback": [
      "\u001b[1;31m---------------------------------------------------------------------------\u001b[0m",
      "\u001b[1;31mKeyError\u001b[0m                                  Traceback (most recent call last)",
      "\u001b[1;32m<ipython-input-62-afe5514a4b42>\u001b[0m in \u001b[0;36m<module>\u001b[1;34m\u001b[0m\n\u001b[0;32m      1\u001b[0m \u001b[0midx_to_color\u001b[0m \u001b[1;33m=\u001b[0m \u001b[1;33m{\u001b[0m\u001b[1;36m0\u001b[0m\u001b[1;33m:\u001b[0m \u001b[1;34m'red'\u001b[0m\u001b[1;33m,\u001b[0m \u001b[1;36m1\u001b[0m\u001b[1;33m:\u001b[0m \u001b[1;34m'blue'\u001b[0m\u001b[1;33m}\u001b[0m\u001b[1;33m\u001b[0m\u001b[1;33m\u001b[0m\u001b[0m\n\u001b[0;32m      2\u001b[0m \u001b[1;33m\u001b[0m\u001b[0m\n\u001b[1;32m----> 3\u001b[1;33m \u001b[0mcolor\u001b[0m \u001b[1;33m=\u001b[0m \u001b[1;33m[\u001b[0m\u001b[0midx_to_color\u001b[0m\u001b[1;33m[\u001b[0m\u001b[0mm\u001b[0m\u001b[1;33m]\u001b[0m \u001b[1;32mfor\u001b[0m \u001b[0mm\u001b[0m \u001b[1;32min\u001b[0m \u001b[0mclustering\u001b[0m\u001b[1;33m.\u001b[0m\u001b[0mlabels_\u001b[0m\u001b[1;33m]\u001b[0m\u001b[1;33m\u001b[0m\u001b[1;33m\u001b[0m\u001b[0m\n\u001b[0m\u001b[0;32m      4\u001b[0m \u001b[1;33m\u001b[0m\u001b[0m\n\u001b[0;32m      5\u001b[0m \u001b[0mutilities_df\u001b[0m\u001b[1;33m.\u001b[0m\u001b[0mplot\u001b[0m\u001b[1;33m.\u001b[0m\u001b[0mscatter\u001b[0m\u001b[1;33m(\u001b[0m\u001b[0mx\u001b[0m\u001b[1;33m=\u001b[0m\u001b[1;34m'AMOUNT'\u001b[0m\u001b[1;33m,\u001b[0m \u001b[0my\u001b[0m\u001b[1;33m=\u001b[0m\u001b[1;34m'NUM_DEPENDENTS'\u001b[0m\u001b[1;33m,\u001b[0m \u001b[0mc\u001b[0m\u001b[1;33m=\u001b[0m\u001b[0mcolor\u001b[0m\u001b[1;33m)\u001b[0m\u001b[1;33m\u001b[0m\u001b[1;33m\u001b[0m\u001b[0m\n",
      "\u001b[1;32m<ipython-input-62-afe5514a4b42>\u001b[0m in \u001b[0;36m<listcomp>\u001b[1;34m(.0)\u001b[0m\n\u001b[0;32m      1\u001b[0m \u001b[0midx_to_color\u001b[0m \u001b[1;33m=\u001b[0m \u001b[1;33m{\u001b[0m\u001b[1;36m0\u001b[0m\u001b[1;33m:\u001b[0m \u001b[1;34m'red'\u001b[0m\u001b[1;33m,\u001b[0m \u001b[1;36m1\u001b[0m\u001b[1;33m:\u001b[0m \u001b[1;34m'blue'\u001b[0m\u001b[1;33m}\u001b[0m\u001b[1;33m\u001b[0m\u001b[1;33m\u001b[0m\u001b[0m\n\u001b[0;32m      2\u001b[0m \u001b[1;33m\u001b[0m\u001b[0m\n\u001b[1;32m----> 3\u001b[1;33m \u001b[0mcolor\u001b[0m \u001b[1;33m=\u001b[0m \u001b[1;33m[\u001b[0m\u001b[0midx_to_color\u001b[0m\u001b[1;33m[\u001b[0m\u001b[0mm\u001b[0m\u001b[1;33m]\u001b[0m \u001b[1;32mfor\u001b[0m \u001b[0mm\u001b[0m \u001b[1;32min\u001b[0m \u001b[0mclustering\u001b[0m\u001b[1;33m.\u001b[0m\u001b[0mlabels_\u001b[0m\u001b[1;33m]\u001b[0m\u001b[1;33m\u001b[0m\u001b[1;33m\u001b[0m\u001b[0m\n\u001b[0m\u001b[0;32m      4\u001b[0m \u001b[1;33m\u001b[0m\u001b[0m\n\u001b[0;32m      5\u001b[0m \u001b[0mutilities_df\u001b[0m\u001b[1;33m.\u001b[0m\u001b[0mplot\u001b[0m\u001b[1;33m.\u001b[0m\u001b[0mscatter\u001b[0m\u001b[1;33m(\u001b[0m\u001b[0mx\u001b[0m\u001b[1;33m=\u001b[0m\u001b[1;34m'AMOUNT'\u001b[0m\u001b[1;33m,\u001b[0m \u001b[0my\u001b[0m\u001b[1;33m=\u001b[0m\u001b[1;34m'NUM_DEPENDENTS'\u001b[0m\u001b[1;33m,\u001b[0m \u001b[0mc\u001b[0m\u001b[1;33m=\u001b[0m\u001b[0mcolor\u001b[0m\u001b[1;33m)\u001b[0m\u001b[1;33m\u001b[0m\u001b[1;33m\u001b[0m\u001b[0m\n",
      "\u001b[1;31mKeyError\u001b[0m: -1"
     ]
    }
   ],
   "source": [
    "idx_to_color = {0: 'red', 1: 'blue'}\n",
    "\n",
    "color = [idx_to_color[m] for m in clustering.labels_]\n",
    "\n",
    "utilities_df.plot.scatter(x='AMOUNT', y='NUM_DEPENDENTS', c=color)"
   ]
  },
  {
   "cell_type": "code",
   "execution_count": 61,
   "id": "b9ab12aa",
   "metadata": {},
   "outputs": [
    {
     "data": {
      "text/html": [
       "<div>\n",
       "<style scoped>\n",
       "    .dataframe tbody tr th:only-of-type {\n",
       "        vertical-align: middle;\n",
       "    }\n",
       "\n",
       "    .dataframe tbody tr th {\n",
       "        vertical-align: top;\n",
       "    }\n",
       "\n",
       "    .dataframe thead th {\n",
       "        text-align: right;\n",
       "    }\n",
       "</style>\n",
       "<table border=\"1\" class=\"dataframe\">\n",
       "  <thead>\n",
       "    <tr style=\"text-align: right;\">\n",
       "      <th></th>\n",
       "      <th>CHK_ACCT</th>\n",
       "      <th>DURATION</th>\n",
       "      <th>HISTORY</th>\n",
       "      <th>NEW_CAR</th>\n",
       "      <th>USED_CAR</th>\n",
       "      <th>FURNITURE</th>\n",
       "      <th>RADIO/TV</th>\n",
       "      <th>EDUCATION</th>\n",
       "      <th>RETRAINING</th>\n",
       "      <th>AMOUNT</th>\n",
       "      <th>SAV_ACCT</th>\n",
       "      <th>EMPLOYMENT</th>\n",
       "      <th>INSTALL_RATE</th>\n",
       "      <th>MALE_DIV</th>\n",
       "      <th>MALE_SINGLE</th>\n",
       "      <th>MALE_MAR_or_WID</th>\n",
       "      <th>CO-APPLICANT</th>\n",
       "      <th>GUARANTOR</th>\n",
       "      <th>PRESENT_RESIDENT</th>\n",
       "      <th>REAL_ESTATE</th>\n",
       "      <th>PROP_UNKN_NONE</th>\n",
       "      <th>AGE</th>\n",
       "      <th>OTHER_INSTALL</th>\n",
       "      <th>RENT</th>\n",
       "      <th>OWN_RES</th>\n",
       "      <th>NUM_CREDITS</th>\n",
       "      <th>JOB</th>\n",
       "      <th>NUM_DEPENDENTS</th>\n",
       "      <th>TELEPHONE</th>\n",
       "      <th>FOREIGN</th>\n",
       "    </tr>\n",
       "  </thead>\n",
       "  <tbody>\n",
       "    <tr>\n",
       "      <th>0</th>\n",
       "      <td>0.0</td>\n",
       "      <td>6.0</td>\n",
       "      <td>4.0</td>\n",
       "      <td>0.0</td>\n",
       "      <td>0.0</td>\n",
       "      <td>0.0</td>\n",
       "      <td>1.0</td>\n",
       "      <td>0.0</td>\n",
       "      <td>0.0</td>\n",
       "      <td>1169.0</td>\n",
       "      <td>4.0</td>\n",
       "      <td>4.0</td>\n",
       "      <td>4.0</td>\n",
       "      <td>0.0</td>\n",
       "      <td>1.0</td>\n",
       "      <td>0.0</td>\n",
       "      <td>0.0</td>\n",
       "      <td>0.0</td>\n",
       "      <td>4.0</td>\n",
       "      <td>1.0</td>\n",
       "      <td>0.0</td>\n",
       "      <td>67.0</td>\n",
       "      <td>0.0</td>\n",
       "      <td>0.0</td>\n",
       "      <td>1.0</td>\n",
       "      <td>2.0</td>\n",
       "      <td>2.0</td>\n",
       "      <td>1.0</td>\n",
       "      <td>1.0</td>\n",
       "      <td>0.0</td>\n",
       "    </tr>\n",
       "    <tr>\n",
       "      <th>1</th>\n",
       "      <td>3.0</td>\n",
       "      <td>12.0</td>\n",
       "      <td>4.0</td>\n",
       "      <td>0.0</td>\n",
       "      <td>0.0</td>\n",
       "      <td>0.0</td>\n",
       "      <td>0.0</td>\n",
       "      <td>1.0</td>\n",
       "      <td>0.0</td>\n",
       "      <td>2096.0</td>\n",
       "      <td>0.0</td>\n",
       "      <td>3.0</td>\n",
       "      <td>2.0</td>\n",
       "      <td>0.0</td>\n",
       "      <td>1.0</td>\n",
       "      <td>0.0</td>\n",
       "      <td>0.0</td>\n",
       "      <td>0.0</td>\n",
       "      <td>3.0</td>\n",
       "      <td>1.0</td>\n",
       "      <td>0.0</td>\n",
       "      <td>49.0</td>\n",
       "      <td>0.0</td>\n",
       "      <td>0.0</td>\n",
       "      <td>1.0</td>\n",
       "      <td>1.0</td>\n",
       "      <td>1.0</td>\n",
       "      <td>2.0</td>\n",
       "      <td>0.0</td>\n",
       "      <td>0.0</td>\n",
       "    </tr>\n",
       "    <tr>\n",
       "      <th>2</th>\n",
       "      <td>0.0</td>\n",
       "      <td>42.0</td>\n",
       "      <td>2.0</td>\n",
       "      <td>0.0</td>\n",
       "      <td>0.0</td>\n",
       "      <td>1.0</td>\n",
       "      <td>0.0</td>\n",
       "      <td>0.0</td>\n",
       "      <td>0.0</td>\n",
       "      <td>7882.0</td>\n",
       "      <td>0.0</td>\n",
       "      <td>3.0</td>\n",
       "      <td>2.0</td>\n",
       "      <td>0.0</td>\n",
       "      <td>1.0</td>\n",
       "      <td>0.0</td>\n",
       "      <td>0.0</td>\n",
       "      <td>1.0</td>\n",
       "      <td>4.0</td>\n",
       "      <td>0.0</td>\n",
       "      <td>0.0</td>\n",
       "      <td>45.0</td>\n",
       "      <td>0.0</td>\n",
       "      <td>0.0</td>\n",
       "      <td>0.0</td>\n",
       "      <td>1.0</td>\n",
       "      <td>2.0</td>\n",
       "      <td>2.0</td>\n",
       "      <td>0.0</td>\n",
       "      <td>0.0</td>\n",
       "    </tr>\n",
       "    <tr>\n",
       "      <th>3</th>\n",
       "      <td>3.0</td>\n",
       "      <td>36.0</td>\n",
       "      <td>2.0</td>\n",
       "      <td>0.0</td>\n",
       "      <td>0.0</td>\n",
       "      <td>0.0</td>\n",
       "      <td>0.0</td>\n",
       "      <td>1.0</td>\n",
       "      <td>0.0</td>\n",
       "      <td>9055.0</td>\n",
       "      <td>4.0</td>\n",
       "      <td>2.0</td>\n",
       "      <td>2.0</td>\n",
       "      <td>0.0</td>\n",
       "      <td>1.0</td>\n",
       "      <td>0.0</td>\n",
       "      <td>0.0</td>\n",
       "      <td>0.0</td>\n",
       "      <td>4.0</td>\n",
       "      <td>0.0</td>\n",
       "      <td>1.0</td>\n",
       "      <td>35.0</td>\n",
       "      <td>0.0</td>\n",
       "      <td>0.0</td>\n",
       "      <td>0.0</td>\n",
       "      <td>1.0</td>\n",
       "      <td>1.0</td>\n",
       "      <td>2.0</td>\n",
       "      <td>1.0</td>\n",
       "      <td>0.0</td>\n",
       "    </tr>\n",
       "    <tr>\n",
       "      <th>4</th>\n",
       "      <td>3.0</td>\n",
       "      <td>24.0</td>\n",
       "      <td>2.0</td>\n",
       "      <td>0.0</td>\n",
       "      <td>0.0</td>\n",
       "      <td>1.0</td>\n",
       "      <td>0.0</td>\n",
       "      <td>0.0</td>\n",
       "      <td>0.0</td>\n",
       "      <td>2835.0</td>\n",
       "      <td>2.0</td>\n",
       "      <td>4.0</td>\n",
       "      <td>3.0</td>\n",
       "      <td>0.0</td>\n",
       "      <td>1.0</td>\n",
       "      <td>0.0</td>\n",
       "      <td>0.0</td>\n",
       "      <td>0.0</td>\n",
       "      <td>4.0</td>\n",
       "      <td>0.0</td>\n",
       "      <td>0.0</td>\n",
       "      <td>53.0</td>\n",
       "      <td>0.0</td>\n",
       "      <td>0.0</td>\n",
       "      <td>1.0</td>\n",
       "      <td>1.0</td>\n",
       "      <td>2.0</td>\n",
       "      <td>1.0</td>\n",
       "      <td>0.0</td>\n",
       "      <td>0.0</td>\n",
       "    </tr>\n",
       "    <tr>\n",
       "      <th>...</th>\n",
       "      <td>...</td>\n",
       "      <td>...</td>\n",
       "      <td>...</td>\n",
       "      <td>...</td>\n",
       "      <td>...</td>\n",
       "      <td>...</td>\n",
       "      <td>...</td>\n",
       "      <td>...</td>\n",
       "      <td>...</td>\n",
       "      <td>...</td>\n",
       "      <td>...</td>\n",
       "      <td>...</td>\n",
       "      <td>...</td>\n",
       "      <td>...</td>\n",
       "      <td>...</td>\n",
       "      <td>...</td>\n",
       "      <td>...</td>\n",
       "      <td>...</td>\n",
       "      <td>...</td>\n",
       "      <td>...</td>\n",
       "      <td>...</td>\n",
       "      <td>...</td>\n",
       "      <td>...</td>\n",
       "      <td>...</td>\n",
       "      <td>...</td>\n",
       "      <td>...</td>\n",
       "      <td>...</td>\n",
       "      <td>...</td>\n",
       "      <td>...</td>\n",
       "      <td>...</td>\n",
       "    </tr>\n",
       "    <tr>\n",
       "      <th>995</th>\n",
       "      <td>1.0</td>\n",
       "      <td>15.0</td>\n",
       "      <td>1.0</td>\n",
       "      <td>1.0</td>\n",
       "      <td>0.0</td>\n",
       "      <td>0.0</td>\n",
       "      <td>0.0</td>\n",
       "      <td>0.0</td>\n",
       "      <td>0.0</td>\n",
       "      <td>1264.0</td>\n",
       "      <td>1.0</td>\n",
       "      <td>2.0</td>\n",
       "      <td>2.0</td>\n",
       "      <td>0.0</td>\n",
       "      <td>0.0</td>\n",
       "      <td>1.0</td>\n",
       "      <td>0.0</td>\n",
       "      <td>0.0</td>\n",
       "      <td>2.0</td>\n",
       "      <td>0.0</td>\n",
       "      <td>0.0</td>\n",
       "      <td>25.0</td>\n",
       "      <td>0.0</td>\n",
       "      <td>1.0</td>\n",
       "      <td>0.0</td>\n",
       "      <td>1.0</td>\n",
       "      <td>2.0</td>\n",
       "      <td>1.0</td>\n",
       "      <td>0.0</td>\n",
       "      <td>0.0</td>\n",
       "    </tr>\n",
       "    <tr>\n",
       "      <th>996</th>\n",
       "      <td>1.0</td>\n",
       "      <td>30.0</td>\n",
       "      <td>4.0</td>\n",
       "      <td>0.0</td>\n",
       "      <td>0.0</td>\n",
       "      <td>1.0</td>\n",
       "      <td>0.0</td>\n",
       "      <td>0.0</td>\n",
       "      <td>0.0</td>\n",
       "      <td>8386.0</td>\n",
       "      <td>0.0</td>\n",
       "      <td>3.0</td>\n",
       "      <td>2.0</td>\n",
       "      <td>0.0</td>\n",
       "      <td>1.0</td>\n",
       "      <td>0.0</td>\n",
       "      <td>0.0</td>\n",
       "      <td>0.0</td>\n",
       "      <td>2.0</td>\n",
       "      <td>0.0</td>\n",
       "      <td>0.0</td>\n",
       "      <td>49.0</td>\n",
       "      <td>0.0</td>\n",
       "      <td>0.0</td>\n",
       "      <td>1.0</td>\n",
       "      <td>1.0</td>\n",
       "      <td>2.0</td>\n",
       "      <td>1.0</td>\n",
       "      <td>0.0</td>\n",
       "      <td>0.0</td>\n",
       "    </tr>\n",
       "    <tr>\n",
       "      <th>997</th>\n",
       "      <td>3.0</td>\n",
       "      <td>48.0</td>\n",
       "      <td>2.0</td>\n",
       "      <td>0.0</td>\n",
       "      <td>0.0</td>\n",
       "      <td>0.0</td>\n",
       "      <td>0.0</td>\n",
       "      <td>0.0</td>\n",
       "      <td>1.0</td>\n",
       "      <td>4844.0</td>\n",
       "      <td>0.0</td>\n",
       "      <td>0.0</td>\n",
       "      <td>3.0</td>\n",
       "      <td>0.0</td>\n",
       "      <td>1.0</td>\n",
       "      <td>0.0</td>\n",
       "      <td>0.0</td>\n",
       "      <td>0.0</td>\n",
       "      <td>2.0</td>\n",
       "      <td>0.0</td>\n",
       "      <td>0.0</td>\n",
       "      <td>33.0</td>\n",
       "      <td>1.0</td>\n",
       "      <td>1.0</td>\n",
       "      <td>0.0</td>\n",
       "      <td>1.0</td>\n",
       "      <td>3.0</td>\n",
       "      <td>1.0</td>\n",
       "      <td>1.0</td>\n",
       "      <td>0.0</td>\n",
       "    </tr>\n",
       "    <tr>\n",
       "      <th>998</th>\n",
       "      <td>0.0</td>\n",
       "      <td>36.0</td>\n",
       "      <td>2.0</td>\n",
       "      <td>0.0</td>\n",
       "      <td>1.0</td>\n",
       "      <td>0.0</td>\n",
       "      <td>0.0</td>\n",
       "      <td>0.0</td>\n",
       "      <td>0.0</td>\n",
       "      <td>8229.0</td>\n",
       "      <td>0.0</td>\n",
       "      <td>2.0</td>\n",
       "      <td>2.0</td>\n",
       "      <td>0.0</td>\n",
       "      <td>1.0</td>\n",
       "      <td>0.0</td>\n",
       "      <td>0.0</td>\n",
       "      <td>0.0</td>\n",
       "      <td>2.0</td>\n",
       "      <td>0.0</td>\n",
       "      <td>0.0</td>\n",
       "      <td>26.0</td>\n",
       "      <td>0.0</td>\n",
       "      <td>0.0</td>\n",
       "      <td>1.0</td>\n",
       "      <td>1.0</td>\n",
       "      <td>2.0</td>\n",
       "      <td>2.0</td>\n",
       "      <td>0.0</td>\n",
       "      <td>0.0</td>\n",
       "    </tr>\n",
       "    <tr>\n",
       "      <th>999</th>\n",
       "      <td>0.0</td>\n",
       "      <td>45.0</td>\n",
       "      <td>2.0</td>\n",
       "      <td>0.0</td>\n",
       "      <td>0.0</td>\n",
       "      <td>0.0</td>\n",
       "      <td>1.0</td>\n",
       "      <td>0.0</td>\n",
       "      <td>0.0</td>\n",
       "      <td>1845.0</td>\n",
       "      <td>0.0</td>\n",
       "      <td>2.0</td>\n",
       "      <td>4.0</td>\n",
       "      <td>0.0</td>\n",
       "      <td>1.0</td>\n",
       "      <td>0.0</td>\n",
       "      <td>0.0</td>\n",
       "      <td>0.0</td>\n",
       "      <td>4.0</td>\n",
       "      <td>0.0</td>\n",
       "      <td>1.0</td>\n",
       "      <td>23.0</td>\n",
       "      <td>0.0</td>\n",
       "      <td>0.0</td>\n",
       "      <td>0.0</td>\n",
       "      <td>1.0</td>\n",
       "      <td>2.0</td>\n",
       "      <td>1.0</td>\n",
       "      <td>1.0</td>\n",
       "      <td>0.0</td>\n",
       "    </tr>\n",
       "  </tbody>\n",
       "</table>\n",
       "<p>1000 rows × 30 columns</p>\n",
       "</div>"
      ],
      "text/plain": [
       "     CHK_ACCT  DURATION  HISTORY  NEW_CAR  USED_CAR  FURNITURE  RADIO/TV  \\\n",
       "0         0.0       6.0      4.0      0.0       0.0        0.0       1.0   \n",
       "1         3.0      12.0      4.0      0.0       0.0        0.0       0.0   \n",
       "2         0.0      42.0      2.0      0.0       0.0        1.0       0.0   \n",
       "3         3.0      36.0      2.0      0.0       0.0        0.0       0.0   \n",
       "4         3.0      24.0      2.0      0.0       0.0        1.0       0.0   \n",
       "..        ...       ...      ...      ...       ...        ...       ...   \n",
       "995       1.0      15.0      1.0      1.0       0.0        0.0       0.0   \n",
       "996       1.0      30.0      4.0      0.0       0.0        1.0       0.0   \n",
       "997       3.0      48.0      2.0      0.0       0.0        0.0       0.0   \n",
       "998       0.0      36.0      2.0      0.0       1.0        0.0       0.0   \n",
       "999       0.0      45.0      2.0      0.0       0.0        0.0       1.0   \n",
       "\n",
       "     EDUCATION  RETRAINING  AMOUNT  SAV_ACCT  EMPLOYMENT  INSTALL_RATE  \\\n",
       "0          0.0         0.0  1169.0       4.0         4.0           4.0   \n",
       "1          1.0         0.0  2096.0       0.0         3.0           2.0   \n",
       "2          0.0         0.0  7882.0       0.0         3.0           2.0   \n",
       "3          1.0         0.0  9055.0       4.0         2.0           2.0   \n",
       "4          0.0         0.0  2835.0       2.0         4.0           3.0   \n",
       "..         ...         ...     ...       ...         ...           ...   \n",
       "995        0.0         0.0  1264.0       1.0         2.0           2.0   \n",
       "996        0.0         0.0  8386.0       0.0         3.0           2.0   \n",
       "997        0.0         1.0  4844.0       0.0         0.0           3.0   \n",
       "998        0.0         0.0  8229.0       0.0         2.0           2.0   \n",
       "999        0.0         0.0  1845.0       0.0         2.0           4.0   \n",
       "\n",
       "     MALE_DIV  MALE_SINGLE  MALE_MAR_or_WID  CO-APPLICANT  GUARANTOR  \\\n",
       "0         0.0          1.0              0.0           0.0        0.0   \n",
       "1         0.0          1.0              0.0           0.0        0.0   \n",
       "2         0.0          1.0              0.0           0.0        1.0   \n",
       "3         0.0          1.0              0.0           0.0        0.0   \n",
       "4         0.0          1.0              0.0           0.0        0.0   \n",
       "..        ...          ...              ...           ...        ...   \n",
       "995       0.0          0.0              1.0           0.0        0.0   \n",
       "996       0.0          1.0              0.0           0.0        0.0   \n",
       "997       0.0          1.0              0.0           0.0        0.0   \n",
       "998       0.0          1.0              0.0           0.0        0.0   \n",
       "999       0.0          1.0              0.0           0.0        0.0   \n",
       "\n",
       "     PRESENT_RESIDENT  REAL_ESTATE  PROP_UNKN_NONE   AGE  OTHER_INSTALL  RENT  \\\n",
       "0                 4.0          1.0             0.0  67.0            0.0   0.0   \n",
       "1                 3.0          1.0             0.0  49.0            0.0   0.0   \n",
       "2                 4.0          0.0             0.0  45.0            0.0   0.0   \n",
       "3                 4.0          0.0             1.0  35.0            0.0   0.0   \n",
       "4                 4.0          0.0             0.0  53.0            0.0   0.0   \n",
       "..                ...          ...             ...   ...            ...   ...   \n",
       "995               2.0          0.0             0.0  25.0            0.0   1.0   \n",
       "996               2.0          0.0             0.0  49.0            0.0   0.0   \n",
       "997               2.0          0.0             0.0  33.0            1.0   1.0   \n",
       "998               2.0          0.0             0.0  26.0            0.0   0.0   \n",
       "999               4.0          0.0             1.0  23.0            0.0   0.0   \n",
       "\n",
       "     OWN_RES  NUM_CREDITS  JOB  NUM_DEPENDENTS  TELEPHONE  FOREIGN  \n",
       "0        1.0          2.0  2.0             1.0        1.0      0.0  \n",
       "1        1.0          1.0  1.0             2.0        0.0      0.0  \n",
       "2        0.0          1.0  2.0             2.0        0.0      0.0  \n",
       "3        0.0          1.0  1.0             2.0        1.0      0.0  \n",
       "4        1.0          1.0  2.0             1.0        0.0      0.0  \n",
       "..       ...          ...  ...             ...        ...      ...  \n",
       "995      0.0          1.0  2.0             1.0        0.0      0.0  \n",
       "996      1.0          1.0  2.0             1.0        0.0      0.0  \n",
       "997      0.0          1.0  3.0             1.0        1.0      0.0  \n",
       "998      1.0          1.0  2.0             2.0        0.0      0.0  \n",
       "999      0.0          1.0  2.0             1.0        1.0      0.0  \n",
       "\n",
       "[1000 rows x 30 columns]"
      ]
     },
     "execution_count": 61,
     "metadata": {},
     "output_type": "execute_result"
    }
   ],
   "source": [
    "utilities_df"
   ]
  },
  {
   "cell_type": "code",
   "execution_count": null,
   "id": "b67a0557",
   "metadata": {},
   "outputs": [],
   "source": []
  },
  {
   "cell_type": "code",
   "execution_count": 40,
   "id": "73fff24b",
   "metadata": {},
   "outputs": [
    {
     "data": {
      "text/plain": [
       "0.11354128683008745"
      ]
     },
     "execution_count": 40,
     "metadata": {},
     "output_type": "execute_result"
    }
   ],
   "source": [
    "silhouette_score(X, clustering.labels_)"
   ]
  },
  {
   "cell_type": "code",
   "execution_count": 41,
   "id": "6f9c46ef",
   "metadata": {},
   "outputs": [
    {
     "data": {
      "text/plain": [
       "array([-0.15594488, -0.17462279, -0.16189757, ..., -0.17854829,\n",
       "       -0.15868563, -0.16294397])"
      ]
     },
     "execution_count": 41,
     "metadata": {},
     "output_type": "execute_result"
    }
   ],
   "source": [
    "silhouette_vals = silhouette_samples(X, clustering.labels_)\n",
    "silhouette_vals"
   ]
  },
  {
   "cell_type": "code",
   "execution_count": 42,
   "id": "030efd3f",
   "metadata": {},
   "outputs": [],
   "source": [
    "df1 = utilities_df_norm\n",
    "y_predict = clustering.labels_"
   ]
  },
  {
   "cell_type": "code",
   "execution_count": 43,
   "id": "13fdf695",
   "metadata": {
    "scrolled": true
   },
   "outputs": [
    {
     "data": {
      "image/png": "[encoded data removed]",
      "text/plain": [
       "<Figure size 1080x360 with 2 Axes>"
      ]
     },
     "metadata": {
      "needs_background": "light"
     },
     "output_type": "display_data"
    },
    {
     "data": {
      "image/png": "[encoded data removed]",
      "text/plain": [
       "<Figure size 1080x360 with 2 Axes>"
      ]
     },
     "metadata": {
      "needs_background": "light"
     },
     "output_type": "display_data"
    },
    {
     "data": {
      "image/png": "[encoded data removed]",
      "text/plain": [
       "<Figure size 1080x360 with 2 Axes>"
      ]
     },
     "metadata": {
      "needs_background": "light"
     },
     "output_type": "display_data"
    },
    {
     "data": {
      "image/png": "[encoded data removed]",
      "text/plain": [
       "<Figure size 1080x360 with 2 Axes>"
      ]
     },
     "metadata": {
      "needs_background": "light"
     },
     "output_type": "display_data"
    }
   ],
   "source": [
    "for i,k in enumerate([2,3,4,5]):\n",
    "    \n",
    "    fig, ax = plt.subplots(1,2,figsize=(15,5))\n",
    "    \n",
    "    # Run the kmeans algorithm\n",
    "    km = KMeans(n_clusters=k)\n",
    "    y_predict = km.fit_predict(utilities_df_norm)\n",
    "    centroids  = km.cluster_centers_\n",
    "# get silhouette\n",
    "silhouette_vals = silhouette_samples(utilities_df_norm, clustering.labels_)\n",
    "\n",
    "    #silhouette_vals\n",
    "# silhouette plot\n",
    "y_ticks = []\n",
    "y_lower = y_upper = 0\n",
    "for i,cluster in enumerate(np.unique(y_predict)):\n",
    "    # import pdb; pdb.set_trace()\n",
    "    cluster_silhouette_vals = silhouette_vals[y_predict ==cluster]\n",
    "    cluster_silhouette_vals.sort()\n",
    "    y_upper += len(cluster_silhouette_vals)\n",
    "\n",
    "    ax[0].barh(range(y_lower,y_upper),\n",
    "    cluster_silhouette_vals,height =1);\n",
    "    ax[0].text(-0.03,(y_lower+y_upper)/2,str(i+1))\n",
    "    y_lower += len(cluster_silhouette_vals)\n",
    "\n",
    "    # Get the average silhouette score \n",
    "    avg_score = np.mean(silhouette_vals)\n",
    "    ax[0].axvline(avg_score,linestyle ='--',\n",
    "    linewidth =2,color = 'green')\n",
    "    ax[0].set_yticks([])\n",
    "    ax[0].set_xlim([-0.1, 1])\n",
    "    ax[0].set_xlabel('Silhouette coefficient values')\n",
    "    ax[0].set_ylabel('Cluster labels')\n",
    "    ax[0].set_title('Silhouette plot for the various clusters');\n",
    "\n",
    "\n",
    "    # scatter plot of data colored with labels\n",
    "\n",
    "    #ax[1].scatter(df2['petal length (cm)'],\n",
    "    # df2['petal width (cm)'] , c = y_predict);\n",
    "    ax[1].scatter(centroids[:,0],centroids[:,1], marker = '*' , c= 'r',s =250);\n",
    "    ax[1].set_xlabel('Eruption time in mins')\n",
    "    ax[1].set_ylabel('Waiting time to next eruption')\n",
    "    ax[1].set_title('Visualization of clustered data', y=1.02)\n",
    "\n",
    "    plt.tight_layout()\n",
    "    plt.suptitle(f' Silhouette analysis using k = {k}',fontsize=16,fontweight = 'semibold')"
   ]
  },
  {
   "cell_type": "code",
   "execution_count": null,
   "id": "58aa1d2e",
   "metadata": {},
   "outputs": [],
   "source": []
  },
  {
   "cell_type": "code",
   "execution_count": null,
   "id": "6d7ce296",
   "metadata": {},
   "outputs": [],
   "source": []
  },
  {
   "cell_type": "code",
   "execution_count": null,
   "id": "2b59246c",
   "metadata": {},
   "outputs": [],
   "source": []
  },
  {
   "cell_type": "code",
   "execution_count": null,
   "id": "9abda678",
   "metadata": {
    "scrolled": true
   },
   "outputs": [],
   "source": []
  },
  {
   "cell_type": "code",
   "execution_count": null,
   "id": "065cbe65",
   "metadata": {},
   "outputs": [],
   "source": []
  }
 ],
 "metadata": {
  "kernelspec": {
   "display_name": "Python 3",
   "language": "python",
   "name": "python3"
  },
  "language_info": {
   "codemirror_mode": {
    "name": "ipython",
    "version": 3
   },
   "file_extension": ".py",
   "mimetype": "text/x-python",
   "name": "python",
   "nbconvert_exporter": "python",
   "pygments_lexer": "ipython3",
   "version": "3.6.9"
  },
  "toc": {
   "base_numbering": 1,
   "nav_menu": {},
   "number_sections": true,
   "sideBar": true,
   "skip_h1_title": false,
   "title_cell": "Table of Contents",
   "title_sidebar": "Contents",
   "toc_cell": false,
   "toc_position": {},
   "toc_section_display": true,
   "toc_window_display": true
  }
 },
 "nbformat": 4,
 "nbformat_minor": 5
}
