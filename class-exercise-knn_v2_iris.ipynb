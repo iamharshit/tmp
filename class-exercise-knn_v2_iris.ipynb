{
 "cells": [
  {
   "cell_type": "code",
   "execution_count": 1,
   "metadata": {
    "colab": {
     "base_uri": "https://localhost:8080/"
    },
    "executionInfo": {
     "elapsed": 6818,
     "status": "ok",
     "timestamp": 1665418838150,
     "user": {
      "displayName": "Prof. Srikumar Krishnamoorthy",
      "userId": "00429217032667515711"
     },
     "user_tz": -330
    },
    "id": "mvupj9dIv2JX",
    "outputId": "a2292660-11e3-41f3-d283-f18850525600"
   },
   "outputs": [],
   "source": [
    "#load packages\n",
    "import numpy as np\n",
    "import pandas as pd\n",
    "\n",
    "import matplotlib.pyplot as plt\n",
    "%matplotlib inline\n",
    "\n",
    "from sklearn import preprocessing, metrics\n",
    "from sklearn.model_selection import train_test_split\n",
    "from sklearn.neighbors import KNeighborsClassifier\n",
    "\n",
    "#install dataset package\n",
    "!pip install --quiet dmba\n",
    "import dmba\n",
    "from dmba import classificationSummary"
   ]
  },
  {
   "cell_type": "code",
   "execution_count": 7,
   "metadata": {},
   "outputs": [],
   "source": [
    "from sklearn import datasets\n",
    "iris = datasets.load_iris()"
   ]
  },
  {
   "cell_type": "code",
   "execution_count": null,
   "metadata": {},
   "outputs": [],
   "source": []
  },
  {
   "cell_type": "code",
   "execution_count": null,
   "metadata": {},
   "outputs": [],
   "source": []
  },
  {
   "cell_type": "code",
   "execution_count": null,
   "metadata": {},
   "outputs": [],
   "source": []
  },
  {
   "cell_type": "code",
   "execution_count": 2,
   "metadata": {
    "colab": {
     "base_uri": "https://localhost:8080/",
     "height": 261
    },
    "executionInfo": {
     "elapsed": 27,
     "status": "ok",
     "timestamp": 1665418838152,
     "user": {
      "displayName": "Prof. Srikumar Krishnamoorthy",
      "userId": "00429217032667515711"
     },
     "user_tz": -330
    },
    "id": "jIEt8w9rv6w3",
    "outputId": "4ca44458-f1cb-4bbb-e43c-34e1143a9acb"
   },
   "outputs": [
    {
     "data": {
      "text/html": [
       "<div>\n",
       "<style scoped>\n",
       "    .dataframe tbody tr th:only-of-type {\n",
       "        vertical-align: middle;\n",
       "    }\n",
       "\n",
       "    .dataframe tbody tr th {\n",
       "        vertical-align: top;\n",
       "    }\n",
       "\n",
       "    .dataframe thead th {\n",
       "        text-align: right;\n",
       "    }\n",
       "</style>\n",
       "<table border=\"1\" class=\"dataframe\">\n",
       "  <thead>\n",
       "    <tr style=\"text-align: right;\">\n",
       "      <th></th>\n",
       "      <th>Age</th>\n",
       "      <th>Experience</th>\n",
       "      <th>Income</th>\n",
       "      <th>Family</th>\n",
       "      <th>CCAvg</th>\n",
       "      <th>Education</th>\n",
       "      <th>Mortgage</th>\n",
       "      <th>Securities Account</th>\n",
       "      <th>CD Account</th>\n",
       "      <th>Online</th>\n",
       "      <th>CreditCard</th>\n",
       "    </tr>\n",
       "  </thead>\n",
       "  <tbody>\n",
       "    <tr>\n",
       "      <th>0</th>\n",
       "      <td>25</td>\n",
       "      <td>1</td>\n",
       "      <td>49</td>\n",
       "      <td>4</td>\n",
       "      <td>1.6</td>\n",
       "      <td>Undergrad</td>\n",
       "      <td>0</td>\n",
       "      <td>1</td>\n",
       "      <td>0</td>\n",
       "      <td>0</td>\n",
       "      <td>0</td>\n",
       "    </tr>\n",
       "    <tr>\n",
       "      <th>1</th>\n",
       "      <td>45</td>\n",
       "      <td>19</td>\n",
       "      <td>34</td>\n",
       "      <td>3</td>\n",
       "      <td>1.5</td>\n",
       "      <td>Undergrad</td>\n",
       "      <td>0</td>\n",
       "      <td>1</td>\n",
       "      <td>0</td>\n",
       "      <td>0</td>\n",
       "      <td>0</td>\n",
       "    </tr>\n",
       "    <tr>\n",
       "      <th>2</th>\n",
       "      <td>39</td>\n",
       "      <td>15</td>\n",
       "      <td>11</td>\n",
       "      <td>1</td>\n",
       "      <td>1.0</td>\n",
       "      <td>Undergrad</td>\n",
       "      <td>0</td>\n",
       "      <td>0</td>\n",
       "      <td>0</td>\n",
       "      <td>0</td>\n",
       "      <td>0</td>\n",
       "    </tr>\n",
       "    <tr>\n",
       "      <th>3</th>\n",
       "      <td>35</td>\n",
       "      <td>9</td>\n",
       "      <td>100</td>\n",
       "      <td>1</td>\n",
       "      <td>2.7</td>\n",
       "      <td>Graduate</td>\n",
       "      <td>0</td>\n",
       "      <td>0</td>\n",
       "      <td>0</td>\n",
       "      <td>0</td>\n",
       "      <td>0</td>\n",
       "    </tr>\n",
       "    <tr>\n",
       "      <th>4</th>\n",
       "      <td>35</td>\n",
       "      <td>8</td>\n",
       "      <td>45</td>\n",
       "      <td>4</td>\n",
       "      <td>1.0</td>\n",
       "      <td>Graduate</td>\n",
       "      <td>0</td>\n",
       "      <td>0</td>\n",
       "      <td>0</td>\n",
       "      <td>0</td>\n",
       "      <td>1</td>\n",
       "    </tr>\n",
       "  </tbody>\n",
       "</table>\n",
       "</div>"
      ],
      "text/plain": [
       "   Age  Experience  Income  Family  CCAvg  Education  Mortgage  \\\n",
       "0   25           1      49       4    1.6  Undergrad         0   \n",
       "1   45          19      34       3    1.5  Undergrad         0   \n",
       "2   39          15      11       1    1.0  Undergrad         0   \n",
       "3   35           9     100       1    2.7   Graduate         0   \n",
       "4   35           8      45       4    1.0   Graduate         0   \n",
       "\n",
       "  Securities Account CD Account Online CreditCard  \n",
       "0                  1          0      0          0  \n",
       "1                  1          0      0          0  \n",
       "2                  0          0      0          0  \n",
       "3                  0          0      0          0  \n",
       "4                  0          0      0          1  "
      ]
     },
     "execution_count": 2,
     "metadata": {},
     "output_type": "execute_result"
    }
   ],
   "source": [
    "# df = dmba.data.load_data('UniversalBank.csv') #loads to a pandas data frame\n",
    "# bank_df = df.drop(columns=['ID', 'ZIP Code'])\n",
    "# X, y = bank_df.drop(columns=['Personal Loan']), bank_df['Personal Loan']\n",
    "\n",
    "# X[['Education','Securities Account', 'CD Account', 'Online', 'CreditCard']] = X[['Education','Securities Account', 'CD Account', 'Online', 'CreditCard']].astype('category')\n",
    "# X['Education'] = X.Education.cat.rename_categories({1: 'Undergrad', 2: 'Graduate', 3: 'Professional'})#rename education labels to actual categories\n",
    "# X.head()"
   ]
  },
  {
   "cell_type": "code",
   "execution_count": null,
   "metadata": {},
   "outputs": [],
   "source": []
  },
  {
   "cell_type": "code",
   "execution_count": 9,
   "metadata": {},
   "outputs": [
    {
     "data": {
      "text/plain": [
       "array([0, 0, 0, 0, 0, 0, 0, 0, 0, 0, 0, 0, 0, 0, 0, 0, 0, 0, 0, 0, 0, 0,\n",
       "       0, 0, 0, 0, 0, 0, 0, 0, 0, 0, 0, 0, 0, 0, 0, 0, 0, 0, 0, 0, 0, 0,\n",
       "       0, 0, 0, 0, 0, 0, 1, 1, 1, 1, 1, 1, 1, 1, 1, 1, 1, 1, 1, 1, 1, 1,\n",
       "       1, 1, 1, 1, 1, 1, 1, 1, 1, 1, 1, 1, 1, 1, 1, 1, 1, 1, 1, 1, 1, 1,\n",
       "       1, 1, 1, 1, 1, 1, 1, 1, 1, 1, 1, 1, 2, 2, 2, 2, 2, 2, 2, 2, 2, 2,\n",
       "       2, 2, 2, 2, 2, 2, 2, 2, 2, 2, 2, 2, 2, 2, 2, 2, 2, 2, 2, 2, 2, 2,\n",
       "       2, 2, 2, 2, 2, 2, 2, 2, 2, 2, 2, 2, 2, 2, 2, 2, 2, 2])"
      ]
     },
     "execution_count": 9,
     "metadata": {},
     "output_type": "execute_result"
    }
   ],
   "source": []
  },
  {
   "cell_type": "code",
   "execution_count": 12,
   "metadata": {},
   "outputs": [],
   "source": [
    "X, y = iris['data'], iris['target']"
   ]
  },
  {
   "cell_type": "code",
   "execution_count": null,
   "metadata": {},
   "outputs": [],
   "source": []
  },
  {
   "cell_type": "code",
   "execution_count": null,
   "metadata": {},
   "outputs": [],
   "source": []
  },
  {
   "cell_type": "code",
   "execution_count": 13,
   "metadata": {
    "colab": {
     "base_uri": "https://localhost:8080/"
    },
    "executionInfo": {
     "elapsed": 18,
     "status": "ok",
     "timestamp": 1665418838153,
     "user": {
      "displayName": "Prof. Srikumar Krishnamoorthy",
      "userId": "00429217032667515711"
     },
     "user_tz": -330
    },
    "id": "SuS-35_UJBng",
    "outputId": "5af14a5b-4b53-45d9-c451-38261db4fd70"
   },
   "outputs": [
    {
     "data": {
      "text/plain": [
       "StandardScaler()"
      ]
     },
     "execution_count": 13,
     "metadata": {},
     "output_type": "execute_result"
    }
   ],
   "source": [
    "#build KNN model only on numeric columns\n",
    "#for KNN, standardize the numeric columns\n",
    "scaler = preprocessing.StandardScaler()\n",
    "# ncols = ['Age', 'Experience', 'Income', 'Family', 'CCAvg', 'Mortgage']\n",
    "# scaler.fit(X[ncols])\n",
    "scaler.fit(X)"
   ]
  },
  {
   "cell_type": "code",
   "execution_count": null,
   "metadata": {},
   "outputs": [],
   "source": []
  },
  {
   "cell_type": "code",
   "execution_count": 15,
   "metadata": {},
   "outputs": [
    {
     "data": {
      "text/plain": [
       "['Age', 'Experience', 'Income', 'Family', 'CCAvg', 'Mortgage']"
      ]
     },
     "execution_count": 15,
     "metadata": {},
     "output_type": "execute_result"
    }
   ],
   "source": [
    "ncols"
   ]
  },
  {
   "cell_type": "code",
   "execution_count": null,
   "metadata": {},
   "outputs": [],
   "source": []
  },
  {
   "cell_type": "code",
   "execution_count": 16,
   "metadata": {
    "colab": {
     "base_uri": "https://localhost:8080/"
    },
    "executionInfo": {
     "elapsed": 18,
     "status": "ok",
     "timestamp": 1665418838153,
     "user": {
      "displayName": "Prof. Srikumar Krishnamoorthy",
      "userId": "00429217032667515711"
     },
     "user_tz": -330
    },
    "id": "SuS-35_UJBng",
    "outputId": "5af14a5b-4b53-45d9-c451-38261db4fd70"
   },
   "outputs": [],
   "source": [
    "# Transform the numeric columns in the dataset\n",
    "X_transformed = pd.DataFrame(scaler.transform(X), )"
   ]
  },
  {
   "cell_type": "code",
   "execution_count": null,
   "metadata": {},
   "outputs": [],
   "source": []
  },
  {
   "cell_type": "code",
   "execution_count": null,
   "metadata": {},
   "outputs": [],
   "source": []
  },
  {
   "cell_type": "code",
   "execution_count": 17,
   "metadata": {
    "colab": {
     "base_uri": "https://localhost:8080/"
    },
    "executionInfo": {
     "elapsed": 18,
     "status": "ok",
     "timestamp": 1665418838153,
     "user": {
      "displayName": "Prof. Srikumar Krishnamoorthy",
      "userId": "00429217032667515711"
     },
     "user_tz": -330
    },
    "id": "SuS-35_UJBng",
    "outputId": "5af14a5b-4b53-45d9-c451-38261db4fd70"
   },
   "outputs": [],
   "source": [
    "#prepare train and test data - with only the numeric columns\n",
    "X_train, X_test, y_train, y_test = train_test_split(X_transformed, y, test_size=0.3, random_state=12, stratify=y)"
   ]
  },
  {
   "cell_type": "code",
   "execution_count": 18,
   "metadata": {
    "colab": {
     "base_uri": "https://localhost:8080/"
    },
    "executionInfo": {
     "elapsed": 18,
     "status": "ok",
     "timestamp": 1665418838153,
     "user": {
      "displayName": "Prof. Srikumar Krishnamoorthy",
      "userId": "00429217032667515711"
     },
     "user_tz": -330
    },
    "id": "SuS-35_UJBng",
    "outputId": "5af14a5b-4b53-45d9-c451-38261db4fd70"
   },
   "outputs": [],
   "source": [
    "#train a classifier for different values of k\n",
    "results = []\n",
    "for k in range(1, 10):\n",
    "    knn = KNeighborsClassifier(n_neighbors=k, weights='distance').fit(X_train, y_train) #euclidean distance, default; weights by default is uniform, change it to distance\n",
    "    results.append({'k': k, 'accuracy': metrics.accuracy_score(y_test, knn.predict(X_test))})"
   ]
  },
  {
   "cell_type": "code",
   "execution_count": 19,
   "metadata": {
    "colab": {
     "base_uri": "https://localhost:8080/"
    },
    "executionInfo": {
     "elapsed": 18,
     "status": "ok",
     "timestamp": 1665418838153,
     "user": {
      "displayName": "Prof. Srikumar Krishnamoorthy",
      "userId": "00429217032667515711"
     },
     "user_tz": -330
    },
    "id": "SuS-35_UJBng",
    "outputId": "5af14a5b-4b53-45d9-c451-38261db4fd70"
   },
   "outputs": [
    {
     "name": "stdout",
     "output_type": "stream",
     "text": [
      "   k  accuracy\n",
      "0  1  0.977778\n",
      "1  2  0.977778\n",
      "2  3  0.977778\n",
      "3  4  0.977778\n",
      "4  5  1.000000\n",
      "5  6  0.977778\n",
      "6  7  1.000000\n",
      "7  8  1.000000\n",
      "8  9  1.000000\n",
      "\u001b[1m Best k:  5\n"
     ]
    }
   ],
   "source": [
    "results = pd.DataFrame(results)\n",
    "print(results)\n",
    "print('\\033[1m'+\" Best k: \", np.argmax(results.to_numpy(), axis=0)[1] + 1)"
   ]
  },
  {
   "cell_type": "code",
   "execution_count": null,
   "metadata": {},
   "outputs": [],
   "source": []
  },
  {
   "cell_type": "code",
   "execution_count": 20,
   "metadata": {
    "colab": {
     "base_uri": "https://localhost:8080/"
    },
    "executionInfo": {
     "elapsed": 39821,
     "status": "ok",
     "timestamp": 1665418877960,
     "user": {
      "displayName": "Prof. Srikumar Krishnamoorthy",
      "userId": "00429217032667515711"
     },
     "user_tz": -330
    },
    "id": "7a4lL0oBw7Hs",
    "outputId": "7a7b62c8-e7ce-467a-f989-04f968fbf035"
   },
   "outputs": [],
   "source": [
    "#use numeric and non-numeric columns for KNN (with gower distance for variables with mixed data type)\n",
    "!pip install --quiet gower\n",
    "import gower as g\n",
    "\n",
    "#prepare train and test data\n",
    "#normalization of numeric column is handled internally by gower distance measure, and hence raw input matrix is used\n",
    "X_train, X_test, y_train, y_test = train_test_split(X, y, test_size=0.3, random_state=12, stratify=y)\n",
    "trainRows, testRows = X_train.shape[0], X_test.shape[0]"
   ]
  },
  {
   "cell_type": "code",
   "execution_count": null,
   "metadata": {},
   "outputs": [],
   "source": []
  },
  {
   "cell_type": "code",
   "execution_count": null,
   "metadata": {
    "colab": {
     "base_uri": "https://localhost:8080/"
    },
    "executionInfo": {
     "elapsed": 39821,
     "status": "ok",
     "timestamp": 1665418877960,
     "user": {
      "displayName": "Prof. Srikumar Krishnamoorthy",
      "userId": "00429217032667515711"
     },
     "user_tz": -330
    },
    "id": "7a4lL0oBw7Hs",
    "outputId": "7a7b62c8-e7ce-467a-f989-04f968fbf035"
   },
   "outputs": [],
   "source": [
    "#append train and test data to compute overall distance matrix\n",
    "Xall = np.concatenate((X_train, X_test), axis=0)"
   ]
  },
  {
   "cell_type": "code",
   "execution_count": null,
   "metadata": {},
   "outputs": [],
   "source": []
  },
  {
   "cell_type": "code",
   "execution_count": 24,
   "metadata": {},
   "outputs": [
    {
     "data": {
      "text/plain": [
       "array([[6.6, 3. , 4.4, 1.4],\n",
       "       [6.9, 3.2, 5.7, 2.3],\n",
       "       [4.4, 2.9, 1.4, 0.2],\n",
       "       [6.7, 3. , 5. , 1.7],\n",
       "       [6. , 2.7, 5.1, 1.6],\n",
       "       [4.5, 2.3, 1.3, 0.3],\n",
       "       [4.4, 3. , 1.3, 0.2],\n",
       "       [6.2, 2.2, 4.5, 1.5],\n",
       "       [7.2, 3.2, 6. , 1.8],\n",
       "       [5.8, 2.7, 5.1, 1.9],\n",
       "       [5.7, 3. , 4.2, 1.2],\n",
       "       [6.3, 2.7, 4.9, 1.8],\n",
       "       [6.7, 3.1, 4.7, 1.5],\n",
       "       [5.1, 2.5, 3. , 1.1],\n",
       "       [5.1, 3.4, 1.5, 0.2],\n",
       "       [5.3, 3.7, 1.5, 0.2],\n",
       "       [7.7, 3.8, 6.7, 2.2],\n",
       "       [5.6, 3. , 4.1, 1.3],\n",
       "       [6.7, 3.3, 5.7, 2.5],\n",
       "       [5.7, 2.5, 5. , 2. ],\n",
       "       [6.3, 2.5, 5. , 1.9],\n",
       "       [5.7, 2.8, 4.1, 1.3],\n",
       "       [5.4, 3.9, 1.3, 0.4],\n",
       "       [5. , 3.2, 1.2, 0.2],\n",
       "       [4.9, 2.4, 3.3, 1. ],\n",
       "       [5.5, 4.2, 1.4, 0.2],\n",
       "       [5.1, 3.7, 1.5, 0.4],\n",
       "       [6.9, 3.1, 5.1, 2.3],\n",
       "       [5.9, 3. , 5.1, 1.8],\n",
       "       [4.9, 3.6, 1.4, 0.1],\n",
       "       [6.4, 2.7, 5.3, 1.9],\n",
       "       [4.9, 3. , 1.4, 0.2],\n",
       "       [7. , 3.2, 4.7, 1.4],\n",
       "       [6. , 2.2, 5. , 1.5],\n",
       "       [4.4, 3.2, 1.3, 0.2],\n",
       "       [7.7, 2.6, 6.9, 2.3],\n",
       "       [5.5, 3.5, 1.3, 0.2],\n",
       "       [6.1, 2.6, 5.6, 1.4],\n",
       "       [5. , 3.5, 1.6, 0.6],\n",
       "       [5.6, 2.8, 4.9, 2. ],\n",
       "       [5.2, 4.1, 1.5, 0.1],\n",
       "       [5.7, 3.8, 1.7, 0.3],\n",
       "       [5.7, 2.8, 4.5, 1.3],\n",
       "       [5.7, 2.6, 3.5, 1. ],\n",
       "       [6.4, 3.1, 5.5, 1.8],\n",
       "       [5. , 3.4, 1.5, 0.2],\n",
       "       [5.1, 3.5, 1.4, 0.3],\n",
       "       [6.1, 2.8, 4.7, 1.2],\n",
       "       [6.4, 3.2, 5.3, 2.3],\n",
       "       [6.7, 3.1, 5.6, 2.4],\n",
       "       [5. , 3.6, 1.4, 0.2],\n",
       "       [5.6, 2.5, 3.9, 1.1],\n",
       "       [5. , 3.4, 1.6, 0.4],\n",
       "       [5.7, 4.4, 1.5, 0.4],\n",
       "       [6.6, 2.9, 4.6, 1.3],\n",
       "       [5.5, 2.6, 4.4, 1.2],\n",
       "       [5.1, 3.8, 1.6, 0.2],\n",
       "       [6.1, 2.9, 4.7, 1.4],\n",
       "       [5.6, 2.9, 3.6, 1.3],\n",
       "       [5.7, 2.9, 4.2, 1.3],\n",
       "       [6.4, 3.2, 4.5, 1.5],\n",
       "       [6.3, 3.3, 6. , 2.5],\n",
       "       [6.8, 2.8, 4.8, 1.4],\n",
       "       [6.7, 3.1, 4.4, 1.4],\n",
       "       [6.7, 2.5, 5.8, 1.8],\n",
       "       [6. , 3.4, 4.5, 1.6],\n",
       "       [7.9, 3.8, 6.4, 2. ],\n",
       "       [5.8, 2.8, 5.1, 2.4],\n",
       "       [4.8, 3.1, 1.6, 0.2],\n",
       "       [6.5, 3. , 5.5, 1.8],\n",
       "       [4.8, 3.4, 1.9, 0.2],\n",
       "       [6.7, 3. , 5.2, 2.3],\n",
       "       [5.2, 2.7, 3.9, 1.4],\n",
       "       [4.7, 3.2, 1.6, 0.2],\n",
       "       [6.8, 3.2, 5.9, 2.3],\n",
       "       [6. , 3. , 4.8, 1.8],\n",
       "       [5.5, 2.5, 4. , 1.3],\n",
       "       [6.7, 3.3, 5.7, 2.1],\n",
       "       [5.4, 3.4, 1.5, 0.4],\n",
       "       [4.6, 3.2, 1.4, 0.2],\n",
       "       [6.3, 2.5, 4.9, 1.5],\n",
       "       [6.1, 2.8, 4. , 1.3],\n",
       "       [6.9, 3.1, 5.4, 2.1],\n",
       "       [6.4, 2.8, 5.6, 2.2],\n",
       "       [5.1, 3.8, 1.5, 0.3],\n",
       "       [7.2, 3. , 5.8, 1.6],\n",
       "       [5.5, 2.4, 3.8, 1.1],\n",
       "       [5.1, 3.3, 1.7, 0.5],\n",
       "       [6.3, 2.8, 5.1, 1.5],\n",
       "       [5.6, 3. , 4.5, 1.5],\n",
       "       [6. , 2.2, 4. , 1. ],\n",
       "       [5. , 3.5, 1.3, 0.3],\n",
       "       [5.2, 3.4, 1.4, 0.2],\n",
       "       [5.8, 4. , 1.2, 0.2],\n",
       "       [5.4, 3. , 4.5, 1.5],\n",
       "       [4.9, 2.5, 4.5, 1.7],\n",
       "       [6.3, 2.9, 5.6, 1.8],\n",
       "       [6.2, 2.8, 4.8, 1.8],\n",
       "       [5.1, 3.8, 1.9, 0.4],\n",
       "       [5.8, 2.7, 4.1, 1. ],\n",
       "       [6.4, 2.9, 4.3, 1.3],\n",
       "       [5.4, 3.4, 1.7, 0.2],\n",
       "       [4.9, 3.1, 1.5, 0.1],\n",
       "       [6.2, 3.4, 5.4, 2.3],\n",
       "       [5.5, 2.4, 3.7, 1. ],\n",
       "       [7.1, 3. , 5.9, 2.1],\n",
       "       [4.3, 3. , 1.1, 0.1],\n",
       "       [7.7, 2.8, 6.7, 2. ],\n",
       "       [5.9, 3.2, 4.8, 1.8],\n",
       "       [7.3, 2.9, 6.3, 1.8],\n",
       "       [4.6, 3.1, 1.5, 0.2],\n",
       "       [4.8, 3.4, 1.6, 0.2],\n",
       "       [6.5, 2.8, 4.6, 1.5],\n",
       "       [4.7, 3.2, 1.3, 0.2],\n",
       "       [6.8, 3. , 5.5, 2.1],\n",
       "       [4.6, 3.4, 1.4, 0.3],\n",
       "       [5.4, 3.9, 1.7, 0.4],\n",
       "       [5.4, 3.7, 1.5, 0.2],\n",
       "       [4.8, 3. , 1.4, 0.1],\n",
       "       [6.3, 3.3, 4.7, 1.6],\n",
       "       [6.4, 2.8, 5.6, 2.1],\n",
       "       [5. , 2. , 3.5, 1. ],\n",
       "       [6.3, 2.3, 4.4, 1.3],\n",
       "       [6.2, 2.9, 4.3, 1.3],\n",
       "       [5.8, 2.7, 5.1, 1.9],\n",
       "       [7.7, 3. , 6.1, 2.3],\n",
       "       [7.2, 3.6, 6.1, 2.5],\n",
       "       [6.5, 3. , 5.8, 2.2],\n",
       "       [7.6, 3. , 6.6, 2.1],\n",
       "       [5. , 3. , 1.6, 0.2],\n",
       "       [5.5, 2.3, 4. , 1.3],\n",
       "       [5.8, 2.6, 4. , 1.2],\n",
       "       [5. , 3.3, 1.4, 0.2],\n",
       "       [4.9, 3.1, 1.5, 0.2],\n",
       "       [6.1, 3. , 4.6, 1.4],\n",
       "       [5.6, 2.7, 4.2, 1.3],\n",
       "       [5.8, 2.7, 3.9, 1.2],\n",
       "       [5.9, 3. , 4.2, 1.5],\n",
       "       [6.5, 3. , 5.2, 2. ],\n",
       "       [6.5, 3.2, 5.1, 2. ],\n",
       "       [5.2, 3.5, 1.5, 0.2],\n",
       "       [5.1, 3.5, 1.4, 0.2],\n",
       "       [4.8, 3. , 1.4, 0.3],\n",
       "       [6.1, 3. , 4.9, 1.8],\n",
       "       [6. , 2.9, 4.5, 1.5],\n",
       "       [6.3, 3.4, 5.6, 2.4],\n",
       "       [4.6, 3.6, 1. , 0.2],\n",
       "       [6.9, 3.1, 4.9, 1.5],\n",
       "       [5. , 2.3, 3.3, 1. ],\n",
       "       [7.4, 2.8, 6.1, 1.9]])"
      ]
     },
     "execution_count": 24,
     "metadata": {},
     "output_type": "execute_result"
    }
   ],
   "source": [
    "Xall"
   ]
  },
  {
   "cell_type": "code",
   "execution_count": 50,
   "metadata": {},
   "outputs": [
    {
     "data": {
      "text/html": [
       "<div>\n",
       "<style scoped>\n",
       "    .dataframe tbody tr th:only-of-type {\n",
       "        vertical-align: middle;\n",
       "    }\n",
       "\n",
       "    .dataframe tbody tr th {\n",
       "        vertical-align: top;\n",
       "    }\n",
       "\n",
       "    .dataframe thead th {\n",
       "        text-align: right;\n",
       "    }\n",
       "</style>\n",
       "<table border=\"1\" class=\"dataframe\">\n",
       "  <thead>\n",
       "    <tr style=\"text-align: right;\">\n",
       "      <th></th>\n",
       "      <th>age</th>\n",
       "      <th>gender</th>\n",
       "      <th>civil_status</th>\n",
       "    </tr>\n",
       "  </thead>\n",
       "  <tbody>\n",
       "    <tr>\n",
       "      <th>0</th>\n",
       "      <td>21</td>\n",
       "      <td>M</td>\n",
       "      <td>MARRIED</td>\n",
       "    </tr>\n",
       "    <tr>\n",
       "      <th>1</th>\n",
       "      <td>22</td>\n",
       "      <td>M</td>\n",
       "      <td>SINGLE</td>\n",
       "    </tr>\n",
       "    <tr>\n",
       "      <th>2</th>\n",
       "      <td>40</td>\n",
       "      <td>F</td>\n",
       "      <td>SINGLE</td>\n",
       "    </tr>\n",
       "  </tbody>\n",
       "</table>\n",
       "</div>"
      ],
      "text/plain": [
       "   age gender civil_status\n",
       "0   21      M      MARRIED\n",
       "1   22      M       SINGLE\n",
       "2   40      F       SINGLE"
      ]
     },
     "execution_count": 50,
     "metadata": {},
     "output_type": "execute_result"
    }
   ],
   "source": [
    "import numpy as np\n",
    "import pandas as pd\n",
    "\n",
    "df = pd.DataFrame({'age':[21, 22, 40],\n",
    "                   'gender':['M', 'M', 'F'],\n",
    "                   'civil_status':['MARRIED', 'SINGLE', 'SINGLE']\n",
    "                 })\n",
    "\n",
    "df"
   ]
  },
  {
   "cell_type": "code",
   "execution_count": 52,
   "metadata": {},
   "outputs": [
    {
     "name": "stdout",
     "output_type": "stream",
     "text": [
      "   age gender civil_status\n",
      "0   21      M      MARRIED\n",
      "1   22      M       SINGLE\n",
      "2   40      F       SINGLE\n"
     ]
    }
   ],
   "source": [
    "print(df)"
   ]
  },
  {
   "cell_type": "code",
   "execution_count": 51,
   "metadata": {},
   "outputs": [
    {
     "data": {
      "text/plain": [
       "array([[0.       , 0.3508772, 1.       ],\n",
       "       [0.3508772, 0.       , 0.6491228],\n",
       "       [1.       , 0.6491228, 0.       ]], dtype=float32)"
      ]
     },
     "execution_count": 51,
     "metadata": {},
     "output_type": "execute_result"
    }
   ],
   "source": [
    "import gower\n",
    "\n",
    "gower.gower_matrix(df)"
   ]
  },
  {
   "cell_type": "code",
   "execution_count": null,
   "metadata": {},
   "outputs": [],
   "source": []
  },
  {
   "cell_type": "code",
   "execution_count": null,
   "metadata": {},
   "outputs": [],
   "source": []
  },
  {
   "cell_type": "code",
   "execution_count": null,
   "metadata": {},
   "outputs": [],
   "source": []
  },
  {
   "cell_type": "code",
   "execution_count": null,
   "metadata": {},
   "outputs": [],
   "source": []
  },
  {
   "cell_type": "code",
   "execution_count": null,
   "metadata": {},
   "outputs": [],
   "source": []
  },
  {
   "cell_type": "code",
   "execution_count": 25,
   "metadata": {
    "colab": {
     "base_uri": "https://localhost:8080/"
    },
    "executionInfo": {
     "elapsed": 39821,
     "status": "ok",
     "timestamp": 1665418877960,
     "user": {
      "displayName": "Prof. Srikumar Krishnamoorthy",
      "userId": "00429217032667515711"
     },
     "user_tz": -330
    },
    "id": "7a4lL0oBw7Hs",
    "outputId": "7a7b62c8-e7ce-467a-f989-04f968fbf035"
   },
   "outputs": [],
   "source": [
    "#distance matrix is built for both train and test data together; during training only train rows are used\n",
    "dMatrix = g.gower_matrix(Xall, cat_features=[False]*4) #columns 1-5 and 7 are numeric and the rest are categorical"
   ]
  },
  {
   "cell_type": "code",
   "execution_count": 36,
   "metadata": {},
   "outputs": [
    {
     "data": {
      "text/plain": [
       "(150, 150)"
      ]
     },
     "execution_count": 36,
     "metadata": {},
     "output_type": "execute_result"
    }
   ],
   "source": [
    "dMatrix.shape"
   ]
  },
  {
   "cell_type": "code",
   "execution_count": 33,
   "metadata": {},
   "outputs": [
    {
     "data": {
      "text/plain": [
       "dict_keys(['data', 'target', 'frame', 'target_names', 'DESCR', 'feature_names', 'filename'])"
      ]
     },
     "execution_count": 33,
     "metadata": {},
     "output_type": "execute_result"
    }
   ],
   "source": [
    "iris.keys()"
   ]
  },
  {
   "cell_type": "code",
   "execution_count": 34,
   "metadata": {},
   "outputs": [
    {
     "data": {
      "text/plain": [
       "{'data': array([[5.1, 3.5, 1.4, 0.2],\n",
       "        [4.9, 3. , 1.4, 0.2],\n",
       "        [4.7, 3.2, 1.3, 0.2],\n",
       "        [4.6, 3.1, 1.5, 0.2],\n",
       "        [5. , 3.6, 1.4, 0.2],\n",
       "        [5.4, 3.9, 1.7, 0.4],\n",
       "        [4.6, 3.4, 1.4, 0.3],\n",
       "        [5. , 3.4, 1.5, 0.2],\n",
       "        [4.4, 2.9, 1.4, 0.2],\n",
       "        [4.9, 3.1, 1.5, 0.1],\n",
       "        [5.4, 3.7, 1.5, 0.2],\n",
       "        [4.8, 3.4, 1.6, 0.2],\n",
       "        [4.8, 3. , 1.4, 0.1],\n",
       "        [4.3, 3. , 1.1, 0.1],\n",
       "        [5.8, 4. , 1.2, 0.2],\n",
       "        [5.7, 4.4, 1.5, 0.4],\n",
       "        [5.4, 3.9, 1.3, 0.4],\n",
       "        [5.1, 3.5, 1.4, 0.3],\n",
       "        [5.7, 3.8, 1.7, 0.3],\n",
       "        [5.1, 3.8, 1.5, 0.3],\n",
       "        [5.4, 3.4, 1.7, 0.2],\n",
       "        [5.1, 3.7, 1.5, 0.4],\n",
       "        [4.6, 3.6, 1. , 0.2],\n",
       "        [5.1, 3.3, 1.7, 0.5],\n",
       "        [4.8, 3.4, 1.9, 0.2],\n",
       "        [5. , 3. , 1.6, 0.2],\n",
       "        [5. , 3.4, 1.6, 0.4],\n",
       "        [5.2, 3.5, 1.5, 0.2],\n",
       "        [5.2, 3.4, 1.4, 0.2],\n",
       "        [4.7, 3.2, 1.6, 0.2],\n",
       "        [4.8, 3.1, 1.6, 0.2],\n",
       "        [5.4, 3.4, 1.5, 0.4],\n",
       "        [5.2, 4.1, 1.5, 0.1],\n",
       "        [5.5, 4.2, 1.4, 0.2],\n",
       "        [4.9, 3.1, 1.5, 0.2],\n",
       "        [5. , 3.2, 1.2, 0.2],\n",
       "        [5.5, 3.5, 1.3, 0.2],\n",
       "        [4.9, 3.6, 1.4, 0.1],\n",
       "        [4.4, 3. , 1.3, 0.2],\n",
       "        [5.1, 3.4, 1.5, 0.2],\n",
       "        [5. , 3.5, 1.3, 0.3],\n",
       "        [4.5, 2.3, 1.3, 0.3],\n",
       "        [4.4, 3.2, 1.3, 0.2],\n",
       "        [5. , 3.5, 1.6, 0.6],\n",
       "        [5.1, 3.8, 1.9, 0.4],\n",
       "        [4.8, 3. , 1.4, 0.3],\n",
       "        [5.1, 3.8, 1.6, 0.2],\n",
       "        [4.6, 3.2, 1.4, 0.2],\n",
       "        [5.3, 3.7, 1.5, 0.2],\n",
       "        [5. , 3.3, 1.4, 0.2],\n",
       "        [7. , 3.2, 4.7, 1.4],\n",
       "        [6.4, 3.2, 4.5, 1.5],\n",
       "        [6.9, 3.1, 4.9, 1.5],\n",
       "        [5.5, 2.3, 4. , 1.3],\n",
       "        [6.5, 2.8, 4.6, 1.5],\n",
       "        [5.7, 2.8, 4.5, 1.3],\n",
       "        [6.3, 3.3, 4.7, 1.6],\n",
       "        [4.9, 2.4, 3.3, 1. ],\n",
       "        [6.6, 2.9, 4.6, 1.3],\n",
       "        [5.2, 2.7, 3.9, 1.4],\n",
       "        [5. , 2. , 3.5, 1. ],\n",
       "        [5.9, 3. , 4.2, 1.5],\n",
       "        [6. , 2.2, 4. , 1. ],\n",
       "        [6.1, 2.9, 4.7, 1.4],\n",
       "        [5.6, 2.9, 3.6, 1.3],\n",
       "        [6.7, 3.1, 4.4, 1.4],\n",
       "        [5.6, 3. , 4.5, 1.5],\n",
       "        [5.8, 2.7, 4.1, 1. ],\n",
       "        [6.2, 2.2, 4.5, 1.5],\n",
       "        [5.6, 2.5, 3.9, 1.1],\n",
       "        [5.9, 3.2, 4.8, 1.8],\n",
       "        [6.1, 2.8, 4. , 1.3],\n",
       "        [6.3, 2.5, 4.9, 1.5],\n",
       "        [6.1, 2.8, 4.7, 1.2],\n",
       "        [6.4, 2.9, 4.3, 1.3],\n",
       "        [6.6, 3. , 4.4, 1.4],\n",
       "        [6.8, 2.8, 4.8, 1.4],\n",
       "        [6.7, 3. , 5. , 1.7],\n",
       "        [6. , 2.9, 4.5, 1.5],\n",
       "        [5.7, 2.6, 3.5, 1. ],\n",
       "        [5.5, 2.4, 3.8, 1.1],\n",
       "        [5.5, 2.4, 3.7, 1. ],\n",
       "        [5.8, 2.7, 3.9, 1.2],\n",
       "        [6. , 2.7, 5.1, 1.6],\n",
       "        [5.4, 3. , 4.5, 1.5],\n",
       "        [6. , 3.4, 4.5, 1.6],\n",
       "        [6.7, 3.1, 4.7, 1.5],\n",
       "        [6.3, 2.3, 4.4, 1.3],\n",
       "        [5.6, 3. , 4.1, 1.3],\n",
       "        [5.5, 2.5, 4. , 1.3],\n",
       "        [5.5, 2.6, 4.4, 1.2],\n",
       "        [6.1, 3. , 4.6, 1.4],\n",
       "        [5.8, 2.6, 4. , 1.2],\n",
       "        [5. , 2.3, 3.3, 1. ],\n",
       "        [5.6, 2.7, 4.2, 1.3],\n",
       "        [5.7, 3. , 4.2, 1.2],\n",
       "        [5.7, 2.9, 4.2, 1.3],\n",
       "        [6.2, 2.9, 4.3, 1.3],\n",
       "        [5.1, 2.5, 3. , 1.1],\n",
       "        [5.7, 2.8, 4.1, 1.3],\n",
       "        [6.3, 3.3, 6. , 2.5],\n",
       "        [5.8, 2.7, 5.1, 1.9],\n",
       "        [7.1, 3. , 5.9, 2.1],\n",
       "        [6.3, 2.9, 5.6, 1.8],\n",
       "        [6.5, 3. , 5.8, 2.2],\n",
       "        [7.6, 3. , 6.6, 2.1],\n",
       "        [4.9, 2.5, 4.5, 1.7],\n",
       "        [7.3, 2.9, 6.3, 1.8],\n",
       "        [6.7, 2.5, 5.8, 1.8],\n",
       "        [7.2, 3.6, 6.1, 2.5],\n",
       "        [6.5, 3.2, 5.1, 2. ],\n",
       "        [6.4, 2.7, 5.3, 1.9],\n",
       "        [6.8, 3. , 5.5, 2.1],\n",
       "        [5.7, 2.5, 5. , 2. ],\n",
       "        [5.8, 2.8, 5.1, 2.4],\n",
       "        [6.4, 3.2, 5.3, 2.3],\n",
       "        [6.5, 3. , 5.5, 1.8],\n",
       "        [7.7, 3.8, 6.7, 2.2],\n",
       "        [7.7, 2.6, 6.9, 2.3],\n",
       "        [6. , 2.2, 5. , 1.5],\n",
       "        [6.9, 3.2, 5.7, 2.3],\n",
       "        [5.6, 2.8, 4.9, 2. ],\n",
       "        [7.7, 2.8, 6.7, 2. ],\n",
       "        [6.3, 2.7, 4.9, 1.8],\n",
       "        [6.7, 3.3, 5.7, 2.1],\n",
       "        [7.2, 3.2, 6. , 1.8],\n",
       "        [6.2, 2.8, 4.8, 1.8],\n",
       "        [6.1, 3. , 4.9, 1.8],\n",
       "        [6.4, 2.8, 5.6, 2.1],\n",
       "        [7.2, 3. , 5.8, 1.6],\n",
       "        [7.4, 2.8, 6.1, 1.9],\n",
       "        [7.9, 3.8, 6.4, 2. ],\n",
       "        [6.4, 2.8, 5.6, 2.2],\n",
       "        [6.3, 2.8, 5.1, 1.5],\n",
       "        [6.1, 2.6, 5.6, 1.4],\n",
       "        [7.7, 3. , 6.1, 2.3],\n",
       "        [6.3, 3.4, 5.6, 2.4],\n",
       "        [6.4, 3.1, 5.5, 1.8],\n",
       "        [6. , 3. , 4.8, 1.8],\n",
       "        [6.9, 3.1, 5.4, 2.1],\n",
       "        [6.7, 3.1, 5.6, 2.4],\n",
       "        [6.9, 3.1, 5.1, 2.3],\n",
       "        [5.8, 2.7, 5.1, 1.9],\n",
       "        [6.8, 3.2, 5.9, 2.3],\n",
       "        [6.7, 3.3, 5.7, 2.5],\n",
       "        [6.7, 3. , 5.2, 2.3],\n",
       "        [6.3, 2.5, 5. , 1.9],\n",
       "        [6.5, 3. , 5.2, 2. ],\n",
       "        [6.2, 3.4, 5.4, 2.3],\n",
       "        [5.9, 3. , 5.1, 1.8]]),\n",
       " 'target': array([0, 0, 0, 0, 0, 0, 0, 0, 0, 0, 0, 0, 0, 0, 0, 0, 0, 0, 0, 0, 0, 0,\n",
       "        0, 0, 0, 0, 0, 0, 0, 0, 0, 0, 0, 0, 0, 0, 0, 0, 0, 0, 0, 0, 0, 0,\n",
       "        0, 0, 0, 0, 0, 0, 1, 1, 1, 1, 1, 1, 1, 1, 1, 1, 1, 1, 1, 1, 1, 1,\n",
       "        1, 1, 1, 1, 1, 1, 1, 1, 1, 1, 1, 1, 1, 1, 1, 1, 1, 1, 1, 1, 1, 1,\n",
       "        1, 1, 1, 1, 1, 1, 1, 1, 1, 1, 1, 1, 2, 2, 2, 2, 2, 2, 2, 2, 2, 2,\n",
       "        2, 2, 2, 2, 2, 2, 2, 2, 2, 2, 2, 2, 2, 2, 2, 2, 2, 2, 2, 2, 2, 2,\n",
       "        2, 2, 2, 2, 2, 2, 2, 2, 2, 2, 2, 2, 2, 2, 2, 2, 2, 2]),\n",
       " 'frame': None,\n",
       " 'target_names': array(['setosa', 'versicolor', 'virginica'], dtype='<U10'),\n",
       " 'DESCR': '.. _iris_dataset:\\n\\nIris plants dataset\\n--------------------\\n\\n**Data Set Characteristics:**\\n\\n    :Number of Instances: 150 (50 in each of three classes)\\n    :Number of Attributes: 4 numeric, predictive attributes and the class\\n    :Attribute Information:\\n        - sepal length in cm\\n        - sepal width in cm\\n        - petal length in cm\\n        - petal width in cm\\n        - class:\\n                - Iris-Setosa\\n                - Iris-Versicolour\\n                - Iris-Virginica\\n                \\n    :Summary Statistics:\\n\\n    ============== ==== ==== ======= ===== ====================\\n                    Min  Max   Mean    SD   Class Correlation\\n    ============== ==== ==== ======= ===== ====================\\n    sepal length:   4.3  7.9   5.84   0.83    0.7826\\n    sepal width:    2.0  4.4   3.05   0.43   -0.4194\\n    petal length:   1.0  6.9   3.76   1.76    0.9490  (high!)\\n    petal width:    0.1  2.5   1.20   0.76    0.9565  (high!)\\n    ============== ==== ==== ======= ===== ====================\\n\\n    :Missing Attribute Values: None\\n    :Class Distribution: 33.3% for each of 3 classes.\\n    :Creator: R.A. Fisher\\n    :Donor: Michael Marshall (MARSHALL%PLU@io.arc.nasa.gov)\\n    :Date: July, 1988\\n\\nThe famous Iris database, first used by Sir R.A. Fisher. The dataset is taken\\nfrom Fisher\\'s paper. Note that it\\'s the same as in R, but not as in the UCI\\nMachine Learning Repository, which has two wrong data points.\\n\\nThis is perhaps the best known database to be found in the\\npattern recognition literature.  Fisher\\'s paper is a classic in the field and\\nis referenced frequently to this day.  (See Duda & Hart, for example.)  The\\ndata set contains 3 classes of 50 instances each, where each class refers to a\\ntype of iris plant.  One class is linearly separable from the other 2; the\\nlatter are NOT linearly separable from each other.\\n\\n.. topic:: References\\n\\n   - Fisher, R.A. \"The use of multiple measurements in taxonomic problems\"\\n     Annual Eugenics, 7, Part II, 179-188 (1936); also in \"Contributions to\\n     Mathematical Statistics\" (John Wiley, NY, 1950).\\n   - Duda, R.O., & Hart, P.E. (1973) Pattern Classification and Scene Analysis.\\n     (Q327.D83) John Wiley & Sons.  ISBN 0-471-22361-1.  See page 218.\\n   - Dasarathy, B.V. (1980) \"Nosing Around the Neighborhood: A New System\\n     Structure and Classification Rule for Recognition in Partially Exposed\\n     Environments\".  IEEE Transactions on Pattern Analysis and Machine\\n     Intelligence, Vol. PAMI-2, No. 1, 67-71.\\n   - Gates, G.W. (1972) \"The Reduced Nearest Neighbor Rule\".  IEEE Transactions\\n     on Information Theory, May 1972, 431-433.\\n   - See also: 1988 MLC Proceedings, 54-64.  Cheeseman et al\"s AUTOCLASS II\\n     conceptual clustering system finds 3 classes in the data.\\n   - Many, many more ...',\n",
       " 'feature_names': ['sepal length (cm)',\n",
       "  'sepal width (cm)',\n",
       "  'petal length (cm)',\n",
       "  'petal width (cm)'],\n",
       " 'filename': 'C:\\\\Users\\\\harshit.agarwal\\\\my_Miniconda3\\\\envs\\\\python_env_v2\\\\lib\\\\site-packages\\\\sklearn\\\\datasets\\\\data\\\\iris.csv'}"
      ]
     },
     "execution_count": 34,
     "metadata": {},
     "output_type": "execute_result"
    }
   ],
   "source": [
    "iris"
   ]
  },
  {
   "cell_type": "code",
   "execution_count": null,
   "metadata": {},
   "outputs": [],
   "source": []
  },
  {
   "cell_type": "code",
   "execution_count": null,
   "metadata": {},
   "outputs": [],
   "source": []
  },
  {
   "cell_type": "code",
   "execution_count": 26,
   "metadata": {
    "colab": {
     "base_uri": "https://localhost:8080/"
    },
    "executionInfo": {
     "elapsed": 39821,
     "status": "ok",
     "timestamp": 1665418877960,
     "user": {
      "displayName": "Prof. Srikumar Krishnamoorthy",
      "userId": "00429217032667515711"
     },
     "user_tz": -330
    },
    "id": "7a4lL0oBw7Hs",
    "outputId": "7a7b62c8-e7ce-467a-f989-04f968fbf035"
   },
   "outputs": [
    {
     "name": "stdout",
     "output_type": "stream",
     "text": [
      "   k  accuracy\n",
      "0  1  0.955556\n",
      "1  2  0.955556\n",
      "2  3  0.977778\n",
      "3  4  0.977778\n",
      "4  5  0.977778\n",
      "5  6  0.977778\n",
      "6  7  0.977778\n",
      "7  8  0.977778\n",
      "8  9  0.977778\n",
      "\u001b[1mBest k:  3\n"
     ]
    }
   ],
   "source": [
    "#train a classifier for different values of k\n",
    "results = []\n",
    "for k in range(1, 10):\n",
    "    knn = KNeighborsClassifier(n_neighbors=k, metric='precomputed', weights='distance').fit(dMatrix[0:trainRows, 0:trainRows], y_train) #train rows x train rows dist matrix\n",
    "    results.append({'k': k, 'accuracy': metrics.accuracy_score(y_test, knn.predict(dMatrix[trainRows:trainRows+testRows, 0:trainRows]))}) #test rows x train rows dist matrix (test done on the same set of columns used for train)\n",
    "\n",
    "results = pd.DataFrame(results)\n",
    "print(results)\n",
    "print('\\033[1m'+\"Best k: \", np.argmax(results.to_numpy(), axis=0)[1] + 1)"
   ]
  },
  {
   "cell_type": "code",
   "execution_count": null,
   "metadata": {},
   "outputs": [],
   "source": []
  },
  {
   "cell_type": "code",
   "execution_count": null,
   "metadata": {},
   "outputs": [],
   "source": []
  },
  {
   "cell_type": "code",
   "execution_count": 27,
   "metadata": {
    "colab": {
     "base_uri": "https://localhost:8080/",
     "height": 282
    },
    "executionInfo": {
     "elapsed": 1010,
     "status": "ok",
     "timestamp": 1665418878962,
     "user": {
      "displayName": "Prof. Srikumar Krishnamoorthy",
      "userId": "00429217032667515711"
     },
     "user_tz": -330
    },
    "id": "pinw3vZUxPR-",
    "outputId": "45b75cb1-efee-41b3-b454-a7554af8de20"
   },
   "outputs": [
    {
     "name": "stdout",
     "output_type": "stream",
     "text": [
      "Accuracy  0.978\n"
     ]
    },
    {
     "data": {
      "image/png": "[encoded data removed]",
      "text/plain": [
       "<Figure size 432x288 with 2 Axes>"
      ]
     },
     "metadata": {
      "needs_background": "light"
     },
     "output_type": "display_data"
    }
   ],
   "source": [
    "#final model, based on best k identified above\n",
    "knn = KNeighborsClassifier(n_neighbors=4, metric='precomputed', weights='distance').fit(dMatrix[0:trainRows, 0:trainRows], y_train)\n",
    "acc = metrics.accuracy_score(y_test, knn.predict(dMatrix[trainRows:trainRows+testRows, 0:trainRows])).round(3)\n",
    "print(\"Accuracy \", acc)\n",
    "\n",
    "import seaborn as sns\n",
    "%matplotlib inline\n",
    "\n",
    "cmat = metrics.confusion_matrix(y_test, knn.predict(dMatrix[trainRows:trainRows+testRows, 0:trainRows]))\n",
    "p=sns.heatmap(cmat, annot=True, fmt='', cmap='coolwarm')"
   ]
  },
  {
   "cell_type": "code",
   "execution_count": null,
   "metadata": {},
   "outputs": [],
   "source": []
  },
  {
   "cell_type": "code",
   "execution_count": 28,
   "metadata": {
    "colab": {
     "base_uri": "https://localhost:8080/"
    },
    "executionInfo": {
     "elapsed": 10,
     "status": "ok",
     "timestamp": 1665418878963,
     "user": {
      "displayName": "Prof. Srikumar Krishnamoorthy",
      "userId": "00429217032667515711"
     },
     "user_tz": -330
    },
    "id": "qMtIScDvYQ0i",
    "outputId": "53aeb176-3e0d-4a2c-9448-73ae63213b64"
   },
   "outputs": [
    {
     "name": "stdout",
     "output_type": "stream",
     "text": [
      "Confusion Matrix (Accuracy 0.9778)\n",
      "\n",
      "       Prediction\n",
      "Actual  0  1  2\n",
      "     0 15  0  0\n",
      "     1  0 14  1\n",
      "     2  0  0 15\n"
     ]
    }
   ],
   "source": [
    "classificationSummary(y_test, knn.predict(dMatrix[trainRows:trainRows+testRows, 0:trainRows]))"
   ]
  },
  {
   "cell_type": "code",
   "execution_count": 30,
   "metadata": {
    "executionInfo": {
     "elapsed": 8,
     "status": "ok",
     "timestamp": 1665418878964,
     "user": {
      "displayName": "Prof. Srikumar Krishnamoorthy",
      "userId": "00429217032667515711"
     },
     "user_tz": -330
    },
    "id": "mlxKS-QJY3bP"
   },
   "outputs": [
    {
     "data": {
      "text/plain": [
       "(45, 1)"
      ]
     },
     "execution_count": 30,
     "metadata": {},
     "output_type": "execute_result"
    }
   ],
   "source": [
    "pd.DataFrame(y_test).shape"
   ]
  },
  {
   "cell_type": "code",
   "execution_count": null,
   "metadata": {},
   "outputs": [],
   "source": []
  }
 ],
 "metadata": {
  "colab": {
   "authorship_tag": "ABX9TyO2HYc+3S/wnd9Za6lQX6/w",
   "collapsed_sections": [],
   "provenance": []
  },
  "kernelspec": {
   "display_name": "Python 3",
   "language": "python",
   "name": "python3"
  },
  "language_info": {
   "codemirror_mode": {
    "name": "ipython",
    "version": 3
   },
   "file_extension": ".py",
   "mimetype": "text/x-python",
   "name": "python",
   "nbconvert_exporter": "python",
   "pygments_lexer": "ipython3",
   "version": "3.6.9"
  },
  "toc": {
   "base_numbering": 1,
   "nav_menu": {},
   "number_sections": true,
   "sideBar": true,
   "skip_h1_title": false,
   "title_cell": "Table of Contents",
   "title_sidebar": "Contents",
   "toc_cell": false,
   "toc_position": {},
   "toc_section_display": true,
   "toc_window_display": false
  }
 },
 "nbformat": 4,
 "nbformat_minor": 1
}
