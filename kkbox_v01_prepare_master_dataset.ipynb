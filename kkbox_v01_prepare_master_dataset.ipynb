{
 "cells": [
  {
   "cell_type": "code",
   "execution_count": 109,
   "id": "f7e1e07d",
   "metadata": {},
   "outputs": [],
   "source": [
    "import pandas as pd\n",
    "from functools import reduce"
   ]
  },
  {
   "cell_type": "markdown",
   "id": "99abff65",
   "metadata": {},
   "source": [
    "# `train.csv`"
   ]
  },
  {
   "cell_type": "code",
   "execution_count": 13,
   "id": "53b9f907",
   "metadata": {},
   "outputs": [],
   "source": [
    "df_train = pd.read_csv('kk_box/train.csv')"
   ]
  },
  {
   "cell_type": "code",
   "execution_count": 14,
   "id": "3da004a9",
   "metadata": {},
   "outputs": [
    {
     "data": {
      "text/html": [
       "<div>\n",
       "<style scoped>\n",
       "    .dataframe tbody tr th:only-of-type {\n",
       "        vertical-align: middle;\n",
       "    }\n",
       "\n",
       "    .dataframe tbody tr th {\n",
       "        vertical-align: top;\n",
       "    }\n",
       "\n",
       "    .dataframe thead th {\n",
       "        text-align: right;\n",
       "    }\n",
       "</style>\n",
       "<table border=\"1\" class=\"dataframe\">\n",
       "  <thead>\n",
       "    <tr style=\"text-align: right;\">\n",
       "      <th></th>\n",
       "      <th>msno</th>\n",
       "      <th>is_churn</th>\n",
       "    </tr>\n",
       "  </thead>\n",
       "  <tbody>\n",
       "    <tr>\n",
       "      <th>0</th>\n",
       "      <td>waLDQMmcOu2jLDaV1ddDkgCrB/jl6sD66Xzs0Vqax1Y=</td>\n",
       "      <td>1</td>\n",
       "    </tr>\n",
       "    <tr>\n",
       "      <th>1</th>\n",
       "      <td>QA7uiXy8vIbUSPOkCf9RwQ3FsT8jVq2OxDr8zqa7bRQ=</td>\n",
       "      <td>1</td>\n",
       "    </tr>\n",
       "    <tr>\n",
       "      <th>2</th>\n",
       "      <td>fGwBva6hikQmTJzrbz/2Ezjm5Cth5jZUNvXigKK2AFA=</td>\n",
       "      <td>1</td>\n",
       "    </tr>\n",
       "    <tr>\n",
       "      <th>3</th>\n",
       "      <td>mT5V8rEpa+8wuqi6x0DoVd3H5icMKkE9Prt49UlmK+4=</td>\n",
       "      <td>1</td>\n",
       "    </tr>\n",
       "    <tr>\n",
       "      <th>4</th>\n",
       "      <td>XaPhtGLk/5UvvOYHcONTwsnH97P4eGECeq+BARGItRw=</td>\n",
       "      <td>1</td>\n",
       "    </tr>\n",
       "    <tr>\n",
       "      <th>...</th>\n",
       "      <td>...</td>\n",
       "      <td>...</td>\n",
       "    </tr>\n",
       "    <tr>\n",
       "      <th>992926</th>\n",
       "      <td>tUM0yxAj50Vc35vQZ++xMlomdyeLJUW9lEcoPnt3H+g=</td>\n",
       "      <td>0</td>\n",
       "    </tr>\n",
       "    <tr>\n",
       "      <th>992927</th>\n",
       "      <td>KQS8etmfGgvE/7Y9gK+E9wdLnRTI0lyyPXaXL3I8E4c=</td>\n",
       "      <td>0</td>\n",
       "    </tr>\n",
       "    <tr>\n",
       "      <th>992928</th>\n",
       "      <td>8/jDLgNREuWI9hcKVYp8723nmavn01T+AuMWkK3uM7g=</td>\n",
       "      <td>0</td>\n",
       "    </tr>\n",
       "    <tr>\n",
       "      <th>992929</th>\n",
       "      <td>iNV99F1Rml7EMndOeLI0Y/iek6aCj/Qp1Z4dZvR+sak=</td>\n",
       "      <td>0</td>\n",
       "    </tr>\n",
       "    <tr>\n",
       "      <th>992930</th>\n",
       "      <td>ZoVEIVMCpKT9/MJgqO+fh9xYrNM2vNisLhJ4xY/CVyk=</td>\n",
       "      <td>0</td>\n",
       "    </tr>\n",
       "  </tbody>\n",
       "</table>\n",
       "<p>992931 rows × 2 columns</p>\n",
       "</div>"
      ],
      "text/plain": [
       "                                                msno  is_churn\n",
       "0       waLDQMmcOu2jLDaV1ddDkgCrB/jl6sD66Xzs0Vqax1Y=         1\n",
       "1       QA7uiXy8vIbUSPOkCf9RwQ3FsT8jVq2OxDr8zqa7bRQ=         1\n",
       "2       fGwBva6hikQmTJzrbz/2Ezjm5Cth5jZUNvXigKK2AFA=         1\n",
       "3       mT5V8rEpa+8wuqi6x0DoVd3H5icMKkE9Prt49UlmK+4=         1\n",
       "4       XaPhtGLk/5UvvOYHcONTwsnH97P4eGECeq+BARGItRw=         1\n",
       "...                                              ...       ...\n",
       "992926  tUM0yxAj50Vc35vQZ++xMlomdyeLJUW9lEcoPnt3H+g=         0\n",
       "992927  KQS8etmfGgvE/7Y9gK+E9wdLnRTI0lyyPXaXL3I8E4c=         0\n",
       "992928  8/jDLgNREuWI9hcKVYp8723nmavn01T+AuMWkK3uM7g=         0\n",
       "992929  iNV99F1Rml7EMndOeLI0Y/iek6aCj/Qp1Z4dZvR+sak=         0\n",
       "992930  ZoVEIVMCpKT9/MJgqO+fh9xYrNM2vNisLhJ4xY/CVyk=         0\n",
       "\n",
       "[992931 rows x 2 columns]"
      ]
     },
     "execution_count": 14,
     "metadata": {},
     "output_type": "execute_result"
    }
   ],
   "source": [
    "df_train"
   ]
  },
  {
   "cell_type": "code",
   "execution_count": 89,
   "id": "84a52701",
   "metadata": {},
   "outputs": [
    {
     "data": {
      "text/plain": [
       "(992931, 2)"
      ]
     },
     "execution_count": 89,
     "metadata": {},
     "output_type": "execute_result"
    }
   ],
   "source": [
    "df_train.shape"
   ]
  },
  {
   "cell_type": "code",
   "execution_count": 7,
   "id": "9c61c86c",
   "metadata": {},
   "outputs": [
    {
     "data": {
      "text/plain": [
       "992931"
      ]
     },
     "execution_count": 7,
     "metadata": {},
     "output_type": "execute_result"
    }
   ],
   "source": [
    "df['msno'].nunique()"
   ]
  },
  {
   "cell_type": "markdown",
   "id": "7aed9b6b",
   "metadata": {},
   "source": [
    "# `transactions.csv`"
   ]
  },
  {
   "cell_type": "code",
   "execution_count": 75,
   "id": "1af7003e",
   "metadata": {},
   "outputs": [],
   "source": [
    "df_transactions = pd.read_csv('kk_box/transactions.csv')"
   ]
  },
  {
   "cell_type": "code",
   "execution_count": 84,
   "id": "900fef8d",
   "metadata": {},
   "outputs": [
    {
     "data": {
      "text/plain": [
       "(21547746, 9)"
      ]
     },
     "execution_count": 84,
     "metadata": {},
     "output_type": "execute_result"
    }
   ],
   "source": [
    "df_transactions.shape"
   ]
  },
  {
   "cell_type": "code",
   "execution_count": 85,
   "id": "d2ac1174",
   "metadata": {},
   "outputs": [
    {
     "data": {
      "text/plain": [
       "2363626"
      ]
     },
     "execution_count": 85,
     "metadata": {},
     "output_type": "execute_result"
    }
   ],
   "source": [
    "df_transactions['msno'].nunique()"
   ]
  },
  {
   "cell_type": "code",
   "execution_count": 80,
   "id": "3a7c6ba2",
   "metadata": {},
   "outputs": [],
   "source": [
    "df_transactions['transaction_date'] = pd.to_datetime(df_transactions['transaction_date'], format='%Y%m%d')"
   ]
  },
  {
   "cell_type": "code",
   "execution_count": null,
   "id": "da384d79",
   "metadata": {},
   "outputs": [],
   "source": []
  },
  {
   "cell_type": "code",
   "execution_count": 82,
   "id": "64ac9a54",
   "metadata": {},
   "outputs": [],
   "source": [
    "df_transactions_recent = df_transactions.sort_values('transaction_date').drop_duplicates('msno', keep='last')"
   ]
  },
  {
   "cell_type": "code",
   "execution_count": 83,
   "id": "8fef90aa",
   "metadata": {},
   "outputs": [
    {
     "data": {
      "text/plain": [
       "(2363626, 9)"
      ]
     },
     "execution_count": 83,
     "metadata": {},
     "output_type": "execute_result"
    }
   ],
   "source": [
    "df_transactions_recent.shape"
   ]
  },
  {
   "cell_type": "code",
   "execution_count": null,
   "id": "fec6ab61",
   "metadata": {},
   "outputs": [],
   "source": []
  },
  {
   "cell_type": "code",
   "execution_count": 86,
   "id": "ac9fba09",
   "metadata": {},
   "outputs": [],
   "source": [
    "df_transactions_recent.drop(['transaction_date', 'membership_expire_date', 'is_cancel'], axis=1, inplace=True)"
   ]
  },
  {
   "cell_type": "code",
   "execution_count": 91,
   "id": "3310db0b",
   "metadata": {},
   "outputs": [
    {
     "data": {
      "text/html": [
       "<div>\n",
       "<style scoped>\n",
       "    .dataframe tbody tr th:only-of-type {\n",
       "        vertical-align: middle;\n",
       "    }\n",
       "\n",
       "    .dataframe tbody tr th {\n",
       "        vertical-align: top;\n",
       "    }\n",
       "\n",
       "    .dataframe thead th {\n",
       "        text-align: right;\n",
       "    }\n",
       "</style>\n",
       "<table border=\"1\" class=\"dataframe\">\n",
       "  <thead>\n",
       "    <tr style=\"text-align: right;\">\n",
       "      <th></th>\n",
       "      <th>msno</th>\n",
       "      <th>payment_method_id</th>\n",
       "      <th>payment_plan_days</th>\n",
       "      <th>plan_list_price</th>\n",
       "      <th>actual_amount_paid</th>\n",
       "      <th>is_auto_renew</th>\n",
       "    </tr>\n",
       "  </thead>\n",
       "  <tbody>\n",
       "    <tr>\n",
       "      <th>15737981</th>\n",
       "      <td>Dfw2/41SRq2K3rapP0wBp5JQgp9VV13tsRtfgiwk470=</td>\n",
       "      <td>38</td>\n",
       "      <td>30</td>\n",
       "      <td>149</td>\n",
       "      <td>149</td>\n",
       "      <td>0</td>\n",
       "    </tr>\n",
       "    <tr>\n",
       "      <th>9938169</th>\n",
       "      <td>GWbRdBcVudgCF0pW7tCLTMz/Fxe7921514SrlGtvepM=</td>\n",
       "      <td>41</td>\n",
       "      <td>30</td>\n",
       "      <td>149</td>\n",
       "      <td>0</td>\n",
       "      <td>1</td>\n",
       "    </tr>\n",
       "    <tr>\n",
       "      <th>14182213</th>\n",
       "      <td>C7Zfu90Wb3FLxtCoP3y3fXZLBX8FbJ8xj/V2Zih3G28=</td>\n",
       "      <td>41</td>\n",
       "      <td>30</td>\n",
       "      <td>149</td>\n",
       "      <td>0</td>\n",
       "      <td>1</td>\n",
       "    </tr>\n",
       "    <tr>\n",
       "      <th>16167750</th>\n",
       "      <td>CA1r9ztfjJE6qkKOjsJOzmgsjbu29veRP3rFW++fo5M=</td>\n",
       "      <td>37</td>\n",
       "      <td>31</td>\n",
       "      <td>149</td>\n",
       "      <td>149</td>\n",
       "      <td>1</td>\n",
       "    </tr>\n",
       "    <tr>\n",
       "      <th>18983809</th>\n",
       "      <td>beKbl9EGuDRbjBuONp58fOcHfs98pCt/GlYh91CzV5E=</td>\n",
       "      <td>41</td>\n",
       "      <td>30</td>\n",
       "      <td>149</td>\n",
       "      <td>0</td>\n",
       "      <td>1</td>\n",
       "    </tr>\n",
       "    <tr>\n",
       "      <th>...</th>\n",
       "      <td>...</td>\n",
       "      <td>...</td>\n",
       "      <td>...</td>\n",
       "      <td>...</td>\n",
       "      <td>...</td>\n",
       "      <td>...</td>\n",
       "    </tr>\n",
       "    <tr>\n",
       "      <th>15306114</th>\n",
       "      <td>iWBrJKPBKn2fayVWq5cpnyKqwbdv9LdN4iCI5W5IAds=</td>\n",
       "      <td>41</td>\n",
       "      <td>30</td>\n",
       "      <td>99</td>\n",
       "      <td>99</td>\n",
       "      <td>1</td>\n",
       "    </tr>\n",
       "    <tr>\n",
       "      <th>15306115</th>\n",
       "      <td>cwGpKgqCr9z0m13j1jlEzWZq5SMLmn17nm0UNyKEbqQ=</td>\n",
       "      <td>41</td>\n",
       "      <td>30</td>\n",
       "      <td>99</td>\n",
       "      <td>99</td>\n",
       "      <td>1</td>\n",
       "    </tr>\n",
       "    <tr>\n",
       "      <th>15306116</th>\n",
       "      <td>11UwYeBrdZAsn1W+Dax92F/OBpHV3ypaGf0B8xgNebw=</td>\n",
       "      <td>41</td>\n",
       "      <td>30</td>\n",
       "      <td>99</td>\n",
       "      <td>99</td>\n",
       "      <td>1</td>\n",
       "    </tr>\n",
       "    <tr>\n",
       "      <th>15306107</th>\n",
       "      <td>9LoKAGbDKgBM3n0wVq84yoIXlktaVWXA20XyY9xLaz0=</td>\n",
       "      <td>33</td>\n",
       "      <td>30</td>\n",
       "      <td>149</td>\n",
       "      <td>149</td>\n",
       "      <td>1</td>\n",
       "    </tr>\n",
       "    <tr>\n",
       "      <th>20321569</th>\n",
       "      <td>6Qz47X3lnQrdgb0Q62Dx7N/MxZSCZuVaAoawS08hNXU=</td>\n",
       "      <td>34</td>\n",
       "      <td>30</td>\n",
       "      <td>149</td>\n",
       "      <td>149</td>\n",
       "      <td>1</td>\n",
       "    </tr>\n",
       "  </tbody>\n",
       "</table>\n",
       "<p>2363626 rows × 6 columns</p>\n",
       "</div>"
      ],
      "text/plain": [
       "                                                  msno  payment_method_id  \\\n",
       "15737981  Dfw2/41SRq2K3rapP0wBp5JQgp9VV13tsRtfgiwk470=                 38   \n",
       "9938169   GWbRdBcVudgCF0pW7tCLTMz/Fxe7921514SrlGtvepM=                 41   \n",
       "14182213  C7Zfu90Wb3FLxtCoP3y3fXZLBX8FbJ8xj/V2Zih3G28=                 41   \n",
       "16167750  CA1r9ztfjJE6qkKOjsJOzmgsjbu29veRP3rFW++fo5M=                 37   \n",
       "18983809  beKbl9EGuDRbjBuONp58fOcHfs98pCt/GlYh91CzV5E=                 41   \n",
       "...                                                ...                ...   \n",
       "15306114  iWBrJKPBKn2fayVWq5cpnyKqwbdv9LdN4iCI5W5IAds=                 41   \n",
       "15306115  cwGpKgqCr9z0m13j1jlEzWZq5SMLmn17nm0UNyKEbqQ=                 41   \n",
       "15306116  11UwYeBrdZAsn1W+Dax92F/OBpHV3ypaGf0B8xgNebw=                 41   \n",
       "15306107  9LoKAGbDKgBM3n0wVq84yoIXlktaVWXA20XyY9xLaz0=                 33   \n",
       "20321569  6Qz47X3lnQrdgb0Q62Dx7N/MxZSCZuVaAoawS08hNXU=                 34   \n",
       "\n",
       "          payment_plan_days  plan_list_price  actual_amount_paid  \\\n",
       "15737981                 30              149                 149   \n",
       "9938169                  30              149                   0   \n",
       "14182213                 30              149                   0   \n",
       "16167750                 31              149                 149   \n",
       "18983809                 30              149                   0   \n",
       "...                     ...              ...                 ...   \n",
       "15306114                 30               99                  99   \n",
       "15306115                 30               99                  99   \n",
       "15306116                 30               99                  99   \n",
       "15306107                 30              149                 149   \n",
       "20321569                 30              149                 149   \n",
       "\n",
       "          is_auto_renew  \n",
       "15737981              0  \n",
       "9938169               1  \n",
       "14182213              1  \n",
       "16167750              1  \n",
       "18983809              1  \n",
       "...                 ...  \n",
       "15306114              1  \n",
       "15306115              1  \n",
       "15306116              1  \n",
       "15306107              1  \n",
       "20321569              1  \n",
       "\n",
       "[2363626 rows x 6 columns]"
      ]
     },
     "execution_count": 91,
     "metadata": {},
     "output_type": "execute_result"
    }
   ],
   "source": [
    "df_transactions_recent"
   ]
  },
  {
   "cell_type": "code",
   "execution_count": null,
   "id": "c40e815c",
   "metadata": {},
   "outputs": [],
   "source": []
  },
  {
   "cell_type": "markdown",
   "id": "aaf33d35",
   "metadata": {},
   "source": [
    "# `user_log_aggregated.csv`"
   ]
  },
  {
   "cell_type": "code",
   "execution_count": 18,
   "id": "d488330c",
   "metadata": {},
   "outputs": [],
   "source": [
    "df_user_logs = pd.read_csv('kk_box/user_log_aggregated.csv')"
   ]
  },
  {
   "cell_type": "code",
   "execution_count": 19,
   "id": "81e2a65b",
   "metadata": {},
   "outputs": [
    {
     "data": {
      "text/plain": [
       "(5234111, 11)"
      ]
     },
     "execution_count": 19,
     "metadata": {},
     "output_type": "execute_result"
    }
   ],
   "source": [
    "df_user_logs.shape"
   ]
  },
  {
   "cell_type": "code",
   "execution_count": 20,
   "id": "060cd4ed",
   "metadata": {},
   "outputs": [
    {
     "data": {
      "text/html": [
       "<div>\n",
       "<style scoped>\n",
       "    .dataframe tbody tr th:only-of-type {\n",
       "        vertical-align: middle;\n",
       "    }\n",
       "\n",
       "    .dataframe tbody tr th {\n",
       "        vertical-align: top;\n",
       "    }\n",
       "\n",
       "    .dataframe thead th {\n",
       "        text-align: right;\n",
       "    }\n",
       "</style>\n",
       "<table border=\"1\" class=\"dataframe\">\n",
       "  <thead>\n",
       "    <tr style=\"text-align: right;\">\n",
       "      <th></th>\n",
       "      <th>msno</th>\n",
       "      <th>date_min</th>\n",
       "      <th>date_max</th>\n",
       "      <th>date_count</th>\n",
       "      <th>num_25_sum</th>\n",
       "      <th>num_50_sum</th>\n",
       "      <th>num_75_sum</th>\n",
       "      <th>num_985_sum</th>\n",
       "      <th>num_100_sum</th>\n",
       "      <th>num_unq_sum</th>\n",
       "      <th>total_secs_sum</th>\n",
       "    </tr>\n",
       "  </thead>\n",
       "  <tbody>\n",
       "    <tr>\n",
       "      <th>0</th>\n",
       "      <td>+++4vcS9aMH7KWdfh5git6nA5fC5jjisd5H/NcM++WM=</td>\n",
       "      <td>20150427</td>\n",
       "      <td>20150427</td>\n",
       "      <td>1</td>\n",
       "      <td>1</td>\n",
       "      <td>1</td>\n",
       "      <td>0</td>\n",
       "      <td>0</td>\n",
       "      <td>0</td>\n",
       "      <td>2</td>\n",
       "      <td>9.741100e+01</td>\n",
       "    </tr>\n",
       "    <tr>\n",
       "      <th>1</th>\n",
       "      <td>+++EI4HgyhgcJHIPXk/VRP7bt17+2joG39T6oEfJ+tc=</td>\n",
       "      <td>20160420</td>\n",
       "      <td>20160420</td>\n",
       "      <td>1</td>\n",
       "      <td>2</td>\n",
       "      <td>0</td>\n",
       "      <td>0</td>\n",
       "      <td>0</td>\n",
       "      <td>0</td>\n",
       "      <td>1</td>\n",
       "      <td>5.686800e+01</td>\n",
       "    </tr>\n",
       "    <tr>\n",
       "      <th>2</th>\n",
       "      <td>+++FOrTS7ab3tIgIh8eWwX4FqRv8w/FoiOuyXsFvphY=</td>\n",
       "      <td>20160909</td>\n",
       "      <td>20160915</td>\n",
       "      <td>3</td>\n",
       "      <td>60</td>\n",
       "      <td>12</td>\n",
       "      <td>14</td>\n",
       "      <td>7</td>\n",
       "      <td>171</td>\n",
       "      <td>179</td>\n",
       "      <td>4.999677e+04</td>\n",
       "    </tr>\n",
       "    <tr>\n",
       "      <th>3</th>\n",
       "      <td>+++IZseRRiQS9aaSkH6cMYU6bGDcxUieAi/tH67sC5s=</td>\n",
       "      <td>20150101</td>\n",
       "      <td>20170227</td>\n",
       "      <td>10</td>\n",
       "      <td>817</td>\n",
       "      <td>249</td>\n",
       "      <td>227</td>\n",
       "      <td>195</td>\n",
       "      <td>59354</td>\n",
       "      <td>53604</td>\n",
       "      <td>1.466484e+07</td>\n",
       "    </tr>\n",
       "    <tr>\n",
       "      <th>4</th>\n",
       "      <td>+++TipL0Kt3JvgNE9ahuJ8o+drJAnQINtxD4c5GePXI=</td>\n",
       "      <td>20151230</td>\n",
       "      <td>20151230</td>\n",
       "      <td>1</td>\n",
       "      <td>3</td>\n",
       "      <td>3</td>\n",
       "      <td>2</td>\n",
       "      <td>1</td>\n",
       "      <td>14</td>\n",
       "      <td>22</td>\n",
       "      <td>3.661527e+03</td>\n",
       "    </tr>\n",
       "  </tbody>\n",
       "</table>\n",
       "</div>"
      ],
      "text/plain": [
       "                                           msno  date_min  date_max  \\\n",
       "0  +++4vcS9aMH7KWdfh5git6nA5fC5jjisd5H/NcM++WM=  20150427  20150427   \n",
       "1  +++EI4HgyhgcJHIPXk/VRP7bt17+2joG39T6oEfJ+tc=  20160420  20160420   \n",
       "2  +++FOrTS7ab3tIgIh8eWwX4FqRv8w/FoiOuyXsFvphY=  20160909  20160915   \n",
       "3  +++IZseRRiQS9aaSkH6cMYU6bGDcxUieAi/tH67sC5s=  20150101  20170227   \n",
       "4  +++TipL0Kt3JvgNE9ahuJ8o+drJAnQINtxD4c5GePXI=  20151230  20151230   \n",
       "\n",
       "   date_count  num_25_sum  num_50_sum  num_75_sum  num_985_sum  num_100_sum  \\\n",
       "0           1           1           1           0            0            0   \n",
       "1           1           2           0           0            0            0   \n",
       "2           3          60          12          14            7          171   \n",
       "3          10         817         249         227          195        59354   \n",
       "4           1           3           3           2            1           14   \n",
       "\n",
       "   num_unq_sum  total_secs_sum  \n",
       "0            2    9.741100e+01  \n",
       "1            1    5.686800e+01  \n",
       "2          179    4.999677e+04  \n",
       "3        53604    1.466484e+07  \n",
       "4           22    3.661527e+03  "
      ]
     },
     "execution_count": 20,
     "metadata": {},
     "output_type": "execute_result"
    }
   ],
   "source": [
    "df_user_logs.head()"
   ]
  },
  {
   "cell_type": "code",
   "execution_count": 92,
   "id": "6af53262",
   "metadata": {},
   "outputs": [],
   "source": [
    "df_user_logs.drop(['date_min', 'date_max', 'date_count'], axis=1, inplace=True)"
   ]
  },
  {
   "cell_type": "code",
   "execution_count": 96,
   "id": "c75c74d0",
   "metadata": {},
   "outputs": [],
   "source": [
    "df_user_logs.columns = df_user_logs.columns.str.replace('_sum', '')"
   ]
  },
  {
   "cell_type": "code",
   "execution_count": 97,
   "id": "35bc52d2",
   "metadata": {},
   "outputs": [
    {
     "data": {
      "text/html": [
       "<div>\n",
       "<style scoped>\n",
       "    .dataframe tbody tr th:only-of-type {\n",
       "        vertical-align: middle;\n",
       "    }\n",
       "\n",
       "    .dataframe tbody tr th {\n",
       "        vertical-align: top;\n",
       "    }\n",
       "\n",
       "    .dataframe thead th {\n",
       "        text-align: right;\n",
       "    }\n",
       "</style>\n",
       "<table border=\"1\" class=\"dataframe\">\n",
       "  <thead>\n",
       "    <tr style=\"text-align: right;\">\n",
       "      <th></th>\n",
       "      <th>msno</th>\n",
       "      <th>num_25</th>\n",
       "      <th>num_50</th>\n",
       "      <th>num_75</th>\n",
       "      <th>num_985</th>\n",
       "      <th>num_100</th>\n",
       "      <th>num_unq</th>\n",
       "      <th>total_secs</th>\n",
       "    </tr>\n",
       "  </thead>\n",
       "  <tbody>\n",
       "    <tr>\n",
       "      <th>0</th>\n",
       "      <td>+++4vcS9aMH7KWdfh5git6nA5fC5jjisd5H/NcM++WM=</td>\n",
       "      <td>1</td>\n",
       "      <td>1</td>\n",
       "      <td>0</td>\n",
       "      <td>0</td>\n",
       "      <td>0</td>\n",
       "      <td>2</td>\n",
       "      <td>9.741100e+01</td>\n",
       "    </tr>\n",
       "    <tr>\n",
       "      <th>1</th>\n",
       "      <td>+++EI4HgyhgcJHIPXk/VRP7bt17+2joG39T6oEfJ+tc=</td>\n",
       "      <td>2</td>\n",
       "      <td>0</td>\n",
       "      <td>0</td>\n",
       "      <td>0</td>\n",
       "      <td>0</td>\n",
       "      <td>1</td>\n",
       "      <td>5.686800e+01</td>\n",
       "    </tr>\n",
       "    <tr>\n",
       "      <th>2</th>\n",
       "      <td>+++FOrTS7ab3tIgIh8eWwX4FqRv8w/FoiOuyXsFvphY=</td>\n",
       "      <td>60</td>\n",
       "      <td>12</td>\n",
       "      <td>14</td>\n",
       "      <td>7</td>\n",
       "      <td>171</td>\n",
       "      <td>179</td>\n",
       "      <td>4.999677e+04</td>\n",
       "    </tr>\n",
       "    <tr>\n",
       "      <th>3</th>\n",
       "      <td>+++IZseRRiQS9aaSkH6cMYU6bGDcxUieAi/tH67sC5s=</td>\n",
       "      <td>817</td>\n",
       "      <td>249</td>\n",
       "      <td>227</td>\n",
       "      <td>195</td>\n",
       "      <td>59354</td>\n",
       "      <td>53604</td>\n",
       "      <td>1.466484e+07</td>\n",
       "    </tr>\n",
       "    <tr>\n",
       "      <th>4</th>\n",
       "      <td>+++TipL0Kt3JvgNE9ahuJ8o+drJAnQINtxD4c5GePXI=</td>\n",
       "      <td>3</td>\n",
       "      <td>3</td>\n",
       "      <td>2</td>\n",
       "      <td>1</td>\n",
       "      <td>14</td>\n",
       "      <td>22</td>\n",
       "      <td>3.661527e+03</td>\n",
       "    </tr>\n",
       "  </tbody>\n",
       "</table>\n",
       "</div>"
      ],
      "text/plain": [
       "                                           msno  num_25  num_50  num_75  \\\n",
       "0  +++4vcS9aMH7KWdfh5git6nA5fC5jjisd5H/NcM++WM=       1       1       0   \n",
       "1  +++EI4HgyhgcJHIPXk/VRP7bt17+2joG39T6oEfJ+tc=       2       0       0   \n",
       "2  +++FOrTS7ab3tIgIh8eWwX4FqRv8w/FoiOuyXsFvphY=      60      12      14   \n",
       "3  +++IZseRRiQS9aaSkH6cMYU6bGDcxUieAi/tH67sC5s=     817     249     227   \n",
       "4  +++TipL0Kt3JvgNE9ahuJ8o+drJAnQINtxD4c5GePXI=       3       3       2   \n",
       "\n",
       "   num_985  num_100  num_unq    total_secs  \n",
       "0        0        0        2  9.741100e+01  \n",
       "1        0        0        1  5.686800e+01  \n",
       "2        7      171      179  4.999677e+04  \n",
       "3      195    59354    53604  1.466484e+07  \n",
       "4        1       14       22  3.661527e+03  "
      ]
     },
     "execution_count": 97,
     "metadata": {},
     "output_type": "execute_result"
    }
   ],
   "source": [
    "df_user_logs.head()"
   ]
  },
  {
   "cell_type": "code",
   "execution_count": 21,
   "id": "5d4b1287",
   "metadata": {},
   "outputs": [
    {
     "data": {
      "text/plain": [
       "5234111"
      ]
     },
     "execution_count": 21,
     "metadata": {},
     "output_type": "execute_result"
    }
   ],
   "source": [
    "df_user_logs['msno'].nunique()"
   ]
  },
  {
   "cell_type": "code",
   "execution_count": null,
   "id": "a9e8557b",
   "metadata": {},
   "outputs": [],
   "source": []
  },
  {
   "cell_type": "code",
   "execution_count": 22,
   "id": "39227998",
   "metadata": {},
   "outputs": [
    {
     "name": "stdout",
     "output_type": "stream",
     "text": [
      "<class 'pandas.core.frame.DataFrame'>\n",
      "RangeIndex: 5234111 entries, 0 to 5234110\n",
      "Data columns (total 11 columns):\n",
      " #   Column          Dtype  \n",
      "---  ------          -----  \n",
      " 0   msno            object \n",
      " 1   date_min        int64  \n",
      " 2   date_max        int64  \n",
      " 3   date_count      int64  \n",
      " 4   num_25_sum      int64  \n",
      " 5   num_50_sum      int64  \n",
      " 6   num_75_sum      int64  \n",
      " 7   num_985_sum     int64  \n",
      " 8   num_100_sum     int64  \n",
      " 9   num_unq_sum     int64  \n",
      " 10  total_secs_sum  float64\n",
      "dtypes: float64(1), int64(9), object(1)\n",
      "memory usage: 439.3+ MB\n"
     ]
    }
   ],
   "source": [
    "df_user_logs.info()"
   ]
  },
  {
   "cell_type": "markdown",
   "id": "8eed6ac4",
   "metadata": {},
   "source": [
    "# `members_v3.csv`"
   ]
  },
  {
   "cell_type": "code",
   "execution_count": 98,
   "id": "b364219f",
   "metadata": {},
   "outputs": [],
   "source": [
    "df_members = pd.read_csv('kk_box/members_v3.csv')"
   ]
  },
  {
   "cell_type": "code",
   "execution_count": 99,
   "id": "bb670109",
   "metadata": {},
   "outputs": [
    {
     "data": {
      "text/html": [
       "<div>\n",
       "<style scoped>\n",
       "    .dataframe tbody tr th:only-of-type {\n",
       "        vertical-align: middle;\n",
       "    }\n",
       "\n",
       "    .dataframe tbody tr th {\n",
       "        vertical-align: top;\n",
       "    }\n",
       "\n",
       "    .dataframe thead th {\n",
       "        text-align: right;\n",
       "    }\n",
       "</style>\n",
       "<table border=\"1\" class=\"dataframe\">\n",
       "  <thead>\n",
       "    <tr style=\"text-align: right;\">\n",
       "      <th></th>\n",
       "      <th>msno</th>\n",
       "      <th>city</th>\n",
       "      <th>bd</th>\n",
       "      <th>gender</th>\n",
       "      <th>registered_via</th>\n",
       "      <th>registration_init_time</th>\n",
       "    </tr>\n",
       "  </thead>\n",
       "  <tbody>\n",
       "    <tr>\n",
       "      <th>0</th>\n",
       "      <td>Rb9UwLQTrxzBVwCB6+bCcSQWZ9JiNLC9dXtM1oEsZA8=</td>\n",
       "      <td>1</td>\n",
       "      <td>0</td>\n",
       "      <td>NaN</td>\n",
       "      <td>11</td>\n",
       "      <td>20110911</td>\n",
       "    </tr>\n",
       "    <tr>\n",
       "      <th>1</th>\n",
       "      <td>+tJonkh+O1CA796Fm5X60UMOtB6POHAwPjbTRVl/EuU=</td>\n",
       "      <td>1</td>\n",
       "      <td>0</td>\n",
       "      <td>NaN</td>\n",
       "      <td>7</td>\n",
       "      <td>20110914</td>\n",
       "    </tr>\n",
       "    <tr>\n",
       "      <th>2</th>\n",
       "      <td>cV358ssn7a0f7jZOwGNWS07wCKVqxyiImJUX6xcIwKw=</td>\n",
       "      <td>1</td>\n",
       "      <td>0</td>\n",
       "      <td>NaN</td>\n",
       "      <td>11</td>\n",
       "      <td>20110915</td>\n",
       "    </tr>\n",
       "    <tr>\n",
       "      <th>3</th>\n",
       "      <td>9bzDeJP6sQodK73K5CBlJ6fgIQzPeLnRl0p5B77XP+g=</td>\n",
       "      <td>1</td>\n",
       "      <td>0</td>\n",
       "      <td>NaN</td>\n",
       "      <td>11</td>\n",
       "      <td>20110915</td>\n",
       "    </tr>\n",
       "    <tr>\n",
       "      <th>4</th>\n",
       "      <td>WFLY3s7z4EZsieHCt63XrsdtfTEmJ+2PnnKLH5GY4Tk=</td>\n",
       "      <td>6</td>\n",
       "      <td>32</td>\n",
       "      <td>female</td>\n",
       "      <td>9</td>\n",
       "      <td>20110915</td>\n",
       "    </tr>\n",
       "  </tbody>\n",
       "</table>\n",
       "</div>"
      ],
      "text/plain": [
       "                                           msno  city  bd  gender  \\\n",
       "0  Rb9UwLQTrxzBVwCB6+bCcSQWZ9JiNLC9dXtM1oEsZA8=     1   0     NaN   \n",
       "1  +tJonkh+O1CA796Fm5X60UMOtB6POHAwPjbTRVl/EuU=     1   0     NaN   \n",
       "2  cV358ssn7a0f7jZOwGNWS07wCKVqxyiImJUX6xcIwKw=     1   0     NaN   \n",
       "3  9bzDeJP6sQodK73K5CBlJ6fgIQzPeLnRl0p5B77XP+g=     1   0     NaN   \n",
       "4  WFLY3s7z4EZsieHCt63XrsdtfTEmJ+2PnnKLH5GY4Tk=     6  32  female   \n",
       "\n",
       "   registered_via  registration_init_time  \n",
       "0              11                20110911  \n",
       "1               7                20110914  \n",
       "2              11                20110915  \n",
       "3              11                20110915  \n",
       "4               9                20110915  "
      ]
     },
     "execution_count": 99,
     "metadata": {},
     "output_type": "execute_result"
    }
   ],
   "source": [
    "df_members.head()"
   ]
  },
  {
   "cell_type": "code",
   "execution_count": 103,
   "id": "41c40b87",
   "metadata": {},
   "outputs": [],
   "source": [
    "df_members.drop(['city', 'registration_init_time'], axis=1, inplace=True)"
   ]
  },
  {
   "cell_type": "code",
   "execution_count": 104,
   "id": "2b8d39ea",
   "metadata": {},
   "outputs": [
    {
     "data": {
      "text/html": [
       "<div>\n",
       "<style scoped>\n",
       "    .dataframe tbody tr th:only-of-type {\n",
       "        vertical-align: middle;\n",
       "    }\n",
       "\n",
       "    .dataframe tbody tr th {\n",
       "        vertical-align: top;\n",
       "    }\n",
       "\n",
       "    .dataframe thead th {\n",
       "        text-align: right;\n",
       "    }\n",
       "</style>\n",
       "<table border=\"1\" class=\"dataframe\">\n",
       "  <thead>\n",
       "    <tr style=\"text-align: right;\">\n",
       "      <th></th>\n",
       "      <th>msno</th>\n",
       "      <th>bd</th>\n",
       "      <th>gender</th>\n",
       "      <th>registered_via</th>\n",
       "    </tr>\n",
       "  </thead>\n",
       "  <tbody>\n",
       "    <tr>\n",
       "      <th>0</th>\n",
       "      <td>Rb9UwLQTrxzBVwCB6+bCcSQWZ9JiNLC9dXtM1oEsZA8=</td>\n",
       "      <td>0</td>\n",
       "      <td>NaN</td>\n",
       "      <td>11</td>\n",
       "    </tr>\n",
       "    <tr>\n",
       "      <th>1</th>\n",
       "      <td>+tJonkh+O1CA796Fm5X60UMOtB6POHAwPjbTRVl/EuU=</td>\n",
       "      <td>0</td>\n",
       "      <td>NaN</td>\n",
       "      <td>7</td>\n",
       "    </tr>\n",
       "    <tr>\n",
       "      <th>2</th>\n",
       "      <td>cV358ssn7a0f7jZOwGNWS07wCKVqxyiImJUX6xcIwKw=</td>\n",
       "      <td>0</td>\n",
       "      <td>NaN</td>\n",
       "      <td>11</td>\n",
       "    </tr>\n",
       "    <tr>\n",
       "      <th>3</th>\n",
       "      <td>9bzDeJP6sQodK73K5CBlJ6fgIQzPeLnRl0p5B77XP+g=</td>\n",
       "      <td>0</td>\n",
       "      <td>NaN</td>\n",
       "      <td>11</td>\n",
       "    </tr>\n",
       "    <tr>\n",
       "      <th>4</th>\n",
       "      <td>WFLY3s7z4EZsieHCt63XrsdtfTEmJ+2PnnKLH5GY4Tk=</td>\n",
       "      <td>32</td>\n",
       "      <td>female</td>\n",
       "      <td>9</td>\n",
       "    </tr>\n",
       "  </tbody>\n",
       "</table>\n",
       "</div>"
      ],
      "text/plain": [
       "                                           msno  bd  gender  registered_via\n",
       "0  Rb9UwLQTrxzBVwCB6+bCcSQWZ9JiNLC9dXtM1oEsZA8=   0     NaN              11\n",
       "1  +tJonkh+O1CA796Fm5X60UMOtB6POHAwPjbTRVl/EuU=   0     NaN               7\n",
       "2  cV358ssn7a0f7jZOwGNWS07wCKVqxyiImJUX6xcIwKw=   0     NaN              11\n",
       "3  9bzDeJP6sQodK73K5CBlJ6fgIQzPeLnRl0p5B77XP+g=   0     NaN              11\n",
       "4  WFLY3s7z4EZsieHCt63XrsdtfTEmJ+2PnnKLH5GY4Tk=  32  female               9"
      ]
     },
     "execution_count": 104,
     "metadata": {},
     "output_type": "execute_result"
    }
   ],
   "source": [
    "df_members.head()"
   ]
  },
  {
   "cell_type": "code",
   "execution_count": 100,
   "id": "d59741a6",
   "metadata": {},
   "outputs": [
    {
     "data": {
      "text/plain": [
       "(6769473, 6)"
      ]
     },
     "execution_count": 100,
     "metadata": {},
     "output_type": "execute_result"
    }
   ],
   "source": [
    "df_members.shape"
   ]
  },
  {
   "cell_type": "code",
   "execution_count": 101,
   "id": "64adac1d",
   "metadata": {},
   "outputs": [
    {
     "data": {
      "text/plain": [
       "6769473"
      ]
     },
     "execution_count": 101,
     "metadata": {},
     "output_type": "execute_result"
    }
   ],
   "source": [
    "df_members['msno'].nunique()"
   ]
  },
  {
   "cell_type": "code",
   "execution_count": 49,
   "id": "9cbcedc9",
   "metadata": {},
   "outputs": [
    {
     "data": {
      "text/plain": [
       " 0      4540215\n",
       " 22      112200\n",
       " 21      110574\n",
       " 20      110452\n",
       " 27      102769\n",
       "         ...   \n",
       " 919          1\n",
       " 920          1\n",
       " 923          1\n",
       " 925          1\n",
       "-5            1\n",
       "Name: bd, Length: 386, dtype: int64"
      ]
     },
     "execution_count": 49,
     "metadata": {},
     "output_type": "execute_result"
    }
   ],
   "source": [
    "df_members['bd'].value_counts()"
   ]
  },
  {
   "cell_type": "code",
   "execution_count": 65,
   "id": "6b3ae14f",
   "metadata": {},
   "outputs": [],
   "source": [
    "# age_valid_mask = (df_members['bd'] > 0) & (df_members['bd'] < 500)"
   ]
  },
  {
   "cell_type": "code",
   "execution_count": 66,
   "id": "35a71b21",
   "metadata": {},
   "outputs": [],
   "source": [
    "# df_members_with_age = df_members[age_valid_mask]"
   ]
  },
  {
   "cell_type": "code",
   "execution_count": 102,
   "id": "02f73ea4",
   "metadata": {},
   "outputs": [],
   "source": [
    "# df_members_with_age.shape"
   ]
  },
  {
   "cell_type": "code",
   "execution_count": null,
   "id": "0dfa98e4",
   "metadata": {},
   "outputs": [],
   "source": []
  },
  {
   "cell_type": "code",
   "execution_count": 53,
   "id": "4bcb701a",
   "metadata": {},
   "outputs": [],
   "source": [
    "# df_members_500k = df_members[age_valid_mask].sample(500_000)"
   ]
  },
  {
   "cell_type": "code",
   "execution_count": 54,
   "id": "42494418",
   "metadata": {},
   "outputs": [],
   "source": [
    "# df_members_500k"
   ]
  },
  {
   "cell_type": "markdown",
   "id": "83dea039",
   "metadata": {},
   "source": [
    "# Analysis"
   ]
  },
  {
   "cell_type": "markdown",
   "id": "47ea2be9",
   "metadata": {},
   "source": [
    "## Intersection"
   ]
  },
  {
   "cell_type": "code",
   "execution_count": 43,
   "id": "6b05e611",
   "metadata": {},
   "outputs": [],
   "source": [
    "def get_set(df):\n",
    "    return  set(df[\"msno\"].tolist())\n",
    "\n",
    "def find_intersection(df_list):\n",
    "    intersection_set = get_set(df_list[0])\n",
    "    for df in df_list[1:]:\n",
    "        new_set = get_set(df)\n",
    "        intersection_set = intersection_set.intersection(new_set)\n",
    "    return list(intersection_set)"
   ]
  },
  {
   "cell_type": "code",
   "execution_count": 36,
   "id": "aca595dd",
   "metadata": {},
   "outputs": [],
   "source": [
    "def get_intersection_length(df1, df2):\n",
    "    x = set(df1[\"msno\"].tolist())\n",
    "    y = set(df2[\"msno\"].tolist())\n",
    "    \n",
    "    return len(x.intersection(y))"
   ]
  },
  {
   "cell_type": "code",
   "execution_count": null,
   "id": "0c8f03ce",
   "metadata": {},
   "outputs": [],
   "source": []
  },
  {
   "cell_type": "code",
   "execution_count": 37,
   "id": "7fbd7503",
   "metadata": {},
   "outputs": [
    {
     "data": {
      "text/plain": [
       "500000"
      ]
     },
     "execution_count": 37,
     "metadata": {},
     "output_type": "execute_result"
    }
   ],
   "source": [
    "get_intersection_length(df_members_500k, df_members)"
   ]
  },
  {
   "cell_type": "code",
   "execution_count": 68,
   "id": "d6e3b93a",
   "metadata": {},
   "outputs": [
    {
     "data": {
      "text/plain": [
       "86871"
      ]
     },
     "execution_count": 68,
     "metadata": {},
     "output_type": "execute_result"
    }
   ],
   "source": [
    "get_intersection_length(df_members_500k, df_train)"
   ]
  },
  {
   "cell_type": "code",
   "execution_count": 69,
   "id": "983e5881",
   "metadata": {},
   "outputs": [
    {
     "data": {
      "text/plain": [
       "213378"
      ]
     },
     "execution_count": 69,
     "metadata": {},
     "output_type": "execute_result"
    }
   ],
   "source": [
    "get_intersection_length(df_members_500k, df_transactions)"
   ]
  },
  {
   "cell_type": "code",
   "execution_count": 70,
   "id": "e5c85d56",
   "metadata": {},
   "outputs": [
    {
     "data": {
      "text/plain": [
       "373091"
      ]
     },
     "execution_count": 70,
     "metadata": {},
     "output_type": "execute_result"
    }
   ],
   "source": [
    "get_intersection_length(df_members_500k, df_user_logs)"
   ]
  },
  {
   "cell_type": "code",
   "execution_count": null,
   "id": "0654d57b",
   "metadata": {},
   "outputs": [],
   "source": []
  },
  {
   "cell_type": "code",
   "execution_count": 73,
   "id": "958ca9ec",
   "metadata": {},
   "outputs": [],
   "source": [
    "common_users = find_intersection([df_members, df_train, df_transactions_recent, df_user_logs])"
   ]
  },
  {
   "cell_type": "code",
   "execution_count": 74,
   "id": "d85bf9dd",
   "metadata": {},
   "outputs": [
    {
     "data": {
      "text/plain": [
       "869900"
      ]
     },
     "execution_count": 74,
     "metadata": {},
     "output_type": "execute_result"
    }
   ],
   "source": [
    "len(common_users)"
   ]
  },
  {
   "cell_type": "code",
   "execution_count": null,
   "id": "2a5ac197",
   "metadata": {},
   "outputs": [],
   "source": []
  },
  {
   "cell_type": "code",
   "execution_count": null,
   "id": "95451cf5",
   "metadata": {},
   "outputs": [],
   "source": []
  },
  {
   "cell_type": "code",
   "execution_count": 106,
   "id": "c67c31aa",
   "metadata": {},
   "outputs": [],
   "source": [
    "def merge_dataframes(data_frames):\n",
    "    df_merged = reduce(lambda  left,right: pd.merge(left,right,on=['msno'],\n",
    "                                                how='inner'), data_frames)\n",
    "    return df_merged"
   ]
  },
  {
   "cell_type": "code",
   "execution_count": 111,
   "id": "9dab2995",
   "metadata": {
    "scrolled": true
   },
   "outputs": [],
   "source": [
    "df_list = [df_members, df_train, df_transactions_recent, df_user_logs]\n",
    "\n",
    "df_merged = merge_dataframes(df_list)"
   ]
  },
  {
   "cell_type": "code",
   "execution_count": null,
   "id": "88b3c6f2",
   "metadata": {},
   "outputs": [],
   "source": []
  },
  {
   "cell_type": "code",
   "execution_count": null,
   "id": "f46554e2",
   "metadata": {},
   "outputs": [],
   "source": []
  },
  {
   "cell_type": "code",
   "execution_count": 112,
   "id": "19b3c5cb",
   "metadata": {},
   "outputs": [
    {
     "data": {
      "text/html": [
       "<div>\n",
       "<style scoped>\n",
       "    .dataframe tbody tr th:only-of-type {\n",
       "        vertical-align: middle;\n",
       "    }\n",
       "\n",
       "    .dataframe tbody tr th {\n",
       "        vertical-align: top;\n",
       "    }\n",
       "\n",
       "    .dataframe thead th {\n",
       "        text-align: right;\n",
       "    }\n",
       "</style>\n",
       "<table border=\"1\" class=\"dataframe\">\n",
       "  <thead>\n",
       "    <tr style=\"text-align: right;\">\n",
       "      <th></th>\n",
       "      <th>msno</th>\n",
       "      <th>bd</th>\n",
       "      <th>gender</th>\n",
       "      <th>registered_via</th>\n",
       "      <th>is_churn</th>\n",
       "      <th>payment_method_id</th>\n",
       "      <th>payment_plan_days</th>\n",
       "      <th>plan_list_price</th>\n",
       "      <th>actual_amount_paid</th>\n",
       "      <th>is_auto_renew</th>\n",
       "      <th>num_25</th>\n",
       "      <th>num_50</th>\n",
       "      <th>num_75</th>\n",
       "      <th>num_985</th>\n",
       "      <th>num_100</th>\n",
       "      <th>num_unq</th>\n",
       "      <th>total_secs</th>\n",
       "    </tr>\n",
       "  </thead>\n",
       "  <tbody>\n",
       "    <tr>\n",
       "      <th>0</th>\n",
       "      <td>+tJonkh+O1CA796Fm5X60UMOtB6POHAwPjbTRVl/EuU=</td>\n",
       "      <td>0</td>\n",
       "      <td>NaN</td>\n",
       "      <td>7</td>\n",
       "      <td>0</td>\n",
       "      <td>41</td>\n",
       "      <td>30</td>\n",
       "      <td>129</td>\n",
       "      <td>129</td>\n",
       "      <td>1</td>\n",
       "      <td>11232</td>\n",
       "      <td>1473</td>\n",
       "      <td>1005</td>\n",
       "      <td>974</td>\n",
       "      <td>25595</td>\n",
       "      <td>28101</td>\n",
       "      <td>7037172.689</td>\n",
       "    </tr>\n",
       "    <tr>\n",
       "      <th>1</th>\n",
       "      <td>yLkV2gbZ4GLFwqTOXLVHz0VGrMYcgBGgKZ3kj9RiYu8=</td>\n",
       "      <td>30</td>\n",
       "      <td>male</td>\n",
       "      <td>9</td>\n",
       "      <td>0</td>\n",
       "      <td>39</td>\n",
       "      <td>30</td>\n",
       "      <td>149</td>\n",
       "      <td>149</td>\n",
       "      <td>1</td>\n",
       "      <td>63</td>\n",
       "      <td>14</td>\n",
       "      <td>10</td>\n",
       "      <td>33</td>\n",
       "      <td>140</td>\n",
       "      <td>220</td>\n",
       "      <td>47839.952</td>\n",
       "    </tr>\n",
       "    <tr>\n",
       "      <th>2</th>\n",
       "      <td>WH5Jq4mgtfUFXh2yz+HrcTXKS4Oess4k4W3qKolAeb0=</td>\n",
       "      <td>34</td>\n",
       "      <td>male</td>\n",
       "      <td>9</td>\n",
       "      <td>1</td>\n",
       "      <td>32</td>\n",
       "      <td>180</td>\n",
       "      <td>536</td>\n",
       "      <td>536</td>\n",
       "      <td>0</td>\n",
       "      <td>125</td>\n",
       "      <td>71</td>\n",
       "      <td>45</td>\n",
       "      <td>36</td>\n",
       "      <td>1545</td>\n",
       "      <td>1020</td>\n",
       "      <td>410099.424</td>\n",
       "    </tr>\n",
       "    <tr>\n",
       "      <th>3</th>\n",
       "      <td>I0yFvqMoNkM8ZNHb617e1RBzIS/YRKemHO7Wj13EtA0=</td>\n",
       "      <td>63</td>\n",
       "      <td>male</td>\n",
       "      <td>9</td>\n",
       "      <td>0</td>\n",
       "      <td>40</td>\n",
       "      <td>30</td>\n",
       "      <td>149</td>\n",
       "      <td>149</td>\n",
       "      <td>1</td>\n",
       "      <td>1096</td>\n",
       "      <td>359</td>\n",
       "      <td>233</td>\n",
       "      <td>282</td>\n",
       "      <td>4734</td>\n",
       "      <td>5447</td>\n",
       "      <td>1355507.929</td>\n",
       "    </tr>\n",
       "    <tr>\n",
       "      <th>4</th>\n",
       "      <td>OoDwiKZM+ZGr9P3fRivavgOtglTEaNfWJO4KaJcTTts=</td>\n",
       "      <td>0</td>\n",
       "      <td>NaN</td>\n",
       "      <td>7</td>\n",
       "      <td>0</td>\n",
       "      <td>41</td>\n",
       "      <td>30</td>\n",
       "      <td>149</td>\n",
       "      <td>149</td>\n",
       "      <td>1</td>\n",
       "      <td>827</td>\n",
       "      <td>250</td>\n",
       "      <td>196</td>\n",
       "      <td>275</td>\n",
       "      <td>3295</td>\n",
       "      <td>3506</td>\n",
       "      <td>973960.553</td>\n",
       "    </tr>\n",
       "  </tbody>\n",
       "</table>\n",
       "</div>"
      ],
      "text/plain": [
       "                                           msno  bd gender  registered_via  \\\n",
       "0  +tJonkh+O1CA796Fm5X60UMOtB6POHAwPjbTRVl/EuU=   0    NaN               7   \n",
       "1  yLkV2gbZ4GLFwqTOXLVHz0VGrMYcgBGgKZ3kj9RiYu8=  30   male               9   \n",
       "2  WH5Jq4mgtfUFXh2yz+HrcTXKS4Oess4k4W3qKolAeb0=  34   male               9   \n",
       "3  I0yFvqMoNkM8ZNHb617e1RBzIS/YRKemHO7Wj13EtA0=  63   male               9   \n",
       "4  OoDwiKZM+ZGr9P3fRivavgOtglTEaNfWJO4KaJcTTts=   0    NaN               7   \n",
       "\n",
       "   is_churn  payment_method_id  payment_plan_days  plan_list_price  \\\n",
       "0         0                 41                 30              129   \n",
       "1         0                 39                 30              149   \n",
       "2         1                 32                180              536   \n",
       "3         0                 40                 30              149   \n",
       "4         0                 41                 30              149   \n",
       "\n",
       "   actual_amount_paid  is_auto_renew  num_25  num_50  num_75  num_985  \\\n",
       "0                 129              1   11232    1473    1005      974   \n",
       "1                 149              1      63      14      10       33   \n",
       "2                 536              0     125      71      45       36   \n",
       "3                 149              1    1096     359     233      282   \n",
       "4                 149              1     827     250     196      275   \n",
       "\n",
       "   num_100  num_unq   total_secs  \n",
       "0    25595    28101  7037172.689  \n",
       "1      140      220    47839.952  \n",
       "2     1545     1020   410099.424  \n",
       "3     4734     5447  1355507.929  \n",
       "4     3295     3506   973960.553  "
      ]
     },
     "execution_count": 112,
     "metadata": {},
     "output_type": "execute_result"
    }
   ],
   "source": [
    "df_merged.head()"
   ]
  },
  {
   "cell_type": "code",
   "execution_count": 113,
   "id": "10813b25",
   "metadata": {},
   "outputs": [
    {
     "data": {
      "text/plain": [
       "(869900, 17)"
      ]
     },
     "execution_count": 113,
     "metadata": {},
     "output_type": "execute_result"
    }
   ],
   "source": [
    "df_merged.shape"
   ]
  },
  {
   "cell_type": "code",
   "execution_count": 114,
   "id": "a74ac2b2",
   "metadata": {},
   "outputs": [
    {
     "data": {
      "text/plain": [
       "869900"
      ]
     },
     "execution_count": 114,
     "metadata": {},
     "output_type": "execute_result"
    }
   ],
   "source": [
    "df_merged['msno'].nunique()"
   ]
  },
  {
   "cell_type": "code",
   "execution_count": 7,
   "id": "e0b2babc",
   "metadata": {},
   "outputs": [],
   "source": [
    "import missingno as msno"
   ]
  },
  {
   "cell_type": "code",
   "execution_count": 116,
   "id": "58f3c238",
   "metadata": {},
   "outputs": [
    {
     "data": {
      "text/plain": [
       "<matplotlib.axes._subplots.AxesSubplot at 0x19873a2de10>"
      ]
     },
     "execution_count": 116,
     "metadata": {},
     "output_type": "execute_result"
    },
    {
     "data": {
      "image/png": "[encoded data removed]",
      "text/plain": [
       "<Figure size 1800x720 with 2 Axes>"
      ]
     },
     "metadata": {
      "needs_background": "light"
     },
     "output_type": "display_data"
    }
   ],
   "source": [
    "msno.matrix(df_merged)"
   ]
  },
  {
   "cell_type": "code",
   "execution_count": 118,
   "id": "161bbbe8",
   "metadata": {},
   "outputs": [
    {
     "data": {
      "text/plain": [
       "msno                       0\n",
       "bd                         0\n",
       "gender                480022\n",
       "registered_via             0\n",
       "is_churn                   0\n",
       "payment_method_id          0\n",
       "payment_plan_days          0\n",
       "plan_list_price            0\n",
       "actual_amount_paid         0\n",
       "is_auto_renew              0\n",
       "num_25                     0\n",
       "num_50                     0\n",
       "num_75                     0\n",
       "num_985                    0\n",
       "num_100                    0\n",
       "num_unq                    0\n",
       "total_secs                 0\n",
       "dtype: int64"
      ]
     },
     "execution_count": 118,
     "metadata": {},
     "output_type": "execute_result"
    }
   ],
   "source": [
    "df_merged.isna().sum()"
   ]
  },
  {
   "cell_type": "code",
   "execution_count": 119,
   "id": "cad44462",
   "metadata": {},
   "outputs": [
    {
     "data": {
      "text/plain": [
       "True     480022\n",
       "False    389878\n",
       "Name: gender, dtype: int64"
      ]
     },
     "execution_count": 119,
     "metadata": {},
     "output_type": "execute_result"
    }
   ],
   "source": [
    "df_merged['gender'].isna().value_counts()"
   ]
  },
  {
   "cell_type": "code",
   "execution_count": 125,
   "id": "8611c733",
   "metadata": {},
   "outputs": [
    {
     "data": {
      "text/plain": [
       "(500000, 17)"
      ]
     },
     "execution_count": 125,
     "metadata": {},
     "output_type": "execute_result"
    }
   ],
   "source": [
    "age_valid_mask = (df_merged['bd'] > 0) & (df_merged['bd'] < 500)\n",
    "\n",
    "df_merged_with_age = pd.concat([df_merged[age_valid_mask], df_merged[~age_valid_mask]], axis=0).head(500_000)\n",
    "\n",
    "df_merged_with_age.shape"
   ]
  },
  {
   "cell_type": "code",
   "execution_count": 127,
   "id": "17ed45fe",
   "metadata": {},
   "outputs": [
    {
     "data": {
      "text/html": [
       "<div>\n",
       "<style scoped>\n",
       "    .dataframe tbody tr th:only-of-type {\n",
       "        vertical-align: middle;\n",
       "    }\n",
       "\n",
       "    .dataframe tbody tr th {\n",
       "        vertical-align: top;\n",
       "    }\n",
       "\n",
       "    .dataframe thead th {\n",
       "        text-align: right;\n",
       "    }\n",
       "</style>\n",
       "<table border=\"1\" class=\"dataframe\">\n",
       "  <thead>\n",
       "    <tr style=\"text-align: right;\">\n",
       "      <th></th>\n",
       "      <th>msno</th>\n",
       "      <th>bd</th>\n",
       "      <th>gender</th>\n",
       "      <th>registered_via</th>\n",
       "      <th>is_churn</th>\n",
       "      <th>payment_method_id</th>\n",
       "      <th>payment_plan_days</th>\n",
       "      <th>plan_list_price</th>\n",
       "      <th>actual_amount_paid</th>\n",
       "      <th>is_auto_renew</th>\n",
       "      <th>num_25</th>\n",
       "      <th>num_50</th>\n",
       "      <th>num_75</th>\n",
       "      <th>num_985</th>\n",
       "      <th>num_100</th>\n",
       "      <th>num_unq</th>\n",
       "      <th>total_secs</th>\n",
       "    </tr>\n",
       "  </thead>\n",
       "  <tbody>\n",
       "    <tr>\n",
       "      <th>1</th>\n",
       "      <td>yLkV2gbZ4GLFwqTOXLVHz0VGrMYcgBGgKZ3kj9RiYu8=</td>\n",
       "      <td>30</td>\n",
       "      <td>male</td>\n",
       "      <td>9</td>\n",
       "      <td>0</td>\n",
       "      <td>39</td>\n",
       "      <td>30</td>\n",
       "      <td>149</td>\n",
       "      <td>149</td>\n",
       "      <td>1</td>\n",
       "      <td>63</td>\n",
       "      <td>14</td>\n",
       "      <td>10</td>\n",
       "      <td>33</td>\n",
       "      <td>140</td>\n",
       "      <td>220</td>\n",
       "      <td>47839.952</td>\n",
       "    </tr>\n",
       "    <tr>\n",
       "      <th>2</th>\n",
       "      <td>WH5Jq4mgtfUFXh2yz+HrcTXKS4Oess4k4W3qKolAeb0=</td>\n",
       "      <td>34</td>\n",
       "      <td>male</td>\n",
       "      <td>9</td>\n",
       "      <td>1</td>\n",
       "      <td>32</td>\n",
       "      <td>180</td>\n",
       "      <td>536</td>\n",
       "      <td>536</td>\n",
       "      <td>0</td>\n",
       "      <td>125</td>\n",
       "      <td>71</td>\n",
       "      <td>45</td>\n",
       "      <td>36</td>\n",
       "      <td>1545</td>\n",
       "      <td>1020</td>\n",
       "      <td>410099.424</td>\n",
       "    </tr>\n",
       "    <tr>\n",
       "      <th>3</th>\n",
       "      <td>I0yFvqMoNkM8ZNHb617e1RBzIS/YRKemHO7Wj13EtA0=</td>\n",
       "      <td>63</td>\n",
       "      <td>male</td>\n",
       "      <td>9</td>\n",
       "      <td>0</td>\n",
       "      <td>40</td>\n",
       "      <td>30</td>\n",
       "      <td>149</td>\n",
       "      <td>149</td>\n",
       "      <td>1</td>\n",
       "      <td>1096</td>\n",
       "      <td>359</td>\n",
       "      <td>233</td>\n",
       "      <td>282</td>\n",
       "      <td>4734</td>\n",
       "      <td>5447</td>\n",
       "      <td>1355507.929</td>\n",
       "    </tr>\n",
       "    <tr>\n",
       "      <th>5</th>\n",
       "      <td>4De1jAxNRABoyRBDZ82U0yEmzYkqeOugRGVNIf92Xb8=</td>\n",
       "      <td>28</td>\n",
       "      <td>female</td>\n",
       "      <td>9</td>\n",
       "      <td>0</td>\n",
       "      <td>36</td>\n",
       "      <td>30</td>\n",
       "      <td>180</td>\n",
       "      <td>180</td>\n",
       "      <td>1</td>\n",
       "      <td>69</td>\n",
       "      <td>19</td>\n",
       "      <td>10</td>\n",
       "      <td>14</td>\n",
       "      <td>321</td>\n",
       "      <td>275</td>\n",
       "      <td>84676.339</td>\n",
       "    </tr>\n",
       "    <tr>\n",
       "      <th>6</th>\n",
       "      <td>Z6WIOK9vXy+e2XDBiioNAxuZ0ScXSU/Ebq4tUwqVSrE=</td>\n",
       "      <td>38</td>\n",
       "      <td>female</td>\n",
       "      <td>9</td>\n",
       "      <td>0</td>\n",
       "      <td>40</td>\n",
       "      <td>30</td>\n",
       "      <td>149</td>\n",
       "      <td>149</td>\n",
       "      <td>1</td>\n",
       "      <td>701</td>\n",
       "      <td>526</td>\n",
       "      <td>244</td>\n",
       "      <td>216</td>\n",
       "      <td>1096</td>\n",
       "      <td>2558</td>\n",
       "      <td>410513.232</td>\n",
       "    </tr>\n",
       "    <tr>\n",
       "      <th>...</th>\n",
       "      <td>...</td>\n",
       "      <td>...</td>\n",
       "      <td>...</td>\n",
       "      <td>...</td>\n",
       "      <td>...</td>\n",
       "      <td>...</td>\n",
       "      <td>...</td>\n",
       "      <td>...</td>\n",
       "      <td>...</td>\n",
       "      <td>...</td>\n",
       "      <td>...</td>\n",
       "      <td>...</td>\n",
       "      <td>...</td>\n",
       "      <td>...</td>\n",
       "      <td>...</td>\n",
       "      <td>...</td>\n",
       "      <td>...</td>\n",
       "    </tr>\n",
       "    <tr>\n",
       "      <th>225073</th>\n",
       "      <td>rqi+w7JVQV1fqmo5y8z6FfSKOLc+NRyFIHcEonqwQG0=</td>\n",
       "      <td>0</td>\n",
       "      <td>NaN</td>\n",
       "      <td>7</td>\n",
       "      <td>0</td>\n",
       "      <td>41</td>\n",
       "      <td>30</td>\n",
       "      <td>149</td>\n",
       "      <td>149</td>\n",
       "      <td>1</td>\n",
       "      <td>544</td>\n",
       "      <td>70</td>\n",
       "      <td>44</td>\n",
       "      <td>38</td>\n",
       "      <td>1175</td>\n",
       "      <td>1319</td>\n",
       "      <td>319806.914</td>\n",
       "    </tr>\n",
       "    <tr>\n",
       "      <th>225074</th>\n",
       "      <td>LSHHqjquHtmfgiNOs5nyu+7LQsy29CylgjUmoQrBXh8=</td>\n",
       "      <td>0</td>\n",
       "      <td>female</td>\n",
       "      <td>9</td>\n",
       "      <td>0</td>\n",
       "      <td>40</td>\n",
       "      <td>30</td>\n",
       "      <td>149</td>\n",
       "      <td>149</td>\n",
       "      <td>1</td>\n",
       "      <td>838</td>\n",
       "      <td>239</td>\n",
       "      <td>92</td>\n",
       "      <td>100</td>\n",
       "      <td>1725</td>\n",
       "      <td>2209</td>\n",
       "      <td>500696.771</td>\n",
       "    </tr>\n",
       "    <tr>\n",
       "      <th>225076</th>\n",
       "      <td>m+DlDfXfc57sPTmlGoTWmSs0txANdlt57pgaz2SLL/w=</td>\n",
       "      <td>0</td>\n",
       "      <td>NaN</td>\n",
       "      <td>7</td>\n",
       "      <td>0</td>\n",
       "      <td>41</td>\n",
       "      <td>30</td>\n",
       "      <td>99</td>\n",
       "      <td>99</td>\n",
       "      <td>1</td>\n",
       "      <td>418</td>\n",
       "      <td>81</td>\n",
       "      <td>75</td>\n",
       "      <td>124</td>\n",
       "      <td>2614</td>\n",
       "      <td>1740</td>\n",
       "      <td>756817.019</td>\n",
       "    </tr>\n",
       "    <tr>\n",
       "      <th>225077</th>\n",
       "      <td>N4szCcTlAXxicMGF0kDIvO1qxKa6ftl9eJyabEBvE0s=</td>\n",
       "      <td>0</td>\n",
       "      <td>NaN</td>\n",
       "      <td>7</td>\n",
       "      <td>0</td>\n",
       "      <td>41</td>\n",
       "      <td>30</td>\n",
       "      <td>99</td>\n",
       "      <td>99</td>\n",
       "      <td>1</td>\n",
       "      <td>33</td>\n",
       "      <td>11</td>\n",
       "      <td>1</td>\n",
       "      <td>3</td>\n",
       "      <td>78</td>\n",
       "      <td>102</td>\n",
       "      <td>23308.854</td>\n",
       "    </tr>\n",
       "    <tr>\n",
       "      <th>225078</th>\n",
       "      <td>8YMmuuzR6w8CG++vixxIxsJyzpITSNW2xAJFk846Iw0=</td>\n",
       "      <td>0</td>\n",
       "      <td>NaN</td>\n",
       "      <td>7</td>\n",
       "      <td>0</td>\n",
       "      <td>41</td>\n",
       "      <td>30</td>\n",
       "      <td>99</td>\n",
       "      <td>99</td>\n",
       "      <td>1</td>\n",
       "      <td>989</td>\n",
       "      <td>241</td>\n",
       "      <td>140</td>\n",
       "      <td>123</td>\n",
       "      <td>3276</td>\n",
       "      <td>3610</td>\n",
       "      <td>903560.764</td>\n",
       "    </tr>\n",
       "  </tbody>\n",
       "</table>\n",
       "<p>500000 rows × 17 columns</p>\n",
       "</div>"
      ],
      "text/plain": [
       "                                                msno  bd  gender  \\\n",
       "1       yLkV2gbZ4GLFwqTOXLVHz0VGrMYcgBGgKZ3kj9RiYu8=  30    male   \n",
       "2       WH5Jq4mgtfUFXh2yz+HrcTXKS4Oess4k4W3qKolAeb0=  34    male   \n",
       "3       I0yFvqMoNkM8ZNHb617e1RBzIS/YRKemHO7Wj13EtA0=  63    male   \n",
       "5       4De1jAxNRABoyRBDZ82U0yEmzYkqeOugRGVNIf92Xb8=  28  female   \n",
       "6       Z6WIOK9vXy+e2XDBiioNAxuZ0ScXSU/Ebq4tUwqVSrE=  38  female   \n",
       "...                                              ...  ..     ...   \n",
       "225073  rqi+w7JVQV1fqmo5y8z6FfSKOLc+NRyFIHcEonqwQG0=   0     NaN   \n",
       "225074  LSHHqjquHtmfgiNOs5nyu+7LQsy29CylgjUmoQrBXh8=   0  female   \n",
       "225076  m+DlDfXfc57sPTmlGoTWmSs0txANdlt57pgaz2SLL/w=   0     NaN   \n",
       "225077  N4szCcTlAXxicMGF0kDIvO1qxKa6ftl9eJyabEBvE0s=   0     NaN   \n",
       "225078  8YMmuuzR6w8CG++vixxIxsJyzpITSNW2xAJFk846Iw0=   0     NaN   \n",
       "\n",
       "        registered_via  is_churn  payment_method_id  payment_plan_days  \\\n",
       "1                    9         0                 39                 30   \n",
       "2                    9         1                 32                180   \n",
       "3                    9         0                 40                 30   \n",
       "5                    9         0                 36                 30   \n",
       "6                    9         0                 40                 30   \n",
       "...                ...       ...                ...                ...   \n",
       "225073               7         0                 41                 30   \n",
       "225074               9         0                 40                 30   \n",
       "225076               7         0                 41                 30   \n",
       "225077               7         0                 41                 30   \n",
       "225078               7         0                 41                 30   \n",
       "\n",
       "        plan_list_price  actual_amount_paid  is_auto_renew  num_25  num_50  \\\n",
       "1                   149                 149              1      63      14   \n",
       "2                   536                 536              0     125      71   \n",
       "3                   149                 149              1    1096     359   \n",
       "5                   180                 180              1      69      19   \n",
       "6                   149                 149              1     701     526   \n",
       "...                 ...                 ...            ...     ...     ...   \n",
       "225073              149                 149              1     544      70   \n",
       "225074              149                 149              1     838     239   \n",
       "225076               99                  99              1     418      81   \n",
       "225077               99                  99              1      33      11   \n",
       "225078               99                  99              1     989     241   \n",
       "\n",
       "        num_75  num_985  num_100  num_unq   total_secs  \n",
       "1           10       33      140      220    47839.952  \n",
       "2           45       36     1545     1020   410099.424  \n",
       "3          233      282     4734     5447  1355507.929  \n",
       "5           10       14      321      275    84676.339  \n",
       "6          244      216     1096     2558   410513.232  \n",
       "...        ...      ...      ...      ...          ...  \n",
       "225073      44       38     1175     1319   319806.914  \n",
       "225074      92      100     1725     2209   500696.771  \n",
       "225076      75      124     2614     1740   756817.019  \n",
       "225077       1        3       78      102    23308.854  \n",
       "225078     140      123     3276     3610   903560.764  \n",
       "\n",
       "[500000 rows x 17 columns]"
      ]
     },
     "execution_count": 127,
     "metadata": {},
     "output_type": "execute_result"
    }
   ],
   "source": [
    "df_merged_with_age"
   ]
  },
  {
   "cell_type": "code",
   "execution_count": 128,
   "id": "322df4aa",
   "metadata": {},
   "outputs": [
    {
     "data": {
      "text/plain": [
       "<matplotlib.axes._subplots.AxesSubplot at 0x198dad99a58>"
      ]
     },
     "execution_count": 128,
     "metadata": {},
     "output_type": "execute_result"
    },
    {
     "data": {
      "image/png": "[encoded data removed]",
      "text/plain": [
       "<Figure size 1800x720 with 2 Axes>"
      ]
     },
     "metadata": {
      "needs_background": "light"
     },
     "output_type": "display_data"
    }
   ],
   "source": [
    "msno.matrix(df_merged_with_age)"
   ]
  },
  {
   "cell_type": "code",
   "execution_count": 129,
   "id": "8b318c62",
   "metadata": {},
   "outputs": [],
   "source": [
    "df_merged_with_age.to_csv('kkbox_master.csv', index=False)"
   ]
  },
  {
   "cell_type": "markdown",
   "id": "8983d8e4",
   "metadata": {},
   "source": [
    "# Upload to Github"
   ]
  },
  {
   "cell_type": "code",
   "execution_count": 5,
   "id": "4b8ef384",
   "metadata": {},
   "outputs": [],
   "source": [
    "df_kkbox = pd.read_csv('https://raw.githubusercontent.com/iamharshit/tmp/main/kkbox_master.csv')"
   ]
  },
  {
   "cell_type": "code",
   "execution_count": 6,
   "id": "d232312c",
   "metadata": {},
   "outputs": [
    {
     "data": {
      "text/html": [
       "<div>\n",
       "<style scoped>\n",
       "    .dataframe tbody tr th:only-of-type {\n",
       "        vertical-align: middle;\n",
       "    }\n",
       "\n",
       "    .dataframe tbody tr th {\n",
       "        vertical-align: top;\n",
       "    }\n",
       "\n",
       "    .dataframe thead th {\n",
       "        text-align: right;\n",
       "    }\n",
       "</style>\n",
       "<table border=\"1\" class=\"dataframe\">\n",
       "  <thead>\n",
       "    <tr style=\"text-align: right;\">\n",
       "      <th></th>\n",
       "      <th>msno</th>\n",
       "      <th>bd</th>\n",
       "      <th>gender</th>\n",
       "      <th>registered_via</th>\n",
       "      <th>is_churn</th>\n",
       "      <th>payment_method_id</th>\n",
       "      <th>payment_plan_days</th>\n",
       "      <th>plan_list_price</th>\n",
       "      <th>actual_amount_paid</th>\n",
       "      <th>is_auto_renew</th>\n",
       "      <th>num_25</th>\n",
       "      <th>num_50</th>\n",
       "      <th>num_75</th>\n",
       "      <th>num_985</th>\n",
       "      <th>num_100</th>\n",
       "      <th>num_unq</th>\n",
       "      <th>total_secs</th>\n",
       "    </tr>\n",
       "  </thead>\n",
       "  <tbody>\n",
       "    <tr>\n",
       "      <th>0</th>\n",
       "      <td>yLkV2gbZ4GLFwqTOXLVHz0VGrMYcgBGgKZ3kj9RiYu8=</td>\n",
       "      <td>30</td>\n",
       "      <td>male</td>\n",
       "      <td>9</td>\n",
       "      <td>0</td>\n",
       "      <td>39</td>\n",
       "      <td>30</td>\n",
       "      <td>149</td>\n",
       "      <td>149</td>\n",
       "      <td>1</td>\n",
       "      <td>63</td>\n",
       "      <td>14</td>\n",
       "      <td>10</td>\n",
       "      <td>33</td>\n",
       "      <td>140</td>\n",
       "      <td>220</td>\n",
       "      <td>47839.952</td>\n",
       "    </tr>\n",
       "    <tr>\n",
       "      <th>1</th>\n",
       "      <td>WH5Jq4mgtfUFXh2yz+HrcTXKS4Oess4k4W3qKolAeb0=</td>\n",
       "      <td>34</td>\n",
       "      <td>male</td>\n",
       "      <td>9</td>\n",
       "      <td>1</td>\n",
       "      <td>32</td>\n",
       "      <td>180</td>\n",
       "      <td>536</td>\n",
       "      <td>536</td>\n",
       "      <td>0</td>\n",
       "      <td>125</td>\n",
       "      <td>71</td>\n",
       "      <td>45</td>\n",
       "      <td>36</td>\n",
       "      <td>1545</td>\n",
       "      <td>1020</td>\n",
       "      <td>410099.424</td>\n",
       "    </tr>\n",
       "    <tr>\n",
       "      <th>2</th>\n",
       "      <td>I0yFvqMoNkM8ZNHb617e1RBzIS/YRKemHO7Wj13EtA0=</td>\n",
       "      <td>63</td>\n",
       "      <td>male</td>\n",
       "      <td>9</td>\n",
       "      <td>0</td>\n",
       "      <td>40</td>\n",
       "      <td>30</td>\n",
       "      <td>149</td>\n",
       "      <td>149</td>\n",
       "      <td>1</td>\n",
       "      <td>1096</td>\n",
       "      <td>359</td>\n",
       "      <td>233</td>\n",
       "      <td>282</td>\n",
       "      <td>4734</td>\n",
       "      <td>5447</td>\n",
       "      <td>1355507.929</td>\n",
       "    </tr>\n",
       "    <tr>\n",
       "      <th>3</th>\n",
       "      <td>4De1jAxNRABoyRBDZ82U0yEmzYkqeOugRGVNIf92Xb8=</td>\n",
       "      <td>28</td>\n",
       "      <td>female</td>\n",
       "      <td>9</td>\n",
       "      <td>0</td>\n",
       "      <td>36</td>\n",
       "      <td>30</td>\n",
       "      <td>180</td>\n",
       "      <td>180</td>\n",
       "      <td>1</td>\n",
       "      <td>69</td>\n",
       "      <td>19</td>\n",
       "      <td>10</td>\n",
       "      <td>14</td>\n",
       "      <td>321</td>\n",
       "      <td>275</td>\n",
       "      <td>84676.339</td>\n",
       "    </tr>\n",
       "    <tr>\n",
       "      <th>4</th>\n",
       "      <td>Z6WIOK9vXy+e2XDBiioNAxuZ0ScXSU/Ebq4tUwqVSrE=</td>\n",
       "      <td>38</td>\n",
       "      <td>female</td>\n",
       "      <td>9</td>\n",
       "      <td>0</td>\n",
       "      <td>40</td>\n",
       "      <td>30</td>\n",
       "      <td>149</td>\n",
       "      <td>149</td>\n",
       "      <td>1</td>\n",
       "      <td>701</td>\n",
       "      <td>526</td>\n",
       "      <td>244</td>\n",
       "      <td>216</td>\n",
       "      <td>1096</td>\n",
       "      <td>2558</td>\n",
       "      <td>410513.232</td>\n",
       "    </tr>\n",
       "    <tr>\n",
       "      <th>...</th>\n",
       "      <td>...</td>\n",
       "      <td>...</td>\n",
       "      <td>...</td>\n",
       "      <td>...</td>\n",
       "      <td>...</td>\n",
       "      <td>...</td>\n",
       "      <td>...</td>\n",
       "      <td>...</td>\n",
       "      <td>...</td>\n",
       "      <td>...</td>\n",
       "      <td>...</td>\n",
       "      <td>...</td>\n",
       "      <td>...</td>\n",
       "      <td>...</td>\n",
       "      <td>...</td>\n",
       "      <td>...</td>\n",
       "      <td>...</td>\n",
       "    </tr>\n",
       "    <tr>\n",
       "      <th>499995</th>\n",
       "      <td>rqi+w7JVQV1fqmo5y8z6FfSKOLc+NRyFIHcEonqwQG0=</td>\n",
       "      <td>0</td>\n",
       "      <td>NaN</td>\n",
       "      <td>7</td>\n",
       "      <td>0</td>\n",
       "      <td>41</td>\n",
       "      <td>30</td>\n",
       "      <td>149</td>\n",
       "      <td>149</td>\n",
       "      <td>1</td>\n",
       "      <td>544</td>\n",
       "      <td>70</td>\n",
       "      <td>44</td>\n",
       "      <td>38</td>\n",
       "      <td>1175</td>\n",
       "      <td>1319</td>\n",
       "      <td>319806.914</td>\n",
       "    </tr>\n",
       "    <tr>\n",
       "      <th>499996</th>\n",
       "      <td>LSHHqjquHtmfgiNOs5nyu+7LQsy29CylgjUmoQrBXh8=</td>\n",
       "      <td>0</td>\n",
       "      <td>female</td>\n",
       "      <td>9</td>\n",
       "      <td>0</td>\n",
       "      <td>40</td>\n",
       "      <td>30</td>\n",
       "      <td>149</td>\n",
       "      <td>149</td>\n",
       "      <td>1</td>\n",
       "      <td>838</td>\n",
       "      <td>239</td>\n",
       "      <td>92</td>\n",
       "      <td>100</td>\n",
       "      <td>1725</td>\n",
       "      <td>2209</td>\n",
       "      <td>500696.771</td>\n",
       "    </tr>\n",
       "    <tr>\n",
       "      <th>499997</th>\n",
       "      <td>m+DlDfXfc57sPTmlGoTWmSs0txANdlt57pgaz2SLL/w=</td>\n",
       "      <td>0</td>\n",
       "      <td>NaN</td>\n",
       "      <td>7</td>\n",
       "      <td>0</td>\n",
       "      <td>41</td>\n",
       "      <td>30</td>\n",
       "      <td>99</td>\n",
       "      <td>99</td>\n",
       "      <td>1</td>\n",
       "      <td>418</td>\n",
       "      <td>81</td>\n",
       "      <td>75</td>\n",
       "      <td>124</td>\n",
       "      <td>2614</td>\n",
       "      <td>1740</td>\n",
       "      <td>756817.019</td>\n",
       "    </tr>\n",
       "    <tr>\n",
       "      <th>499998</th>\n",
       "      <td>N4szCcTlAXxicMGF0kDIvO1qxKa6ftl9eJyabEBvE0s=</td>\n",
       "      <td>0</td>\n",
       "      <td>NaN</td>\n",
       "      <td>7</td>\n",
       "      <td>0</td>\n",
       "      <td>41</td>\n",
       "      <td>30</td>\n",
       "      <td>99</td>\n",
       "      <td>99</td>\n",
       "      <td>1</td>\n",
       "      <td>33</td>\n",
       "      <td>11</td>\n",
       "      <td>1</td>\n",
       "      <td>3</td>\n",
       "      <td>78</td>\n",
       "      <td>102</td>\n",
       "      <td>23308.854</td>\n",
       "    </tr>\n",
       "    <tr>\n",
       "      <th>499999</th>\n",
       "      <td>8YMmuuzR6w8CG++vixxIxsJyzpITSNW2xAJFk846Iw0=</td>\n",
       "      <td>0</td>\n",
       "      <td>NaN</td>\n",
       "      <td>7</td>\n",
       "      <td>0</td>\n",
       "      <td>41</td>\n",
       "      <td>30</td>\n",
       "      <td>99</td>\n",
       "      <td>99</td>\n",
       "      <td>1</td>\n",
       "      <td>989</td>\n",
       "      <td>241</td>\n",
       "      <td>140</td>\n",
       "      <td>123</td>\n",
       "      <td>3276</td>\n",
       "      <td>3610</td>\n",
       "      <td>903560.764</td>\n",
       "    </tr>\n",
       "  </tbody>\n",
       "</table>\n",
       "<p>500000 rows × 17 columns</p>\n",
       "</div>"
      ],
      "text/plain": [
       "                                                msno  bd  gender  \\\n",
       "0       yLkV2gbZ4GLFwqTOXLVHz0VGrMYcgBGgKZ3kj9RiYu8=  30    male   \n",
       "1       WH5Jq4mgtfUFXh2yz+HrcTXKS4Oess4k4W3qKolAeb0=  34    male   \n",
       "2       I0yFvqMoNkM8ZNHb617e1RBzIS/YRKemHO7Wj13EtA0=  63    male   \n",
       "3       4De1jAxNRABoyRBDZ82U0yEmzYkqeOugRGVNIf92Xb8=  28  female   \n",
       "4       Z6WIOK9vXy+e2XDBiioNAxuZ0ScXSU/Ebq4tUwqVSrE=  38  female   \n",
       "...                                              ...  ..     ...   \n",
       "499995  rqi+w7JVQV1fqmo5y8z6FfSKOLc+NRyFIHcEonqwQG0=   0     NaN   \n",
       "499996  LSHHqjquHtmfgiNOs5nyu+7LQsy29CylgjUmoQrBXh8=   0  female   \n",
       "499997  m+DlDfXfc57sPTmlGoTWmSs0txANdlt57pgaz2SLL/w=   0     NaN   \n",
       "499998  N4szCcTlAXxicMGF0kDIvO1qxKa6ftl9eJyabEBvE0s=   0     NaN   \n",
       "499999  8YMmuuzR6w8CG++vixxIxsJyzpITSNW2xAJFk846Iw0=   0     NaN   \n",
       "\n",
       "        registered_via  is_churn  payment_method_id  payment_plan_days  \\\n",
       "0                    9         0                 39                 30   \n",
       "1                    9         1                 32                180   \n",
       "2                    9         0                 40                 30   \n",
       "3                    9         0                 36                 30   \n",
       "4                    9         0                 40                 30   \n",
       "...                ...       ...                ...                ...   \n",
       "499995               7         0                 41                 30   \n",
       "499996               9         0                 40                 30   \n",
       "499997               7         0                 41                 30   \n",
       "499998               7         0                 41                 30   \n",
       "499999               7         0                 41                 30   \n",
       "\n",
       "        plan_list_price  actual_amount_paid  is_auto_renew  num_25  num_50  \\\n",
       "0                   149                 149              1      63      14   \n",
       "1                   536                 536              0     125      71   \n",
       "2                   149                 149              1    1096     359   \n",
       "3                   180                 180              1      69      19   \n",
       "4                   149                 149              1     701     526   \n",
       "...                 ...                 ...            ...     ...     ...   \n",
       "499995              149                 149              1     544      70   \n",
       "499996              149                 149              1     838     239   \n",
       "499997               99                  99              1     418      81   \n",
       "499998               99                  99              1      33      11   \n",
       "499999               99                  99              1     989     241   \n",
       "\n",
       "        num_75  num_985  num_100  num_unq   total_secs  \n",
       "0           10       33      140      220    47839.952  \n",
       "1           45       36     1545     1020   410099.424  \n",
       "2          233      282     4734     5447  1355507.929  \n",
       "3           10       14      321      275    84676.339  \n",
       "4          244      216     1096     2558   410513.232  \n",
       "...        ...      ...      ...      ...          ...  \n",
       "499995      44       38     1175     1319   319806.914  \n",
       "499996      92      100     1725     2209   500696.771  \n",
       "499997      75      124     2614     1740   756817.019  \n",
       "499998       1        3       78      102    23308.854  \n",
       "499999     140      123     3276     3610   903560.764  \n",
       "\n",
       "[500000 rows x 17 columns]"
      ]
     },
     "execution_count": 6,
     "metadata": {},
     "output_type": "execute_result"
    }
   ],
   "source": [
    "df_kkbox"
   ]
  },
  {
   "cell_type": "code",
   "execution_count": 8,
   "id": "c353a72e",
   "metadata": {},
   "outputs": [
    {
     "data": {
      "text/plain": [
       "<matplotlib.axes._subplots.AxesSubplot at 0x20103a22d30>"
      ]
     },
     "execution_count": 8,
     "metadata": {},
     "output_type": "execute_result"
    },
    {
     "data": {
      "image/png": "[encoded data removed]",
      "text/plain": [
       "<Figure size 1800x720 with 2 Axes>"
      ]
     },
     "metadata": {
      "needs_background": "light"
     },
     "output_type": "display_data"
    }
   ],
   "source": [
    "msno.matrix(df_kkbox)"
   ]
  }
 ],
 "metadata": {
  "kernelspec": {
   "display_name": "python_env_v2",
   "language": "python",
   "name": "python_env_v2"
  },
  "language_info": {
   "codemirror_mode": {
    "name": "ipython",
    "version": 3
   },
   "file_extension": ".py",
   "mimetype": "text/x-python",
   "name": "python",
   "nbconvert_exporter": "python",
   "pygments_lexer": "ipython3",
   "version": "3.6.9"
  },
  "toc": {
   "base_numbering": 1,
   "nav_menu": {},
   "number_sections": true,
   "sideBar": true,
   "skip_h1_title": false,
   "title_cell": "Table of Contents",
   "title_sidebar": "Contents",
   "toc_cell": false,
   "toc_position": {},
   "toc_section_display": true,
   "toc_window_display": true
  }
 },
 "nbformat": 4,
 "nbformat_minor": 5
}
